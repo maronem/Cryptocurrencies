{
 "cells": [
  {
   "cell_type": "markdown",
   "metadata": {},
   "source": [
    "# Clustering Crypto"
   ]
  },
  {
   "cell_type": "code",
   "execution_count": 15,
   "metadata": {},
   "outputs": [],
   "source": [
    "# Initial imports\n",
    "import pandas as pd\n",
    "import hvplot.pandas\n",
    "from pathlib import Path\n",
    "import plotly.express as px\n",
    "from sklearn.preprocessing import StandardScaler, MinMaxScaler\n",
    "from sklearn.decomposition import PCA\n",
    "from sklearn.cluster import KMeans\n"
   ]
  },
  {
   "cell_type": "markdown",
   "metadata": {},
   "source": [
    "### Deliverable 1: Preprocessing the Data for PCA"
   ]
  },
  {
   "cell_type": "code",
   "execution_count": 55,
   "metadata": {},
   "outputs": [
    {
     "data": {
      "text/html": [
       "<div>\n",
       "<style scoped>\n",
       "    .dataframe tbody tr th:only-of-type {\n",
       "        vertical-align: middle;\n",
       "    }\n",
       "\n",
       "    .dataframe tbody tr th {\n",
       "        vertical-align: top;\n",
       "    }\n",
       "\n",
       "    .dataframe thead th {\n",
       "        text-align: right;\n",
       "    }\n",
       "</style>\n",
       "<table border=\"1\" class=\"dataframe\">\n",
       "  <thead>\n",
       "    <tr style=\"text-align: right;\">\n",
       "      <th></th>\n",
       "      <th>CoinName</th>\n",
       "      <th>Algorithm</th>\n",
       "      <th>IsTrading</th>\n",
       "      <th>ProofType</th>\n",
       "      <th>TotalCoinsMined</th>\n",
       "      <th>TotalCoinSupply</th>\n",
       "    </tr>\n",
       "  </thead>\n",
       "  <tbody>\n",
       "    <tr>\n",
       "      <th>42</th>\n",
       "      <td>42 Coin</td>\n",
       "      <td>Scrypt</td>\n",
       "      <td>True</td>\n",
       "      <td>PoW/PoS</td>\n",
       "      <td>4.199995e+01</td>\n",
       "      <td>42</td>\n",
       "    </tr>\n",
       "    <tr>\n",
       "      <th>365</th>\n",
       "      <td>365Coin</td>\n",
       "      <td>X11</td>\n",
       "      <td>True</td>\n",
       "      <td>PoW/PoS</td>\n",
       "      <td>NaN</td>\n",
       "      <td>2300000000</td>\n",
       "    </tr>\n",
       "    <tr>\n",
       "      <th>404</th>\n",
       "      <td>404Coin</td>\n",
       "      <td>Scrypt</td>\n",
       "      <td>True</td>\n",
       "      <td>PoW/PoS</td>\n",
       "      <td>1.055185e+09</td>\n",
       "      <td>532000000</td>\n",
       "    </tr>\n",
       "    <tr>\n",
       "      <th>611</th>\n",
       "      <td>SixEleven</td>\n",
       "      <td>SHA-256</td>\n",
       "      <td>True</td>\n",
       "      <td>PoW</td>\n",
       "      <td>NaN</td>\n",
       "      <td>611000</td>\n",
       "    </tr>\n",
       "    <tr>\n",
       "      <th>808</th>\n",
       "      <td>808</td>\n",
       "      <td>SHA-256</td>\n",
       "      <td>True</td>\n",
       "      <td>PoW/PoS</td>\n",
       "      <td>0.000000e+00</td>\n",
       "      <td>0</td>\n",
       "    </tr>\n",
       "  </tbody>\n",
       "</table>\n",
       "</div>"
      ],
      "text/plain": [
       "      CoinName Algorithm  IsTrading ProofType  TotalCoinsMined TotalCoinSupply\n",
       "42     42 Coin    Scrypt       True   PoW/PoS     4.199995e+01              42\n",
       "365    365Coin       X11       True   PoW/PoS              NaN      2300000000\n",
       "404    404Coin    Scrypt       True   PoW/PoS     1.055185e+09       532000000\n",
       "611  SixEleven   SHA-256       True       PoW              NaN          611000\n",
       "808        808   SHA-256       True   PoW/PoS     0.000000e+00               0"
      ]
     },
     "execution_count": 55,
     "metadata": {},
     "output_type": "execute_result"
    }
   ],
   "source": [
    "# Load the crypto_data.csv dataset.\n",
    "file_path = \"../Cryptocurrencies/crypto_data.csv\"\n",
    "crypto_df = pd.read_csv(file_path, index_col=0)\n",
    "crypto_df.head()"
   ]
  },
  {
   "cell_type": "code",
   "execution_count": 56,
   "metadata": {},
   "outputs": [
    {
     "data": {
      "text/html": [
       "<div>\n",
       "<style scoped>\n",
       "    .dataframe tbody tr th:only-of-type {\n",
       "        vertical-align: middle;\n",
       "    }\n",
       "\n",
       "    .dataframe tbody tr th {\n",
       "        vertical-align: top;\n",
       "    }\n",
       "\n",
       "    .dataframe thead th {\n",
       "        text-align: right;\n",
       "    }\n",
       "</style>\n",
       "<table border=\"1\" class=\"dataframe\">\n",
       "  <thead>\n",
       "    <tr style=\"text-align: right;\">\n",
       "      <th></th>\n",
       "      <th>CoinName</th>\n",
       "      <th>Algorithm</th>\n",
       "      <th>ProofType</th>\n",
       "      <th>TotalCoinsMined</th>\n",
       "      <th>TotalCoinSupply</th>\n",
       "    </tr>\n",
       "  </thead>\n",
       "  <tbody>\n",
       "    <tr>\n",
       "      <th>42</th>\n",
       "      <td>42 Coin</td>\n",
       "      <td>Scrypt</td>\n",
       "      <td>PoW/PoS</td>\n",
       "      <td>4.199995e+01</td>\n",
       "      <td>42</td>\n",
       "    </tr>\n",
       "    <tr>\n",
       "      <th>365</th>\n",
       "      <td>365Coin</td>\n",
       "      <td>X11</td>\n",
       "      <td>PoW/PoS</td>\n",
       "      <td>NaN</td>\n",
       "      <td>2300000000</td>\n",
       "    </tr>\n",
       "    <tr>\n",
       "      <th>404</th>\n",
       "      <td>404Coin</td>\n",
       "      <td>Scrypt</td>\n",
       "      <td>PoW/PoS</td>\n",
       "      <td>1.055185e+09</td>\n",
       "      <td>532000000</td>\n",
       "    </tr>\n",
       "    <tr>\n",
       "      <th>611</th>\n",
       "      <td>SixEleven</td>\n",
       "      <td>SHA-256</td>\n",
       "      <td>PoW</td>\n",
       "      <td>NaN</td>\n",
       "      <td>611000</td>\n",
       "    </tr>\n",
       "    <tr>\n",
       "      <th>808</th>\n",
       "      <td>808</td>\n",
       "      <td>SHA-256</td>\n",
       "      <td>PoW/PoS</td>\n",
       "      <td>0.000000e+00</td>\n",
       "      <td>0</td>\n",
       "    </tr>\n",
       "  </tbody>\n",
       "</table>\n",
       "</div>"
      ],
      "text/plain": [
       "      CoinName Algorithm ProofType  TotalCoinsMined TotalCoinSupply\n",
       "42     42 Coin    Scrypt   PoW/PoS     4.199995e+01              42\n",
       "365    365Coin       X11   PoW/PoS              NaN      2300000000\n",
       "404    404Coin    Scrypt   PoW/PoS     1.055185e+09       532000000\n",
       "611  SixEleven   SHA-256       PoW              NaN          611000\n",
       "808        808   SHA-256   PoW/PoS     0.000000e+00               0"
      ]
     },
     "execution_count": 56,
     "metadata": {},
     "output_type": "execute_result"
    }
   ],
   "source": [
    "# Keep all the cryptocurrencies that are being traded.\n",
    "crypto_df = crypto_df.drop([\"IsTrading\"], axis=1)\n",
    "crypto_df.head()"
   ]
  },
  {
   "cell_type": "code",
   "execution_count": 57,
   "metadata": {},
   "outputs": [
    {
     "name": "stdout",
     "output_type": "stream",
     "text": [
      "Column CoinName has 0 null values\n",
      "Column Algorithm has 0 null values\n",
      "Column ProofType has 0 null values\n",
      "Column TotalCoinsMined has 508 null values\n",
      "Column TotalCoinSupply has 0 null values\n"
     ]
    }
   ],
   "source": [
    "# Keep all the cryptocurrencies that have a working algorithm.\n",
    "\n",
    "for column in crypto_df:\n",
    "    print(f\"Column {column} has {crypto_df[column].isnull().sum()} null values\")"
   ]
  },
  {
   "cell_type": "code",
   "execution_count": 58,
   "metadata": {},
   "outputs": [
    {
     "data": {
      "text/html": [
       "<div>\n",
       "<style scoped>\n",
       "    .dataframe tbody tr th:only-of-type {\n",
       "        vertical-align: middle;\n",
       "    }\n",
       "\n",
       "    .dataframe tbody tr th {\n",
       "        vertical-align: top;\n",
       "    }\n",
       "\n",
       "    .dataframe thead th {\n",
       "        text-align: right;\n",
       "    }\n",
       "</style>\n",
       "<table border=\"1\" class=\"dataframe\">\n",
       "  <thead>\n",
       "    <tr style=\"text-align: right;\">\n",
       "      <th></th>\n",
       "      <th>CoinName</th>\n",
       "      <th>Algorithm</th>\n",
       "      <th>ProofType</th>\n",
       "      <th>TotalCoinsMined</th>\n",
       "      <th>TotalCoinSupply</th>\n",
       "    </tr>\n",
       "  </thead>\n",
       "  <tbody>\n",
       "    <tr>\n",
       "      <th>42</th>\n",
       "      <td>42 Coin</td>\n",
       "      <td>Scrypt</td>\n",
       "      <td>PoW/PoS</td>\n",
       "      <td>4.199995e+01</td>\n",
       "      <td>42</td>\n",
       "    </tr>\n",
       "    <tr>\n",
       "      <th>404</th>\n",
       "      <td>404Coin</td>\n",
       "      <td>Scrypt</td>\n",
       "      <td>PoW/PoS</td>\n",
       "      <td>1.055185e+09</td>\n",
       "      <td>532000000</td>\n",
       "    </tr>\n",
       "    <tr>\n",
       "      <th>808</th>\n",
       "      <td>808</td>\n",
       "      <td>SHA-256</td>\n",
       "      <td>PoW/PoS</td>\n",
       "      <td>0.000000e+00</td>\n",
       "      <td>0</td>\n",
       "    </tr>\n",
       "    <tr>\n",
       "      <th>1337</th>\n",
       "      <td>EliteCoin</td>\n",
       "      <td>X13</td>\n",
       "      <td>PoW/PoS</td>\n",
       "      <td>2.927942e+10</td>\n",
       "      <td>314159265359</td>\n",
       "    </tr>\n",
       "    <tr>\n",
       "      <th>BTC</th>\n",
       "      <td>Bitcoin</td>\n",
       "      <td>SHA-256</td>\n",
       "      <td>PoW</td>\n",
       "      <td>1.792718e+07</td>\n",
       "      <td>21000000</td>\n",
       "    </tr>\n",
       "  </tbody>\n",
       "</table>\n",
       "</div>"
      ],
      "text/plain": [
       "       CoinName Algorithm ProofType  TotalCoinsMined TotalCoinSupply\n",
       "42      42 Coin    Scrypt   PoW/PoS     4.199995e+01              42\n",
       "404     404Coin    Scrypt   PoW/PoS     1.055185e+09       532000000\n",
       "808         808   SHA-256   PoW/PoS     0.000000e+00               0\n",
       "1337  EliteCoin       X13   PoW/PoS     2.927942e+10    314159265359\n",
       "BTC     Bitcoin   SHA-256       PoW     1.792718e+07        21000000"
      ]
     },
     "execution_count": 58,
     "metadata": {},
     "output_type": "execute_result"
    }
   ],
   "source": [
    "# Keep all the cryptocurrencies that have a working algorithm.\n",
    "crypto_df = crypto_df.dropna()\n",
    "crypto_df.head()"
   ]
  },
  {
   "cell_type": "code",
   "execution_count": 59,
   "metadata": {},
   "outputs": [
    {
     "name": "stdout",
     "output_type": "stream",
     "text": [
      "Column CoinName has 0 null values\n",
      "Column Algorithm has 0 null values\n",
      "Column ProofType has 0 null values\n",
      "Column TotalCoinsMined has 0 null values\n",
      "Column TotalCoinSupply has 0 null values\n"
     ]
    }
   ],
   "source": [
    "# Confirm null values removed\n",
    "for column in crypto_df:\n",
    "    print(f\"Column {column} has {crypto_df[column].isnull().sum()} null values\")"
   ]
  },
  {
   "cell_type": "code",
   "execution_count": 60,
   "metadata": {},
   "outputs": [
    {
     "data": {
      "text/html": [
       "<div>\n",
       "<style scoped>\n",
       "    .dataframe tbody tr th:only-of-type {\n",
       "        vertical-align: middle;\n",
       "    }\n",
       "\n",
       "    .dataframe tbody tr th {\n",
       "        vertical-align: top;\n",
       "    }\n",
       "\n",
       "    .dataframe thead th {\n",
       "        text-align: right;\n",
       "    }\n",
       "</style>\n",
       "<table border=\"1\" class=\"dataframe\">\n",
       "  <thead>\n",
       "    <tr style=\"text-align: right;\">\n",
       "      <th></th>\n",
       "      <th>CoinName</th>\n",
       "      <th>Algorithm</th>\n",
       "      <th>ProofType</th>\n",
       "      <th>TotalCoinsMined</th>\n",
       "      <th>TotalCoinSupply</th>\n",
       "    </tr>\n",
       "  </thead>\n",
       "  <tbody>\n",
       "    <tr>\n",
       "      <th>42</th>\n",
       "      <td>42 Coin</td>\n",
       "      <td>Scrypt</td>\n",
       "      <td>PoW/PoS</td>\n",
       "      <td>4.199995e+01</td>\n",
       "      <td>42</td>\n",
       "    </tr>\n",
       "    <tr>\n",
       "      <th>404</th>\n",
       "      <td>404Coin</td>\n",
       "      <td>Scrypt</td>\n",
       "      <td>PoW/PoS</td>\n",
       "      <td>1.055185e+09</td>\n",
       "      <td>532000000</td>\n",
       "    </tr>\n",
       "    <tr>\n",
       "      <th>1337</th>\n",
       "      <td>EliteCoin</td>\n",
       "      <td>X13</td>\n",
       "      <td>PoW/PoS</td>\n",
       "      <td>2.927942e+10</td>\n",
       "      <td>314159265359</td>\n",
       "    </tr>\n",
       "    <tr>\n",
       "      <th>BTC</th>\n",
       "      <td>Bitcoin</td>\n",
       "      <td>SHA-256</td>\n",
       "      <td>PoW</td>\n",
       "      <td>1.792718e+07</td>\n",
       "      <td>21000000</td>\n",
       "    </tr>\n",
       "    <tr>\n",
       "      <th>ETH</th>\n",
       "      <td>Ethereum</td>\n",
       "      <td>Ethash</td>\n",
       "      <td>PoW</td>\n",
       "      <td>1.076842e+08</td>\n",
       "      <td>0</td>\n",
       "    </tr>\n",
       "  </tbody>\n",
       "</table>\n",
       "</div>"
      ],
      "text/plain": [
       "       CoinName Algorithm ProofType  TotalCoinsMined TotalCoinSupply\n",
       "42      42 Coin    Scrypt   PoW/PoS     4.199995e+01              42\n",
       "404     404Coin    Scrypt   PoW/PoS     1.055185e+09       532000000\n",
       "1337  EliteCoin       X13   PoW/PoS     2.927942e+10    314159265359\n",
       "BTC     Bitcoin   SHA-256       PoW     1.792718e+07        21000000\n",
       "ETH    Ethereum    Ethash       PoW     1.076842e+08               0"
      ]
     },
     "execution_count": 60,
     "metadata": {},
     "output_type": "execute_result"
    }
   ],
   "source": [
    "# Keep the rows where coins are mined.\n",
    "\n",
    "crypto_df = crypto_df[crypto_df[\"TotalCoinsMined\"] != 0]\n",
    "crypto_df.head()"
   ]
  },
  {
   "cell_type": "code",
   "execution_count": 61,
   "metadata": {},
   "outputs": [
    {
     "data": {
      "text/plain": [
       "42        42 Coin\n",
       "404       404Coin\n",
       "1337    EliteCoin\n",
       "BTC       Bitcoin\n",
       "ETH      Ethereum\n",
       "Name: CoinName, dtype: object"
      ]
     },
     "execution_count": 61,
     "metadata": {},
     "output_type": "execute_result"
    }
   ],
   "source": [
    "# Create a new DataFrame that holds only the cryptocurrencies names.\n",
    "\n",
    "coin_names = crypto_df[\"CoinName\"]\n",
    "coin_names.head()"
   ]
  },
  {
   "cell_type": "code",
   "execution_count": 62,
   "metadata": {},
   "outputs": [],
   "source": [
    "# Drop the 'CoinName' column since it's not going to be used on the clustering algorithm.\n",
    "\n",
    "crypto_df = crypto_df.drop([\"CoinName\"], axis=1)"
   ]
  },
  {
   "cell_type": "code",
   "execution_count": 64,
   "metadata": {},
   "outputs": [
    {
     "data": {
      "text/html": [
       "<div>\n",
       "<style scoped>\n",
       "    .dataframe tbody tr th:only-of-type {\n",
       "        vertical-align: middle;\n",
       "    }\n",
       "\n",
       "    .dataframe tbody tr th {\n",
       "        vertical-align: top;\n",
       "    }\n",
       "\n",
       "    .dataframe thead th {\n",
       "        text-align: right;\n",
       "    }\n",
       "</style>\n",
       "<table border=\"1\" class=\"dataframe\">\n",
       "  <thead>\n",
       "    <tr style=\"text-align: right;\">\n",
       "      <th></th>\n",
       "      <th>Algorithm</th>\n",
       "      <th>ProofType</th>\n",
       "      <th>TotalCoinsMined</th>\n",
       "      <th>TotalCoinSupply</th>\n",
       "    </tr>\n",
       "  </thead>\n",
       "  <tbody>\n",
       "    <tr>\n",
       "      <th>42</th>\n",
       "      <td>Scrypt</td>\n",
       "      <td>PoW/PoS</td>\n",
       "      <td>4.199995e+01</td>\n",
       "      <td>42</td>\n",
       "    </tr>\n",
       "    <tr>\n",
       "      <th>404</th>\n",
       "      <td>Scrypt</td>\n",
       "      <td>PoW/PoS</td>\n",
       "      <td>1.055185e+09</td>\n",
       "      <td>532000000</td>\n",
       "    </tr>\n",
       "    <tr>\n",
       "      <th>1337</th>\n",
       "      <td>X13</td>\n",
       "      <td>PoW/PoS</td>\n",
       "      <td>2.927942e+10</td>\n",
       "      <td>314159265359</td>\n",
       "    </tr>\n",
       "    <tr>\n",
       "      <th>BTC</th>\n",
       "      <td>SHA-256</td>\n",
       "      <td>PoW</td>\n",
       "      <td>1.792718e+07</td>\n",
       "      <td>21000000</td>\n",
       "    </tr>\n",
       "    <tr>\n",
       "      <th>ETH</th>\n",
       "      <td>Ethash</td>\n",
       "      <td>PoW</td>\n",
       "      <td>1.076842e+08</td>\n",
       "      <td>0</td>\n",
       "    </tr>\n",
       "    <tr>\n",
       "      <th>LTC</th>\n",
       "      <td>Scrypt</td>\n",
       "      <td>PoW</td>\n",
       "      <td>6.303924e+07</td>\n",
       "      <td>84000000</td>\n",
       "    </tr>\n",
       "    <tr>\n",
       "      <th>DASH</th>\n",
       "      <td>X11</td>\n",
       "      <td>PoW/PoS</td>\n",
       "      <td>9.031294e+06</td>\n",
       "      <td>22000000</td>\n",
       "    </tr>\n",
       "    <tr>\n",
       "      <th>XMR</th>\n",
       "      <td>CryptoNight-V7</td>\n",
       "      <td>PoW</td>\n",
       "      <td>1.720114e+07</td>\n",
       "      <td>0</td>\n",
       "    </tr>\n",
       "    <tr>\n",
       "      <th>ETC</th>\n",
       "      <td>Ethash</td>\n",
       "      <td>PoW</td>\n",
       "      <td>1.133597e+08</td>\n",
       "      <td>210000000</td>\n",
       "    </tr>\n",
       "    <tr>\n",
       "      <th>ZEC</th>\n",
       "      <td>Equihash</td>\n",
       "      <td>PoW</td>\n",
       "      <td>7.383056e+06</td>\n",
       "      <td>21000000</td>\n",
       "    </tr>\n",
       "  </tbody>\n",
       "</table>\n",
       "</div>"
      ],
      "text/plain": [
       "           Algorithm ProofType  TotalCoinsMined TotalCoinSupply\n",
       "42            Scrypt   PoW/PoS     4.199995e+01              42\n",
       "404           Scrypt   PoW/PoS     1.055185e+09       532000000\n",
       "1337             X13   PoW/PoS     2.927942e+10    314159265359\n",
       "BTC          SHA-256       PoW     1.792718e+07        21000000\n",
       "ETH           Ethash       PoW     1.076842e+08               0\n",
       "LTC           Scrypt       PoW     6.303924e+07        84000000\n",
       "DASH             X11   PoW/PoS     9.031294e+06        22000000\n",
       "XMR   CryptoNight-V7       PoW     1.720114e+07               0\n",
       "ETC           Ethash       PoW     1.133597e+08       210000000\n",
       "ZEC         Equihash       PoW     7.383056e+06        21000000"
      ]
     },
     "execution_count": 64,
     "metadata": {},
     "output_type": "execute_result"
    }
   ],
   "source": [
    "crypto_df.head(10)"
   ]
  },
  {
   "cell_type": "code",
   "execution_count": 69,
   "metadata": {},
   "outputs": [
    {
     "data": {
      "text/html": [
       "<div>\n",
       "<style scoped>\n",
       "    .dataframe tbody tr th:only-of-type {\n",
       "        vertical-align: middle;\n",
       "    }\n",
       "\n",
       "    .dataframe tbody tr th {\n",
       "        vertical-align: top;\n",
       "    }\n",
       "\n",
       "    .dataframe thead th {\n",
       "        text-align: right;\n",
       "    }\n",
       "</style>\n",
       "<table border=\"1\" class=\"dataframe\">\n",
       "  <thead>\n",
       "    <tr style=\"text-align: right;\">\n",
       "      <th></th>\n",
       "      <th>TotalCoinsMined</th>\n",
       "      <th>TotalCoinSupply</th>\n",
       "      <th>Algorithm_1GB AES Pattern Search</th>\n",
       "      <th>Algorithm_536</th>\n",
       "      <th>Algorithm_Argon2d</th>\n",
       "      <th>Algorithm_BLAKE256</th>\n",
       "      <th>Algorithm_Blake</th>\n",
       "      <th>Algorithm_Blake2S</th>\n",
       "      <th>Algorithm_Blake2b</th>\n",
       "      <th>Algorithm_C11</th>\n",
       "      <th>...</th>\n",
       "      <th>ProofType_PoW/PoS</th>\n",
       "      <th>ProofType_PoW/PoS</th>\n",
       "      <th>ProofType_PoW/PoW</th>\n",
       "      <th>ProofType_PoW/nPoS</th>\n",
       "      <th>ProofType_Pos</th>\n",
       "      <th>ProofType_Proof of Authority</th>\n",
       "      <th>ProofType_Proof of Trust</th>\n",
       "      <th>ProofType_TPoS</th>\n",
       "      <th>ProofType_Zero-Knowledge Proof</th>\n",
       "      <th>ProofType_dPoW/PoW</th>\n",
       "    </tr>\n",
       "  </thead>\n",
       "  <tbody>\n",
       "    <tr>\n",
       "      <th>42</th>\n",
       "      <td>4.199995e+01</td>\n",
       "      <td>42</td>\n",
       "      <td>0</td>\n",
       "      <td>0</td>\n",
       "      <td>0</td>\n",
       "      <td>0</td>\n",
       "      <td>0</td>\n",
       "      <td>0</td>\n",
       "      <td>0</td>\n",
       "      <td>0</td>\n",
       "      <td>...</td>\n",
       "      <td>1</td>\n",
       "      <td>0</td>\n",
       "      <td>0</td>\n",
       "      <td>0</td>\n",
       "      <td>0</td>\n",
       "      <td>0</td>\n",
       "      <td>0</td>\n",
       "      <td>0</td>\n",
       "      <td>0</td>\n",
       "      <td>0</td>\n",
       "    </tr>\n",
       "    <tr>\n",
       "      <th>404</th>\n",
       "      <td>1.055185e+09</td>\n",
       "      <td>532000000</td>\n",
       "      <td>0</td>\n",
       "      <td>0</td>\n",
       "      <td>0</td>\n",
       "      <td>0</td>\n",
       "      <td>0</td>\n",
       "      <td>0</td>\n",
       "      <td>0</td>\n",
       "      <td>0</td>\n",
       "      <td>...</td>\n",
       "      <td>1</td>\n",
       "      <td>0</td>\n",
       "      <td>0</td>\n",
       "      <td>0</td>\n",
       "      <td>0</td>\n",
       "      <td>0</td>\n",
       "      <td>0</td>\n",
       "      <td>0</td>\n",
       "      <td>0</td>\n",
       "      <td>0</td>\n",
       "    </tr>\n",
       "    <tr>\n",
       "      <th>1337</th>\n",
       "      <td>2.927942e+10</td>\n",
       "      <td>314159265359</td>\n",
       "      <td>0</td>\n",
       "      <td>0</td>\n",
       "      <td>0</td>\n",
       "      <td>0</td>\n",
       "      <td>0</td>\n",
       "      <td>0</td>\n",
       "      <td>0</td>\n",
       "      <td>0</td>\n",
       "      <td>...</td>\n",
       "      <td>1</td>\n",
       "      <td>0</td>\n",
       "      <td>0</td>\n",
       "      <td>0</td>\n",
       "      <td>0</td>\n",
       "      <td>0</td>\n",
       "      <td>0</td>\n",
       "      <td>0</td>\n",
       "      <td>0</td>\n",
       "      <td>0</td>\n",
       "    </tr>\n",
       "    <tr>\n",
       "      <th>BTC</th>\n",
       "      <td>1.792718e+07</td>\n",
       "      <td>21000000</td>\n",
       "      <td>0</td>\n",
       "      <td>0</td>\n",
       "      <td>0</td>\n",
       "      <td>0</td>\n",
       "      <td>0</td>\n",
       "      <td>0</td>\n",
       "      <td>0</td>\n",
       "      <td>0</td>\n",
       "      <td>...</td>\n",
       "      <td>0</td>\n",
       "      <td>0</td>\n",
       "      <td>0</td>\n",
       "      <td>0</td>\n",
       "      <td>0</td>\n",
       "      <td>0</td>\n",
       "      <td>0</td>\n",
       "      <td>0</td>\n",
       "      <td>0</td>\n",
       "      <td>0</td>\n",
       "    </tr>\n",
       "    <tr>\n",
       "      <th>ETH</th>\n",
       "      <td>1.076842e+08</td>\n",
       "      <td>0</td>\n",
       "      <td>0</td>\n",
       "      <td>0</td>\n",
       "      <td>0</td>\n",
       "      <td>0</td>\n",
       "      <td>0</td>\n",
       "      <td>0</td>\n",
       "      <td>0</td>\n",
       "      <td>0</td>\n",
       "      <td>...</td>\n",
       "      <td>0</td>\n",
       "      <td>0</td>\n",
       "      <td>0</td>\n",
       "      <td>0</td>\n",
       "      <td>0</td>\n",
       "      <td>0</td>\n",
       "      <td>0</td>\n",
       "      <td>0</td>\n",
       "      <td>0</td>\n",
       "      <td>0</td>\n",
       "    </tr>\n",
       "  </tbody>\n",
       "</table>\n",
       "<p>5 rows × 103 columns</p>\n",
       "</div>"
      ],
      "text/plain": [
       "      TotalCoinsMined TotalCoinSupply  Algorithm_1GB AES Pattern Search  \\\n",
       "42       4.199995e+01              42                                 0   \n",
       "404      1.055185e+09       532000000                                 0   \n",
       "1337     2.927942e+10    314159265359                                 0   \n",
       "BTC      1.792718e+07        21000000                                 0   \n",
       "ETH      1.076842e+08               0                                 0   \n",
       "\n",
       "      Algorithm_536  Algorithm_Argon2d  Algorithm_BLAKE256  Algorithm_Blake  \\\n",
       "42                0                  0                   0                0   \n",
       "404               0                  0                   0                0   \n",
       "1337              0                  0                   0                0   \n",
       "BTC               0                  0                   0                0   \n",
       "ETH               0                  0                   0                0   \n",
       "\n",
       "      Algorithm_Blake2S  Algorithm_Blake2b  Algorithm_C11  ...  \\\n",
       "42                    0                  0              0  ...   \n",
       "404                   0                  0              0  ...   \n",
       "1337                  0                  0              0  ...   \n",
       "BTC                   0                  0              0  ...   \n",
       "ETH                   0                  0              0  ...   \n",
       "\n",
       "      ProofType_PoW/PoS  ProofType_PoW/PoS   ProofType_PoW/PoW  \\\n",
       "42                    1                   0                  0   \n",
       "404                   1                   0                  0   \n",
       "1337                  1                   0                  0   \n",
       "BTC                   0                   0                  0   \n",
       "ETH                   0                   0                  0   \n",
       "\n",
       "      ProofType_PoW/nPoS  ProofType_Pos  ProofType_Proof of Authority  \\\n",
       "42                     0              0                             0   \n",
       "404                    0              0                             0   \n",
       "1337                   0              0                             0   \n",
       "BTC                    0              0                             0   \n",
       "ETH                    0              0                             0   \n",
       "\n",
       "      ProofType_Proof of Trust  ProofType_TPoS  \\\n",
       "42                           0               0   \n",
       "404                          0               0   \n",
       "1337                         0               0   \n",
       "BTC                          0               0   \n",
       "ETH                          0               0   \n",
       "\n",
       "      ProofType_Zero-Knowledge Proof  ProofType_dPoW/PoW  \n",
       "42                                 0                   0  \n",
       "404                                0                   0  \n",
       "1337                               0                   0  \n",
       "BTC                                0                   0  \n",
       "ETH                                0                   0  \n",
       "\n",
       "[5 rows x 103 columns]"
      ]
     },
     "execution_count": 69,
     "metadata": {},
     "output_type": "execute_result"
    }
   ],
   "source": [
    "# Use get_dummies() to create variables for text features.\n",
    "\n",
    "x = pd.get_dummies(crypto_df, columns=[\"Algorithm\", \"ProofType\"])\n",
    "x.head()"
   ]
  },
  {
   "cell_type": "code",
   "execution_count": 70,
   "metadata": {},
   "outputs": [
    {
     "data": {
      "text/plain": [
       "array([[-0.11416167, -0.15072664, -0.04163054, -0.04163054, -0.04163054,\n",
       "        -0.05892557, -0.09341308, -0.04163054, -0.05892557, -0.05892557,\n",
       "        -0.04163054, -0.04163054, -0.18932061, -0.05892557, -0.09341308,\n",
       "        -0.04163054, -0.11072125, -0.07223151, -0.04163054, -0.04163054,\n",
       "        -0.15168668, -0.04163054, -0.13268622, -0.04163054, -0.04163054,\n",
       "        -0.08347839, -0.05892557, -0.04163054, -0.04163054, -0.04163054,\n",
       "        -0.05892557, -0.04163054, -0.08347839, -0.09341308, -0.10241831,\n",
       "        -0.04163054, -0.12576654, -0.13268622, -0.15168668, -0.04163054,\n",
       "        -0.08347839, -0.04163054, -0.04163054, -0.07223151, -0.17407766,\n",
       "        -0.04163054, -0.04163054, -0.04163054, -0.07223151, -0.16872982,\n",
       "        -0.30772873, -0.04163054, -0.09341308, -0.09341308, -0.05892557,\n",
       "        -0.04163054,  1.40146444, -0.04163054, -0.04163054, -0.04163054,\n",
       "        -0.08347839, -0.04163054, -0.04163054, -0.04163054, -0.04163054,\n",
       "        -0.04163054, -0.05892557, -0.04163054, -0.04163054, -0.39496835,\n",
       "        -0.04163054, -0.17407766, -0.04163054, -0.08347839, -0.08347839,\n",
       "        -0.10241831, -0.04163054, -0.04163054, -0.12576654, -0.04163054,\n",
       "        -0.04163054, -0.04163054, -0.04163054, -0.04163054, -0.07223151,\n",
       "        -0.4434945 , -0.04163054, -0.05892557, -0.04163054, -0.04163054,\n",
       "        -0.88852332, -0.04163054, -0.04163054,  1.41238049, -0.04163054,\n",
       "        -0.04163054, -0.04163054, -0.04163054, -0.04163054, -0.04163054,\n",
       "        -0.04163054, -0.04163054, -0.04163054],\n",
       "       [-0.09006124, -0.142553  , -0.04163054, -0.04163054, -0.04163054,\n",
       "        -0.05892557, -0.09341308, -0.04163054, -0.05892557, -0.05892557,\n",
       "        -0.04163054, -0.04163054, -0.18932061, -0.05892557, -0.09341308,\n",
       "        -0.04163054, -0.11072125, -0.07223151, -0.04163054, -0.04163054,\n",
       "        -0.15168668, -0.04163054, -0.13268622, -0.04163054, -0.04163054,\n",
       "        -0.08347839, -0.05892557, -0.04163054, -0.04163054, -0.04163054,\n",
       "        -0.05892557, -0.04163054, -0.08347839, -0.09341308, -0.10241831,\n",
       "        -0.04163054, -0.12576654, -0.13268622, -0.15168668, -0.04163054,\n",
       "        -0.08347839, -0.04163054, -0.04163054, -0.07223151, -0.17407766,\n",
       "        -0.04163054, -0.04163054, -0.04163054, -0.07223151, -0.16872982,\n",
       "        -0.30772873, -0.04163054, -0.09341308, -0.09341308, -0.05892557,\n",
       "        -0.04163054,  1.40146444, -0.04163054, -0.04163054, -0.04163054,\n",
       "        -0.08347839, -0.04163054, -0.04163054, -0.04163054, -0.04163054,\n",
       "        -0.04163054, -0.05892557, -0.04163054, -0.04163054, -0.39496835,\n",
       "        -0.04163054, -0.17407766, -0.04163054, -0.08347839, -0.08347839,\n",
       "        -0.10241831, -0.04163054, -0.04163054, -0.12576654, -0.04163054,\n",
       "        -0.04163054, -0.04163054, -0.04163054, -0.04163054, -0.07223151,\n",
       "        -0.4434945 , -0.04163054, -0.05892557, -0.04163054, -0.04163054,\n",
       "        -0.88852332, -0.04163054, -0.04163054,  1.41238049, -0.04163054,\n",
       "        -0.04163054, -0.04163054, -0.04163054, -0.04163054, -0.04163054,\n",
       "        -0.04163054, -0.04163054, -0.04163054],\n",
       "       [ 0.55458069,  4.67601177, -0.04163054, -0.04163054, -0.04163054,\n",
       "        -0.05892557, -0.09341308, -0.04163054, -0.05892557, -0.05892557,\n",
       "        -0.04163054, -0.04163054, -0.18932061, -0.05892557, -0.09341308,\n",
       "        -0.04163054, -0.11072125, -0.07223151, -0.04163054, -0.04163054,\n",
       "        -0.15168668, -0.04163054, -0.13268622, -0.04163054, -0.04163054,\n",
       "        -0.08347839, -0.05892557, -0.04163054, -0.04163054, -0.04163054,\n",
       "        -0.05892557, -0.04163054, -0.08347839, -0.09341308, -0.10241831,\n",
       "        -0.04163054, -0.12576654, -0.13268622, -0.15168668, -0.04163054,\n",
       "        -0.08347839, -0.04163054, -0.04163054, -0.07223151, -0.17407766,\n",
       "        -0.04163054, -0.04163054, -0.04163054, -0.07223151, -0.16872982,\n",
       "        -0.30772873, -0.04163054, -0.09341308, -0.09341308, -0.05892557,\n",
       "        -0.04163054, -0.71353933, -0.04163054, -0.04163054, -0.04163054,\n",
       "        -0.08347839, -0.04163054, -0.04163054, -0.04163054, -0.04163054,\n",
       "        -0.04163054, -0.05892557, -0.04163054, -0.04163054, -0.39496835,\n",
       "        -0.04163054,  5.74456265, -0.04163054, -0.08347839, -0.08347839,\n",
       "        -0.10241831, -0.04163054, -0.04163054, -0.12576654, -0.04163054,\n",
       "        -0.04163054, -0.04163054, -0.04163054, -0.04163054, -0.07223151,\n",
       "        -0.4434945 , -0.04163054, -0.05892557, -0.04163054, -0.04163054,\n",
       "        -0.88852332, -0.04163054, -0.04163054,  1.41238049, -0.04163054,\n",
       "        -0.04163054, -0.04163054, -0.04163054, -0.04163054, -0.04163054,\n",
       "        -0.04163054, -0.04163054, -0.04163054],\n",
       "       [-0.11375222, -0.150404  , -0.04163054, -0.04163054, -0.04163054,\n",
       "        -0.05892557, -0.09341308, -0.04163054, -0.05892557, -0.05892557,\n",
       "        -0.04163054, -0.04163054, -0.18932061, -0.05892557, -0.09341308,\n",
       "        -0.04163054, -0.11072125, -0.07223151, -0.04163054, -0.04163054,\n",
       "        -0.15168668, -0.04163054, -0.13268622, -0.04163054, -0.04163054,\n",
       "        -0.08347839, -0.05892557, -0.04163054, -0.04163054, -0.04163054,\n",
       "        -0.05892557, -0.04163054, -0.08347839, -0.09341308, -0.10241831,\n",
       "        -0.04163054, -0.12576654, -0.13268622, -0.15168668, -0.04163054,\n",
       "        -0.08347839, -0.04163054, -0.04163054, -0.07223151, -0.17407766,\n",
       "        -0.04163054, -0.04163054, -0.04163054, -0.07223151, -0.16872982,\n",
       "         3.24961536, -0.04163054, -0.09341308, -0.09341308, -0.05892557,\n",
       "        -0.04163054, -0.71353933, -0.04163054, -0.04163054, -0.04163054,\n",
       "        -0.08347839, -0.04163054, -0.04163054, -0.04163054, -0.04163054,\n",
       "        -0.04163054, -0.05892557, -0.04163054, -0.04163054, -0.39496835,\n",
       "        -0.04163054, -0.17407766, -0.04163054, -0.08347839, -0.08347839,\n",
       "        -0.10241831, -0.04163054, -0.04163054, -0.12576654, -0.04163054,\n",
       "        -0.04163054, -0.04163054, -0.04163054, -0.04163054, -0.07223151,\n",
       "        -0.4434945 , -0.04163054, -0.05892557, -0.04163054, -0.04163054,\n",
       "         1.12546287, -0.04163054, -0.04163054, -0.70802451, -0.04163054,\n",
       "        -0.04163054, -0.04163054, -0.04163054, -0.04163054, -0.04163054,\n",
       "        -0.04163054, -0.04163054, -0.04163054],\n",
       "       [-0.11170216, -0.15072664, -0.04163054, -0.04163054, -0.04163054,\n",
       "        -0.05892557, -0.09341308, -0.04163054, -0.05892557, -0.05892557,\n",
       "        -0.04163054, -0.04163054, -0.18932061, -0.05892557, -0.09341308,\n",
       "        -0.04163054, -0.11072125, -0.07223151, -0.04163054, -0.04163054,\n",
       "        -0.15168668, -0.04163054,  7.53657747, -0.04163054, -0.04163054,\n",
       "        -0.08347839, -0.05892557, -0.04163054, -0.04163054, -0.04163054,\n",
       "        -0.05892557, -0.04163054, -0.08347839, -0.09341308, -0.10241831,\n",
       "        -0.04163054, -0.12576654, -0.13268622, -0.15168668, -0.04163054,\n",
       "        -0.08347839, -0.04163054, -0.04163054, -0.07223151, -0.17407766,\n",
       "        -0.04163054, -0.04163054, -0.04163054, -0.07223151, -0.16872982,\n",
       "        -0.30772873, -0.04163054, -0.09341308, -0.09341308, -0.05892557,\n",
       "        -0.04163054, -0.71353933, -0.04163054, -0.04163054, -0.04163054,\n",
       "        -0.08347839, -0.04163054, -0.04163054, -0.04163054, -0.04163054,\n",
       "        -0.04163054, -0.05892557, -0.04163054, -0.04163054, -0.39496835,\n",
       "        -0.04163054, -0.17407766, -0.04163054, -0.08347839, -0.08347839,\n",
       "        -0.10241831, -0.04163054, -0.04163054, -0.12576654, -0.04163054,\n",
       "        -0.04163054, -0.04163054, -0.04163054, -0.04163054, -0.07223151,\n",
       "        -0.4434945 , -0.04163054, -0.05892557, -0.04163054, -0.04163054,\n",
       "         1.12546287, -0.04163054, -0.04163054, -0.70802451, -0.04163054,\n",
       "        -0.04163054, -0.04163054, -0.04163054, -0.04163054, -0.04163054,\n",
       "        -0.04163054, -0.04163054, -0.04163054]])"
      ]
     },
     "execution_count": 70,
     "metadata": {},
     "output_type": "execute_result"
    }
   ],
   "source": [
    "# Standardize the data with StandardScaler().\n",
    "\n",
    "x_scaled = StandardScaler().fit_transform(x)\n",
    "x_scaled[:5]"
   ]
  },
  {
   "cell_type": "markdown",
   "metadata": {},
   "source": [
    "### Deliverable 2: Reducing Data Dimensions Using PCA"
   ]
  },
  {
   "cell_type": "code",
   "execution_count": 87,
   "metadata": {},
   "outputs": [],
   "source": [
    "# Using PCA to reduce dimension to three principal components.\n",
    "\n",
    "pca = PCA(n_components=3)\n",
    "\n",
    "crypto_pca = pca.fit_transform(x_scaled)"
   ]
  },
  {
   "cell_type": "code",
   "execution_count": 91,
   "metadata": {},
   "outputs": [
    {
     "data": {
      "text/html": [
       "<div>\n",
       "<style scoped>\n",
       "    .dataframe tbody tr th:only-of-type {\n",
       "        vertical-align: middle;\n",
       "    }\n",
       "\n",
       "    .dataframe tbody tr th {\n",
       "        vertical-align: top;\n",
       "    }\n",
       "\n",
       "    .dataframe thead th {\n",
       "        text-align: right;\n",
       "    }\n",
       "</style>\n",
       "<table border=\"1\" class=\"dataframe\">\n",
       "  <thead>\n",
       "    <tr style=\"text-align: right;\">\n",
       "      <th></th>\n",
       "      <th>PC1</th>\n",
       "      <th>PC2</th>\n",
       "      <th>PC3</th>\n",
       "    </tr>\n",
       "  </thead>\n",
       "  <tbody>\n",
       "    <tr>\n",
       "      <th>42</th>\n",
       "      <td>-0.312508</td>\n",
       "      <td>1.112312</td>\n",
       "      <td>-0.247812</td>\n",
       "    </tr>\n",
       "    <tr>\n",
       "      <th>404</th>\n",
       "      <td>-0.295126</td>\n",
       "      <td>1.112205</td>\n",
       "      <td>-0.247992</td>\n",
       "    </tr>\n",
       "    <tr>\n",
       "      <th>1337</th>\n",
       "      <td>2.430840</td>\n",
       "      <td>1.739554</td>\n",
       "      <td>-0.266291</td>\n",
       "    </tr>\n",
       "    <tr>\n",
       "      <th>BTC</th>\n",
       "      <td>-0.148419</td>\n",
       "      <td>-1.293241</td>\n",
       "      <td>0.076366</td>\n",
       "    </tr>\n",
       "    <tr>\n",
       "      <th>ETH</th>\n",
       "      <td>-0.135793</td>\n",
       "      <td>-2.095623</td>\n",
       "      <td>0.139775</td>\n",
       "    </tr>\n",
       "  </tbody>\n",
       "</table>\n",
       "</div>"
      ],
      "text/plain": [
       "           PC1       PC2       PC3\n",
       "42   -0.312508  1.112312 -0.247812\n",
       "404  -0.295126  1.112205 -0.247992\n",
       "1337  2.430840  1.739554 -0.266291\n",
       "BTC  -0.148419 -1.293241  0.076366\n",
       "ETH  -0.135793 -2.095623  0.139775"
      ]
     },
     "execution_count": 91,
     "metadata": {},
     "output_type": "execute_result"
    }
   ],
   "source": [
    "# Create a DataFrame with the three principal components.\n",
    "\n",
    "pcs_df = pd.DataFrame(\n",
    "    data = crypto_pca, index=x.index, columns=[\"PC1\", \"PC2\", \"PC3\"])\n",
    "\n",
    "pcs_df.head()"
   ]
  },
  {
   "cell_type": "markdown",
   "metadata": {},
   "source": [
    "### Deliverable 3: Clustering Crytocurrencies Using K-Means\n",
    "\n",
    "#### Finding the Best Value for `k` Using the Elbow Curve"
   ]
  },
  {
   "cell_type": "code",
   "execution_count": 94,
   "metadata": {},
   "outputs": [
    {
     "name": "stderr",
     "output_type": "stream",
     "text": [
      "C:\\Users\\maron\\anaconda3\\envs\\mlenv\\lib\\site-packages\\sklearn\\cluster\\_kmeans.py:1037: UserWarning: KMeans is known to have a memory leak on Windows with MKL, when there are less chunks than available threads. You can avoid it by setting the environment variable OMP_NUM_THREADS=3.\n",
      "  \"KMeans is known to have a memory leak on Windows \"\n"
     ]
    },
    {
     "data": {},
     "metadata": {},
     "output_type": "display_data"
    },
    {
     "data": {
      "application/vnd.holoviews_exec.v0+json": "",
      "text/html": [
       "<div id='1002'>\n",
       "  <div class=\"bk-root\" id=\"6f201aac-8ef5-4c32-ba1f-867f144e98aa\" data-root-id=\"1002\"></div>\n",
       "</div>\n",
       "<script type=\"application/javascript\">(function(root) {\n",
       "  function embed_document(root) {\n",
       "    var docs_json = {\"c40e306b-a28e-4a62-9c04-c40d89f3d5ef\":{\"defs\":[{\"extends\":null,\"module\":null,\"name\":\"ReactiveHTML1\",\"overrides\":[],\"properties\":[]},{\"extends\":null,\"module\":null,\"name\":\"FlexBox1\",\"overrides\":[],\"properties\":[{\"default\":\"flex-start\",\"kind\":null,\"name\":\"align_content\"},{\"default\":\"flex-start\",\"kind\":null,\"name\":\"align_items\"},{\"default\":\"row\",\"kind\":null,\"name\":\"flex_direction\"},{\"default\":\"wrap\",\"kind\":null,\"name\":\"flex_wrap\"},{\"default\":\"flex-start\",\"kind\":null,\"name\":\"justify_content\"}]},{\"extends\":null,\"module\":null,\"name\":\"GridStack1\",\"overrides\":[],\"properties\":[{\"default\":\"warn\",\"kind\":null,\"name\":\"mode\"},{\"default\":null,\"kind\":null,\"name\":\"ncols\"},{\"default\":null,\"kind\":null,\"name\":\"nrows\"},{\"default\":true,\"kind\":null,\"name\":\"allow_resize\"},{\"default\":true,\"kind\":null,\"name\":\"allow_drag\"},{\"default\":[],\"kind\":null,\"name\":\"state\"}]},{\"extends\":null,\"module\":null,\"name\":\"click1\",\"overrides\":[],\"properties\":[{\"default\":\"\",\"kind\":null,\"name\":\"terminal_output\"},{\"default\":\"\",\"kind\":null,\"name\":\"debug_name\"},{\"default\":0,\"kind\":null,\"name\":\"clears\"}]},{\"extends\":null,\"module\":null,\"name\":\"NotificationAreaBase1\",\"overrides\":[],\"properties\":[{\"default\":\"bottom-right\",\"kind\":null,\"name\":\"position\"},{\"default\":0,\"kind\":null,\"name\":\"_clear\"}]},{\"extends\":null,\"module\":null,\"name\":\"NotificationArea1\",\"overrides\":[],\"properties\":[{\"default\":[],\"kind\":null,\"name\":\"notifications\"},{\"default\":\"bottom-right\",\"kind\":null,\"name\":\"position\"},{\"default\":0,\"kind\":null,\"name\":\"_clear\"},{\"default\":[{\"background\":\"#ffc107\",\"icon\":{\"className\":\"fas fa-exclamation-triangle\",\"color\":\"white\",\"tagName\":\"i\"},\"type\":\"warning\"},{\"background\":\"#007bff\",\"icon\":{\"className\":\"fas fa-info-circle\",\"color\":\"white\",\"tagName\":\"i\"},\"type\":\"info\"}],\"kind\":null,\"name\":\"types\"}]},{\"extends\":null,\"module\":null,\"name\":\"Notification\",\"overrides\":[],\"properties\":[{\"default\":null,\"kind\":null,\"name\":\"background\"},{\"default\":3000,\"kind\":null,\"name\":\"duration\"},{\"default\":null,\"kind\":null,\"name\":\"icon\"},{\"default\":\"\",\"kind\":null,\"name\":\"message\"},{\"default\":null,\"kind\":null,\"name\":\"notification_type\"},{\"default\":false,\"kind\":null,\"name\":\"_destroyed\"}]},{\"extends\":null,\"module\":null,\"name\":\"TemplateActions1\",\"overrides\":[],\"properties\":[{\"default\":0,\"kind\":null,\"name\":\"open_modal\"},{\"default\":0,\"kind\":null,\"name\":\"close_modal\"}]},{\"extends\":null,\"module\":null,\"name\":\"MaterialTemplateActions1\",\"overrides\":[],\"properties\":[{\"default\":0,\"kind\":null,\"name\":\"open_modal\"},{\"default\":0,\"kind\":null,\"name\":\"close_modal\"}]}],\"roots\":{\"references\":[{\"attributes\":{\"axis_label\":\"k\",\"coordinates\":null,\"formatter\":{\"id\":\"1048\"},\"group\":null,\"major_label_policy\":{\"id\":\"1049\"},\"ticker\":{\"id\":\"1046\"}},\"id\":\"1016\",\"type\":\"LinearAxis\"},{\"attributes\":{\"callback\":null,\"renderers\":[{\"id\":\"1043\"}],\"tags\":[\"hv_created\"],\"tooltips\":[[\"k\",\"@{k}\"],[\"inertia\",\"@{inertia}\"]]},\"id\":\"1006\",\"type\":\"HoverTool\"},{\"attributes\":{\"axis\":{\"id\":\"1020\"},\"coordinates\":null,\"dimension\":1,\"grid_line_color\":null,\"group\":null,\"ticker\":null},\"id\":\"1023\",\"type\":\"Grid\"},{\"attributes\":{\"line_color\":\"#30a2da\",\"line_width\":2,\"x\":{\"field\":\"k\"},\"y\":{\"field\":\"inertia\"}},\"id\":\"1045\",\"type\":\"Line\"},{\"attributes\":{},\"id\":\"1024\",\"type\":\"SaveTool\"},{\"attributes\":{\"ticks\":[1,2,3,4,5,6,7,8,9,10]},\"id\":\"1046\",\"type\":\"FixedTicker\"},{\"attributes\":{\"end\":4321.903653308465,\"reset_end\":4321.903653308465,\"reset_start\":-241.71440284212125,\"start\":-241.71440284212125,\"tags\":[[[\"inertia\",\"inertia\",null]]]},\"id\":\"1005\",\"type\":\"Range1d\"},{\"attributes\":{\"below\":[{\"id\":\"1016\"}],\"center\":[{\"id\":\"1019\"},{\"id\":\"1023\"}],\"height\":300,\"left\":[{\"id\":\"1020\"}],\"margin\":[5,5,5,5],\"min_border_bottom\":10,\"min_border_left\":10,\"min_border_right\":10,\"min_border_top\":10,\"renderers\":[{\"id\":\"1043\"}],\"sizing_mode\":\"fixed\",\"title\":{\"id\":\"1008\"},\"toolbar\":{\"id\":\"1030\"},\"width\":700,\"x_range\":{\"id\":\"1004\"},\"x_scale\":{\"id\":\"1012\"},\"y_range\":{\"id\":\"1005\"},\"y_scale\":{\"id\":\"1014\"}},\"id\":\"1007\",\"subtype\":\"Figure\",\"type\":\"Plot\"},{\"attributes\":{\"line_alpha\":0.2,\"line_color\":\"#30a2da\",\"line_width\":2,\"x\":{\"field\":\"k\"},\"y\":{\"field\":\"inertia\"}},\"id\":\"1042\",\"type\":\"Line\"},{\"attributes\":{\"bottom_units\":\"screen\",\"coordinates\":null,\"fill_alpha\":0.5,\"fill_color\":\"lightgrey\",\"group\":null,\"left_units\":\"screen\",\"level\":\"overlay\",\"line_alpha\":1.0,\"line_color\":\"black\",\"line_dash\":[4,4],\"line_width\":2,\"right_units\":\"screen\",\"syncable\":false,\"top_units\":\"screen\"},\"id\":\"1029\",\"type\":\"BoxAnnotation\"},{\"attributes\":{},\"id\":\"1025\",\"type\":\"PanTool\"},{\"attributes\":{\"coordinates\":null,\"data_source\":{\"id\":\"1037\"},\"glyph\":{\"id\":\"1040\"},\"group\":null,\"hover_glyph\":null,\"muted_glyph\":{\"id\":\"1042\"},\"nonselection_glyph\":{\"id\":\"1041\"},\"selection_glyph\":{\"id\":\"1045\"},\"view\":{\"id\":\"1044\"}},\"id\":\"1043\",\"type\":\"GlyphRenderer\"},{\"attributes\":{},\"id\":\"1028\",\"type\":\"ResetTool\"},{\"attributes\":{},\"id\":\"1048\",\"type\":\"BasicTickFormatter\"},{\"attributes\":{\"children\":[{\"id\":\"1003\"},{\"id\":\"1007\"},{\"id\":\"1064\"}],\"margin\":[0,0,0,0],\"name\":\"Row00879\",\"tags\":[\"embedded\"]},\"id\":\"1002\",\"type\":\"Row\"},{\"attributes\":{\"line_alpha\":0.1,\"line_color\":\"#30a2da\",\"line_width\":2,\"x\":{\"field\":\"k\"},\"y\":{\"field\":\"inertia\"}},\"id\":\"1041\",\"type\":\"Line\"},{\"attributes\":{},\"id\":\"1026\",\"type\":\"WheelZoomTool\"},{\"attributes\":{\"source\":{\"id\":\"1037\"}},\"id\":\"1044\",\"type\":\"CDSView\"},{\"attributes\":{},\"id\":\"1061\",\"type\":\"UnionRenderers\"},{\"attributes\":{\"overlay\":{\"id\":\"1029\"}},\"id\":\"1027\",\"type\":\"BoxZoomTool\"},{\"attributes\":{},\"id\":\"1054\",\"type\":\"AllLabels\"},{\"attributes\":{\"margin\":[5,5,5,5],\"name\":\"HSpacer00884\",\"sizing_mode\":\"stretch_width\"},\"id\":\"1064\",\"type\":\"Spacer\"},{\"attributes\":{},\"id\":\"1049\",\"type\":\"AllLabels\"},{\"attributes\":{\"data\":{\"inertia\":{\"__ndarray__\":\"7DvTTDTLrkAYS0R7QOekQBvlqCM8dZlANm2Bb6j4iEAZP8dFa+yAQKl0PiY1RHVAUD5U5zIicUDExC7JstJqQCwY21WPeGVAvbfKiclSYUA=\",\"dtype\":\"float64\",\"order\":\"little\",\"shape\":[10]},\"k\":[1,2,3,4,5,6,7,8,9,10]},\"selected\":{\"id\":\"1038\"},\"selection_policy\":{\"id\":\"1061\"}},\"id\":\"1037\",\"type\":\"ColumnDataSource\"},{\"attributes\":{\"tools\":[{\"id\":\"1006\"},{\"id\":\"1024\"},{\"id\":\"1025\"},{\"id\":\"1026\"},{\"id\":\"1027\"},{\"id\":\"1028\"}]},\"id\":\"1030\",\"type\":\"Toolbar\"},{\"attributes\":{},\"id\":\"1021\",\"type\":\"BasicTicker\"},{\"attributes\":{},\"id\":\"1012\",\"type\":\"LinearScale\"},{\"attributes\":{\"line_color\":\"#30a2da\",\"line_width\":2,\"x\":{\"field\":\"k\"},\"y\":{\"field\":\"inertia\"}},\"id\":\"1040\",\"type\":\"Line\"},{\"attributes\":{},\"id\":\"1038\",\"type\":\"Selection\"},{\"attributes\":{\"margin\":[5,5,5,5],\"name\":\"HSpacer00883\",\"sizing_mode\":\"stretch_width\"},\"id\":\"1003\",\"type\":\"Spacer\"},{\"attributes\":{\"coordinates\":null,\"group\":null,\"text\":\"Elbow Curve\",\"text_color\":\"black\",\"text_font_size\":\"12pt\"},\"id\":\"1008\",\"type\":\"Title\"},{\"attributes\":{\"end\":10.0,\"reset_end\":10.0,\"reset_start\":1.0,\"start\":1.0,\"tags\":[[[\"k\",\"k\",null]]]},\"id\":\"1004\",\"type\":\"Range1d\"},{\"attributes\":{\"axis\":{\"id\":\"1016\"},\"coordinates\":null,\"grid_line_color\":null,\"group\":null,\"ticker\":null},\"id\":\"1019\",\"type\":\"Grid\"},{\"attributes\":{},\"id\":\"1053\",\"type\":\"BasicTickFormatter\"},{\"attributes\":{},\"id\":\"1014\",\"type\":\"LinearScale\"},{\"attributes\":{\"axis_label\":\"inertia\",\"coordinates\":null,\"formatter\":{\"id\":\"1053\"},\"group\":null,\"major_label_policy\":{\"id\":\"1054\"},\"ticker\":{\"id\":\"1021\"}},\"id\":\"1020\",\"type\":\"LinearAxis\"}],\"root_ids\":[\"1002\"]},\"title\":\"Bokeh Application\",\"version\":\"2.4.3\"}};\n",
       "    var render_items = [{\"docid\":\"c40e306b-a28e-4a62-9c04-c40d89f3d5ef\",\"root_ids\":[\"1002\"],\"roots\":{\"1002\":\"6f201aac-8ef5-4c32-ba1f-867f144e98aa\"}}];\n",
       "    root.Bokeh.embed.embed_items_notebook(docs_json, render_items);\n",
       "  }\n",
       "  if (root.Bokeh !== undefined && root.Bokeh.Panel !== undefined) {\n",
       "    embed_document(root);\n",
       "  } else {\n",
       "    var attempts = 0;\n",
       "    var timer = setInterval(function(root) {\n",
       "      if (root.Bokeh !== undefined && root.Bokeh.Panel !== undefined) {\n",
       "        clearInterval(timer);\n",
       "        embed_document(root);\n",
       "      } else if (document.readyState == \"complete\") {\n",
       "        attempts++;\n",
       "        if (attempts > 200) {\n",
       "          clearInterval(timer);\n",
       "          console.log(\"Bokeh: ERROR: Unable to run BokehJS code because BokehJS library is missing\");\n",
       "        }\n",
       "      }\n",
       "    }, 25, root)\n",
       "  }\n",
       "})(window);</script>"
      ],
      "text/plain": [
       ":Curve   [k]   (inertia)"
      ]
     },
     "execution_count": 94,
     "metadata": {
      "application/vnd.holoviews_exec.v0+json": {
       "id": "1002"
      }
     },
     "output_type": "execute_result"
    }
   ],
   "source": [
    "# Create an elbow curve to find the best value for K.\n",
    "\n",
    "# Find best value for K\n",
    "\n",
    "inertia = []\n",
    "k = list(range(1,11))\n",
    "\n",
    "# Calculate the inertia for the range of K values\n",
    "for i in k:\n",
    "    km = KMeans(n_clusters=i, random_state = 0)\n",
    "    km.fit(pcs_df)\n",
    "    inertia.append(km.inertia_)\n",
    "    \n",
    "# Create elbow curve\n",
    "elbow_data = {\"k\": k, \"inertia\": inertia}\n",
    "df_elbow = pd.DataFrame(elbow_data)\n",
    "df_elbow.hvplot.line(x=\"k\", y=\"inertia\", xticks=k, title=\"Elbow Curve\")"
   ]
  },
  {
   "cell_type": "markdown",
   "metadata": {},
   "source": [
    "Running K-Means with `k=4`"
   ]
  },
  {
   "cell_type": "code",
   "execution_count": 96,
   "metadata": {},
   "outputs": [
    {
     "data": {
      "text/plain": [
       "array([1, 1, 1, 0, 0, 0, 1, 0, 0, 0, 1, 0, 1, 1, 0, 1, 0, 0, 1, 1, 0, 0,\n",
       "       0, 0, 0, 1, 0, 0, 0, 1, 0, 1, 0, 0, 1, 1, 0, 0, 0, 0, 0, 0, 1, 1,\n",
       "       0, 0, 0, 0, 0, 1, 1, 0, 1, 0, 0, 0, 0, 1, 0, 0, 1, 0, 1, 1, 1, 0,\n",
       "       0, 0, 1, 1, 1, 1, 1, 0, 0, 0, 1, 1, 0, 1, 0, 1, 1, 0, 0, 0, 0, 1,\n",
       "       1, 0, 1, 0, 0, 1, 1, 0, 1, 1, 0, 0, 1, 1, 0, 1, 1, 0, 1, 0, 1, 0,\n",
       "       1, 0, 1, 1, 0, 0, 1, 0, 0, 0, 1, 0, 0, 0, 0, 0, 1, 1, 0, 0, 0, 1,\n",
       "       0, 1, 0, 0, 1, 0, 1, 0, 1, 1, 0, 0, 1, 0, 0, 1, 1, 0, 1, 0, 1, 1,\n",
       "       1, 0, 0, 0, 0, 1, 1, 1, 1, 1, 0, 0, 0, 1, 1, 1, 1, 1, 0, 1, 1, 1,\n",
       "       1, 1, 0, 1, 0, 1, 1, 0, 1, 0, 1, 1, 0, 1, 0, 1, 0, 1, 0, 1, 1, 1,\n",
       "       1, 0, 1, 1, 1, 1, 1, 0, 0, 1, 1, 0, 0, 1, 1, 1, 1, 1, 0, 1, 1, 1,\n",
       "       1, 1, 1, 1, 1, 0, 1, 1, 1, 1, 1, 1, 0, 0, 0, 1, 1, 1, 1, 0, 1, 0,\n",
       "       1, 1, 0, 1, 0, 0, 1, 0, 0, 1, 0, 1, 1, 1, 0, 1, 1, 0, 1, 1, 1, 1,\n",
       "       1, 1, 1, 0, 1, 0, 1, 1, 1, 1, 0, 1, 0, 1, 0, 0, 0, 0, 1, 0, 1, 1,\n",
       "       0, 1, 0, 0, 0, 1, 0, 1, 0, 0, 0, 1, 0, 1, 0, 1, 1, 1, 0, 1, 0, 0,\n",
       "       0, 0, 0, 1, 1, 0, 1, 1, 1, 0, 1, 0, 1, 0, 1, 0, 1, 1, 1, 1, 0, 1,\n",
       "       1, 0, 1, 1, 1, 0, 0, 0, 0, 1, 1, 1, 1, 1, 0, 1, 0, 0, 0, 1, 0, 1,\n",
       "       0, 0, 1, 1, 0, 1, 0, 0, 1, 1, 0, 0, 1, 0, 0, 1, 1, 1, 1, 0, 0, 0,\n",
       "       1, 0, 0, 1, 0, 0, 1, 0, 1, 0, 1, 0, 0, 1, 1, 3, 0, 0, 1, 1, 1, 0,\n",
       "       1, 0, 1, 1, 1, 1, 0, 0, 0, 0, 0, 1, 0, 1, 1, 1, 0, 1, 0, 1, 1, 1,\n",
       "       0, 1, 0, 1, 1, 0, 1, 1, 0, 0, 1, 0, 1, 0, 1, 1, 0, 1, 1, 0, 0, 1,\n",
       "       1, 1, 1, 0, 1, 0, 1, 1, 1, 1, 1, 0, 1, 1, 0, 0, 0, 1, 1, 1, 1, 1,\n",
       "       1, 1, 0, 0, 1, 0, 0, 0, 0, 0, 1, 0, 1, 1, 1, 0, 1, 1, 0, 1, 1, 1,\n",
       "       1, 0, 3, 0, 1, 0, 0, 1, 0, 1, 0, 1, 1, 0, 1, 0, 0, 0, 0, 0, 0, 0,\n",
       "       1, 0, 1, 0, 1, 1, 0, 0, 1, 1, 1, 1, 1, 0, 0, 0, 1, 1, 0, 1, 0, 1,\n",
       "       0, 1, 0, 1, 1, 1, 1, 0, 1, 1, 1, 0, 1, 0, 1, 0, 1, 1, 1, 0, 0, 1,\n",
       "       1, 1, 1, 1, 1, 3, 0, 1, 0, 0, 1, 1, 0, 1, 1, 1, 1, 1, 1, 2, 0, 1,\n",
       "       1, 1, 0, 0, 1, 1])"
      ]
     },
     "execution_count": 96,
     "metadata": {},
     "output_type": "execute_result"
    }
   ],
   "source": [
    "# Initialize the K-Means model.\n",
    "model = KMeans(n_clusters=4, random_state=0)\n",
    "\n",
    "# Fit the model\n",
    "model.fit(pcs_df)\n",
    "\n",
    "# Predict clusters\n",
    "predictions = model.predict(pcs_df)\n",
    "predictions"
   ]
  },
  {
   "cell_type": "code",
   "execution_count": 117,
   "metadata": {},
   "outputs": [
    {
     "name": "stdout",
     "output_type": "stream",
     "text": [
      "(578, 9)\n"
     ]
    },
    {
     "data": {
      "text/html": [
       "<div>\n",
       "<style scoped>\n",
       "    .dataframe tbody tr th:only-of-type {\n",
       "        vertical-align: middle;\n",
       "    }\n",
       "\n",
       "    .dataframe tbody tr th {\n",
       "        vertical-align: top;\n",
       "    }\n",
       "\n",
       "    .dataframe thead th {\n",
       "        text-align: right;\n",
       "    }\n",
       "</style>\n",
       "<table border=\"1\" class=\"dataframe\">\n",
       "  <thead>\n",
       "    <tr style=\"text-align: right;\">\n",
       "      <th></th>\n",
       "      <th>Algorithm</th>\n",
       "      <th>ProofType</th>\n",
       "      <th>TotalCoinsMined</th>\n",
       "      <th>TotalCoinSupply</th>\n",
       "      <th>PC1</th>\n",
       "      <th>PC2</th>\n",
       "      <th>PC3</th>\n",
       "      <th>CoinName</th>\n",
       "      <th>Class</th>\n",
       "    </tr>\n",
       "  </thead>\n",
       "  <tbody>\n",
       "    <tr>\n",
       "      <th>42</th>\n",
       "      <td>Scrypt</td>\n",
       "      <td>PoW/PoS</td>\n",
       "      <td>4.199995e+01</td>\n",
       "      <td>42</td>\n",
       "      <td>-0.312508</td>\n",
       "      <td>1.112312</td>\n",
       "      <td>-0.247812</td>\n",
       "      <td>42 Coin</td>\n",
       "      <td>1</td>\n",
       "    </tr>\n",
       "    <tr>\n",
       "      <th>404</th>\n",
       "      <td>Scrypt</td>\n",
       "      <td>PoW/PoS</td>\n",
       "      <td>1.055185e+09</td>\n",
       "      <td>532000000</td>\n",
       "      <td>-0.295126</td>\n",
       "      <td>1.112205</td>\n",
       "      <td>-0.247992</td>\n",
       "      <td>404Coin</td>\n",
       "      <td>1</td>\n",
       "    </tr>\n",
       "    <tr>\n",
       "      <th>1337</th>\n",
       "      <td>X13</td>\n",
       "      <td>PoW/PoS</td>\n",
       "      <td>2.927942e+10</td>\n",
       "      <td>314159265359</td>\n",
       "      <td>2.430840</td>\n",
       "      <td>1.739554</td>\n",
       "      <td>-0.266291</td>\n",
       "      <td>EliteCoin</td>\n",
       "      <td>1</td>\n",
       "    </tr>\n",
       "    <tr>\n",
       "      <th>BTC</th>\n",
       "      <td>SHA-256</td>\n",
       "      <td>PoW</td>\n",
       "      <td>1.792718e+07</td>\n",
       "      <td>21000000</td>\n",
       "      <td>-0.148419</td>\n",
       "      <td>-1.293241</td>\n",
       "      <td>0.076366</td>\n",
       "      <td>Bitcoin</td>\n",
       "      <td>0</td>\n",
       "    </tr>\n",
       "    <tr>\n",
       "      <th>ETH</th>\n",
       "      <td>Ethash</td>\n",
       "      <td>PoW</td>\n",
       "      <td>1.076842e+08</td>\n",
       "      <td>0</td>\n",
       "      <td>-0.135793</td>\n",
       "      <td>-2.095623</td>\n",
       "      <td>0.139775</td>\n",
       "      <td>Ethereum</td>\n",
       "      <td>0</td>\n",
       "    </tr>\n",
       "    <tr>\n",
       "      <th>LTC</th>\n",
       "      <td>Scrypt</td>\n",
       "      <td>PoW</td>\n",
       "      <td>6.303924e+07</td>\n",
       "      <td>84000000</td>\n",
       "      <td>-0.151608</td>\n",
       "      <td>-1.117666</td>\n",
       "      <td>-0.028471</td>\n",
       "      <td>Litecoin</td>\n",
       "      <td>0</td>\n",
       "    </tr>\n",
       "    <tr>\n",
       "      <th>DASH</th>\n",
       "      <td>X11</td>\n",
       "      <td>PoW/PoS</td>\n",
       "      <td>9.031294e+06</td>\n",
       "      <td>22000000</td>\n",
       "      <td>-0.395755</td>\n",
       "      <td>1.350813</td>\n",
       "      <td>-0.185734</td>\n",
       "      <td>Dash</td>\n",
       "      <td>1</td>\n",
       "    </tr>\n",
       "    <tr>\n",
       "      <th>XMR</th>\n",
       "      <td>CryptoNight-V7</td>\n",
       "      <td>PoW</td>\n",
       "      <td>1.720114e+07</td>\n",
       "      <td>0</td>\n",
       "      <td>-0.154961</td>\n",
       "      <td>-2.241074</td>\n",
       "      <td>0.160288</td>\n",
       "      <td>Monero</td>\n",
       "      <td>0</td>\n",
       "    </tr>\n",
       "    <tr>\n",
       "      <th>ETC</th>\n",
       "      <td>Ethash</td>\n",
       "      <td>PoW</td>\n",
       "      <td>1.133597e+08</td>\n",
       "      <td>210000000</td>\n",
       "      <td>-0.134172</td>\n",
       "      <td>-2.095742</td>\n",
       "      <td>0.139769</td>\n",
       "      <td>Ethereum Classic</td>\n",
       "      <td>0</td>\n",
       "    </tr>\n",
       "    <tr>\n",
       "      <th>ZEC</th>\n",
       "      <td>Equihash</td>\n",
       "      <td>PoW</td>\n",
       "      <td>7.383056e+06</td>\n",
       "      <td>21000000</td>\n",
       "      <td>-0.154392</td>\n",
       "      <td>-1.986880</td>\n",
       "      <td>0.077386</td>\n",
       "      <td>ZCash</td>\n",
       "      <td>0</td>\n",
       "    </tr>\n",
       "  </tbody>\n",
       "</table>\n",
       "</div>"
      ],
      "text/plain": [
       "           Algorithm ProofType  TotalCoinsMined TotalCoinSupply       PC1  \\\n",
       "42            Scrypt   PoW/PoS     4.199995e+01              42 -0.312508   \n",
       "404           Scrypt   PoW/PoS     1.055185e+09       532000000 -0.295126   \n",
       "1337             X13   PoW/PoS     2.927942e+10    314159265359  2.430840   \n",
       "BTC          SHA-256       PoW     1.792718e+07        21000000 -0.148419   \n",
       "ETH           Ethash       PoW     1.076842e+08               0 -0.135793   \n",
       "LTC           Scrypt       PoW     6.303924e+07        84000000 -0.151608   \n",
       "DASH             X11   PoW/PoS     9.031294e+06        22000000 -0.395755   \n",
       "XMR   CryptoNight-V7       PoW     1.720114e+07               0 -0.154961   \n",
       "ETC           Ethash       PoW     1.133597e+08       210000000 -0.134172   \n",
       "ZEC         Equihash       PoW     7.383056e+06        21000000 -0.154392   \n",
       "\n",
       "           PC2       PC3          CoinName  Class  \n",
       "42    1.112312 -0.247812           42 Coin      1  \n",
       "404   1.112205 -0.247992           404Coin      1  \n",
       "1337  1.739554 -0.266291         EliteCoin      1  \n",
       "BTC  -1.293241  0.076366           Bitcoin      0  \n",
       "ETH  -2.095623  0.139775          Ethereum      0  \n",
       "LTC  -1.117666 -0.028471          Litecoin      0  \n",
       "DASH  1.350813 -0.185734              Dash      1  \n",
       "XMR  -2.241074  0.160288            Monero      0  \n",
       "ETC  -2.095742  0.139769  Ethereum Classic      0  \n",
       "ZEC  -1.986880  0.077386             ZCash      0  "
      ]
     },
     "execution_count": 117,
     "metadata": {},
     "output_type": "execute_result"
    }
   ],
   "source": [
    "# Create a new DataFrame including predicted clusters and cryptocurrencies features.\n",
    "# Concatentate the crypto_df and pcs_df DataFrames on the same columns.\n",
    "clustered_df = pd.merge(crypto_df, pcs_df, left_index=True, right_index=True)\n",
    "\n",
    "#  Add a new column, \"CoinName\" to the clustered_df DataFrame that holds the names of the cryptocurrencies. \n",
    "clustered_df[\"CoinName\"] = coin_names\n",
    "clustered_df.head()\n",
    "\n",
    "#  Add a new column, \"Class\" to the clustered_df DataFrame that holds the predictions.\n",
    "clustered_df[\"Class\"] = model.labels_\n",
    "\n",
    "# Print the shape of the clustered_df\n",
    "print(clustered_df.shape)\n",
    "clustered_df.head(10)"
   ]
  },
  {
   "cell_type": "code",
   "execution_count": 121,
   "metadata": {},
   "outputs": [
    {
     "data": {
      "text/html": [
       "<div>\n",
       "<style scoped>\n",
       "    .dataframe tbody tr th:only-of-type {\n",
       "        vertical-align: middle;\n",
       "    }\n",
       "\n",
       "    .dataframe tbody tr th {\n",
       "        vertical-align: top;\n",
       "    }\n",
       "\n",
       "    .dataframe thead th {\n",
       "        text-align: right;\n",
       "    }\n",
       "</style>\n",
       "<table border=\"1\" class=\"dataframe\">\n",
       "  <thead>\n",
       "    <tr style=\"text-align: right;\">\n",
       "      <th></th>\n",
       "      <th>Algorithm</th>\n",
       "      <th>ProofType</th>\n",
       "      <th>TotalCoinsMined</th>\n",
       "      <th>TotalCoinSupply</th>\n",
       "      <th>PC1</th>\n",
       "      <th>PC2</th>\n",
       "      <th>PC3</th>\n",
       "      <th>CoinName</th>\n",
       "      <th>Class</th>\n",
       "    </tr>\n",
       "  </thead>\n",
       "  <tbody>\n",
       "    <tr>\n",
       "      <th>42</th>\n",
       "      <td>Scrypt</td>\n",
       "      <td>PoW/PoS</td>\n",
       "      <td>4.199995e+01</td>\n",
       "      <td>42</td>\n",
       "      <td>-0.312508</td>\n",
       "      <td>1.112312</td>\n",
       "      <td>-0.247812</td>\n",
       "      <td>42 Coin</td>\n",
       "      <td>1</td>\n",
       "    </tr>\n",
       "    <tr>\n",
       "      <th>404</th>\n",
       "      <td>Scrypt</td>\n",
       "      <td>PoW/PoS</td>\n",
       "      <td>1.055185e+09</td>\n",
       "      <td>532000000</td>\n",
       "      <td>-0.295126</td>\n",
       "      <td>1.112205</td>\n",
       "      <td>-0.247992</td>\n",
       "      <td>404Coin</td>\n",
       "      <td>1</td>\n",
       "    </tr>\n",
       "    <tr>\n",
       "      <th>1337</th>\n",
       "      <td>X13</td>\n",
       "      <td>PoW/PoS</td>\n",
       "      <td>2.927942e+10</td>\n",
       "      <td>314159265359</td>\n",
       "      <td>2.430840</td>\n",
       "      <td>1.739554</td>\n",
       "      <td>-0.266291</td>\n",
       "      <td>EliteCoin</td>\n",
       "      <td>1</td>\n",
       "    </tr>\n",
       "    <tr>\n",
       "      <th>BTC</th>\n",
       "      <td>SHA-256</td>\n",
       "      <td>PoW</td>\n",
       "      <td>1.792718e+07</td>\n",
       "      <td>21000000</td>\n",
       "      <td>-0.148419</td>\n",
       "      <td>-1.293241</td>\n",
       "      <td>0.076366</td>\n",
       "      <td>Bitcoin</td>\n",
       "      <td>0</td>\n",
       "    </tr>\n",
       "    <tr>\n",
       "      <th>ETH</th>\n",
       "      <td>Ethash</td>\n",
       "      <td>PoW</td>\n",
       "      <td>1.076842e+08</td>\n",
       "      <td>0</td>\n",
       "      <td>-0.135793</td>\n",
       "      <td>-2.095623</td>\n",
       "      <td>0.139775</td>\n",
       "      <td>Ethereum</td>\n",
       "      <td>0</td>\n",
       "    </tr>\n",
       "    <tr>\n",
       "      <th>...</th>\n",
       "      <td>...</td>\n",
       "      <td>...</td>\n",
       "      <td>...</td>\n",
       "      <td>...</td>\n",
       "      <td>...</td>\n",
       "      <td>...</td>\n",
       "      <td>...</td>\n",
       "      <td>...</td>\n",
       "      <td>...</td>\n",
       "    </tr>\n",
       "    <tr>\n",
       "      <th>GAP</th>\n",
       "      <td>Scrypt</td>\n",
       "      <td>PoW/PoS</td>\n",
       "      <td>1.493105e+07</td>\n",
       "      <td>250000000</td>\n",
       "      <td>-0.310474</td>\n",
       "      <td>1.112172</td>\n",
       "      <td>-0.247820</td>\n",
       "      <td>Gapcoin</td>\n",
       "      <td>1</td>\n",
       "    </tr>\n",
       "    <tr>\n",
       "      <th>BDX</th>\n",
       "      <td>CryptoNight</td>\n",
       "      <td>PoW</td>\n",
       "      <td>9.802226e+08</td>\n",
       "      <td>1400222610</td>\n",
       "      <td>0.315813</td>\n",
       "      <td>-2.348303</td>\n",
       "      <td>0.156532</td>\n",
       "      <td>Beldex</td>\n",
       "      <td>0</td>\n",
       "    </tr>\n",
       "    <tr>\n",
       "      <th>ZEN</th>\n",
       "      <td>Equihash</td>\n",
       "      <td>PoW</td>\n",
       "      <td>7.296538e+06</td>\n",
       "      <td>21000000</td>\n",
       "      <td>-0.154393</td>\n",
       "      <td>-1.986880</td>\n",
       "      <td>0.077386</td>\n",
       "      <td>Horizen</td>\n",
       "      <td>0</td>\n",
       "    </tr>\n",
       "    <tr>\n",
       "      <th>XBC</th>\n",
       "      <td>Scrypt</td>\n",
       "      <td>PoS</td>\n",
       "      <td>1.283270e+05</td>\n",
       "      <td>1000000</td>\n",
       "      <td>-0.266710</td>\n",
       "      <td>0.686349</td>\n",
       "      <td>-0.156830</td>\n",
       "      <td>BitcoinPlus</td>\n",
       "      <td>1</td>\n",
       "    </tr>\n",
       "    <tr>\n",
       "      <th>DVTC</th>\n",
       "      <td>Scrypt</td>\n",
       "      <td>PoW/PoS</td>\n",
       "      <td>2.149121e+07</td>\n",
       "      <td>100000000</td>\n",
       "      <td>-0.311497</td>\n",
       "      <td>1.112259</td>\n",
       "      <td>-0.247818</td>\n",
       "      <td>DivotyCoin</td>\n",
       "      <td>1</td>\n",
       "    </tr>\n",
       "  </tbody>\n",
       "</table>\n",
       "<p>578 rows × 9 columns</p>\n",
       "</div>"
      ],
      "text/plain": [
       "        Algorithm ProofType  TotalCoinsMined TotalCoinSupply       PC1  \\\n",
       "42         Scrypt   PoW/PoS     4.199995e+01              42 -0.312508   \n",
       "404        Scrypt   PoW/PoS     1.055185e+09       532000000 -0.295126   \n",
       "1337          X13   PoW/PoS     2.927942e+10    314159265359  2.430840   \n",
       "BTC       SHA-256       PoW     1.792718e+07        21000000 -0.148419   \n",
       "ETH        Ethash       PoW     1.076842e+08               0 -0.135793   \n",
       "...           ...       ...              ...             ...       ...   \n",
       "GAP        Scrypt   PoW/PoS     1.493105e+07       250000000 -0.310474   \n",
       "BDX   CryptoNight       PoW     9.802226e+08      1400222610  0.315813   \n",
       "ZEN      Equihash       PoW     7.296538e+06        21000000 -0.154393   \n",
       "XBC        Scrypt       PoS     1.283270e+05         1000000 -0.266710   \n",
       "DVTC       Scrypt   PoW/PoS     2.149121e+07       100000000 -0.311497   \n",
       "\n",
       "           PC2       PC3     CoinName  Class  \n",
       "42    1.112312 -0.247812      42 Coin      1  \n",
       "404   1.112205 -0.247992      404Coin      1  \n",
       "1337  1.739554 -0.266291    EliteCoin      1  \n",
       "BTC  -1.293241  0.076366      Bitcoin      0  \n",
       "ETH  -2.095623  0.139775     Ethereum      0  \n",
       "...        ...       ...          ...    ...  \n",
       "GAP   1.112172 -0.247820      Gapcoin      1  \n",
       "BDX  -2.348303  0.156532       Beldex      0  \n",
       "ZEN  -1.986880  0.077386      Horizen      0  \n",
       "XBC   0.686349 -0.156830  BitcoinPlus      1  \n",
       "DVTC  1.112259 -0.247818   DivotyCoin      1  \n",
       "\n",
       "[578 rows x 9 columns]"
      ]
     },
     "execution_count": 121,
     "metadata": {},
     "output_type": "execute_result"
    }
   ],
   "source": [
    "clustered_df"
   ]
  },
  {
   "cell_type": "markdown",
   "metadata": {},
   "source": [
    "### Deliverable 4: Visualizing Cryptocurrencies Results\n",
    "\n",
    "#### 3D-Scatter with Clusters"
   ]
  },
  {
   "cell_type": "code",
   "execution_count": 132,
   "metadata": {},
   "outputs": [
    {
     "data": {
      "application/vnd.plotly.v1+json": {
       "config": {
        "plotlyServerURL": "https://plot.ly"
       },
       "data": [
        {
         "customdata": [
          [
           "Scrypt"
          ],
          [
           "Scrypt"
          ],
          [
           "X13"
          ],
          [
           "X11"
          ],
          [
           "SHA-512"
          ],
          [
           "SHA-256"
          ],
          [
           "SHA-256"
          ],
          [
           "X15"
          ],
          [
           "Scrypt"
          ],
          [
           "Scrypt"
          ],
          [
           "Scrypt"
          ],
          [
           "Scrypt"
          ],
          [
           "Scrypt"
          ],
          [
           "Scrypt"
          ],
          [
           "Groestl"
          ],
          [
           "PoS"
          ],
          [
           "Scrypt"
          ],
          [
           "Scrypt"
          ],
          [
           "X11"
          ],
          [
           "X11"
          ],
          [
           "SHA3"
          ],
          [
           "Scrypt"
          ],
          [
           "SHA-256"
          ],
          [
           "Scrypt"
          ],
          [
           "X13"
          ],
          [
           "X13"
          ],
          [
           "NeoScrypt"
          ],
          [
           "Scrypt"
          ],
          [
           "Scrypt"
          ],
          [
           "Scrypt"
          ],
          [
           "X11"
          ],
          [
           "X11"
          ],
          [
           "Multiple"
          ],
          [
           "PHI1612"
          ],
          [
           "X11"
          ],
          [
           "Scrypt"
          ],
          [
           "Scrypt"
          ],
          [
           "Scrypt"
          ],
          [
           "X11"
          ],
          [
           "Multiple"
          ],
          [
           "X13"
          ],
          [
           "Scrypt"
          ],
          [
           "Shabal256"
          ],
          [
           "Counterparty"
          ],
          [
           "SHA-256"
          ],
          [
           "Groestl"
          ],
          [
           "Scrypt"
          ],
          [
           "X13"
          ],
          [
           "Scrypt"
          ],
          [
           "Scrypt"
          ],
          [
           "X13"
          ],
          [
           "X11"
          ],
          [
           "Scrypt"
          ],
          [
           "X11"
          ],
          [
           "SHA3"
          ],
          [
           "QUAIT"
          ],
          [
           "X11"
          ],
          [
           "Scrypt"
          ],
          [
           "X13"
          ],
          [
           "SHA-256"
          ],
          [
           "X15"
          ],
          [
           "BLAKE256"
          ],
          [
           "SHA-256"
          ],
          [
           "X11"
          ],
          [
           "SHA-256"
          ],
          [
           "NIST5"
          ],
          [
           "Scrypt"
          ],
          [
           "Scrypt"
          ],
          [
           "X11"
          ],
          [
           "Scrypt"
          ],
          [
           "SHA-256"
          ],
          [
           "Scrypt"
          ],
          [
           "PoS"
          ],
          [
           "X11"
          ],
          [
           "SHA-256"
          ],
          [
           "SHA-256"
          ],
          [
           "NIST5"
          ],
          [
           "X11"
          ],
          [
           "POS 3.0"
          ],
          [
           "Scrypt"
          ],
          [
           "Scrypt"
          ],
          [
           "Scrypt"
          ],
          [
           "X13"
          ],
          [
           "X11"
          ],
          [
           "X11"
          ],
          [
           "Scrypt"
          ],
          [
           "SHA-256"
          ],
          [
           "X11"
          ],
          [
           "Scrypt"
          ],
          [
           "Scrypt"
          ],
          [
           "Scrypt"
          ],
          [
           "Scrypt"
          ],
          [
           "SHA-256D"
          ],
          [
           "PoS"
          ],
          [
           "Scrypt"
          ],
          [
           "X11"
          ],
          [
           "PoS"
          ],
          [
           "X13"
          ],
          [
           "X14"
          ],
          [
           "PoS"
          ],
          [
           "SHA-256D"
          ],
          [
           "DPoS"
          ],
          [
           "X11"
          ],
          [
           "X13"
          ],
          [
           "X11"
          ],
          [
           "PoS"
          ],
          [
           "Scrypt"
          ],
          [
           "Scrypt"
          ],
          [
           "PoS"
          ],
          [
           "X11"
          ],
          [
           "SHA-256"
          ],
          [
           "Scrypt"
          ],
          [
           "X11"
          ],
          [
           "Scrypt"
          ],
          [
           "Scrypt"
          ],
          [
           "X11"
          ],
          [
           "Scrypt"
          ],
          [
           "Scrypt"
          ],
          [
           "Scrypt"
          ],
          [
           "Scrypt"
          ],
          [
           "Quark"
          ],
          [
           "QuBit"
          ],
          [
           "Scrypt"
          ],
          [
           "SHA-256"
          ],
          [
           "X11"
          ],
          [
           "Scrypt"
          ],
          [
           "Scrypt"
          ],
          [
           "Scrypt"
          ],
          [
           "Scrypt"
          ],
          [
           "X13"
          ],
          [
           "Scrypt"
          ],
          [
           "Scrypt"
          ],
          [
           "X11"
          ],
          [
           "Blake2S"
          ],
          [
           "X11"
          ],
          [
           "PoS"
          ],
          [
           "X11"
          ],
          [
           "PoS"
          ],
          [
           "X11"
          ],
          [
           "Scrypt"
          ],
          [
           "Scrypt"
          ],
          [
           "Scrypt"
          ],
          [
           "SHA-256"
          ],
          [
           "X11"
          ],
          [
           "Scrypt"
          ],
          [
           "PoS"
          ],
          [
           "Scrypt"
          ],
          [
           "X15"
          ],
          [
           "SHA-256"
          ],
          [
           "POS 3.0"
          ],
          [
           "536"
          ],
          [
           "NIST5"
          ],
          [
           "NIST5"
          ],
          [
           "Skein"
          ],
          [
           "X13"
          ],
          [
           "Scrypt"
          ],
          [
           "X13"
          ],
          [
           "SkunkHash v2 Raptor"
          ],
          [
           "Skein"
          ],
          [
           "X11"
          ],
          [
           "Scrypt"
          ],
          [
           "VeChainThor Authority"
          ],
          [
           "PoS"
          ],
          [
           "Scrypt"
          ],
          [
           "Scrypt"
          ],
          [
           "SHA-512"
          ],
          [
           "Ouroboros"
          ],
          [
           "X11"
          ],
          [
           "NeoScrypt"
          ],
          [
           "Scrypt"
          ],
          [
           "Lyra2REv2"
          ],
          [
           "Scrypt"
          ],
          [
           "SHA-256"
          ],
          [
           "NIST5"
          ],
          [
           "PHI1612"
          ],
          [
           "Scrypt"
          ],
          [
           "Quark"
          ],
          [
           "POS 2.0"
          ],
          [
           "Scrypt"
          ],
          [
           "SHA-256"
          ],
          [
           "Quark"
          ],
          [
           "X11"
          ],
          [
           "DPoS"
          ],
          [
           "NIST5"
          ],
          [
           "X13"
          ],
          [
           "Scrypt"
          ],
          [
           "NIST5"
          ],
          [
           "Quark"
          ],
          [
           "Scrypt"
          ],
          [
           "Scrypt"
          ],
          [
           "X11"
          ],
          [
           "Scrypt"
          ],
          [
           "Scrypt"
          ],
          [
           "Quark"
          ],
          [
           "Scrypt"
          ],
          [
           "Scrypt"
          ],
          [
           "X11"
          ],
          [
           "Scrypt"
          ],
          [
           "POS 3.0"
          ],
          [
           "Scrypt"
          ],
          [
           "Scrypt"
          ],
          [
           "X11"
          ],
          [
           "SHA-256"
          ],
          [
           "X13"
          ],
          [
           "Proof-of-BibleHash"
          ],
          [
           "Skein"
          ],
          [
           "X11"
          ],
          [
           "Skein"
          ],
          [
           "C11"
          ],
          [
           "X11"
          ],
          [
           "XEVAN"
          ],
          [
           "Scrypt"
          ],
          [
           "VBFT"
          ],
          [
           "PHI1612"
          ],
          [
           "NIST5"
          ],
          [
           "Scrypt"
          ],
          [
           "Scrypt"
          ],
          [
           "Scrypt"
          ],
          [
           "Green Protocol"
          ],
          [
           "PoS"
          ],
          [
           "Scrypt"
          ],
          [
           "Semux BFT consensus"
          ],
          [
           "Quark"
          ],
          [
           "PoS"
          ],
          [
           "X16R"
          ],
          [
           "Scrypt"
          ],
          [
           "XEVAN"
          ],
          [
           "Scrypt"
          ],
          [
           "Scrypt"
          ],
          [
           "Scrypt"
          ],
          [
           "X11"
          ],
          [
           "SHA-256D"
          ],
          [
           "Scrypt"
          ],
          [
           "Scrypt"
          ],
          [
           "X11"
          ],
          [
           "Scrypt"
          ],
          [
           "SHA-256D"
          ],
          [
           "Scrypt"
          ],
          [
           "X15"
          ],
          [
           "Scrypt"
          ],
          [
           "Quark"
          ],
          [
           "Scrypt"
          ],
          [
           "SHA-256"
          ],
          [
           "DPoS"
          ],
          [
           "Scrypt"
          ],
          [
           "X16R"
          ],
          [
           "Quark"
          ],
          [
           "Quark"
          ],
          [
           "Scrypt"
          ],
          [
           "Lyra2REv2"
          ],
          [
           "Quark"
          ],
          [
           "Scrypt"
          ],
          [
           "X11"
          ],
          [
           "X11"
          ],
          [
           "Scrypt"
          ],
          [
           "PoS"
          ],
          [
           "Keccak"
          ],
          [
           "X11"
          ],
          [
           "Tribus"
          ],
          [
           "Scrypt"
          ],
          [
           "NeoScrypt"
          ],
          [
           "SHA-512"
          ],
          [
           "XEVAN"
          ],
          [
           "SHA-512"
          ],
          [
           "Quark"
          ],
          [
           "XEVAN"
          ],
          [
           "X11"
          ],
          [
           "Quark"
          ],
          [
           "Scrypt"
          ],
          [
           "Quark"
          ],
          [
           "Quark"
          ],
          [
           "Scrypt"
          ],
          [
           "X11"
          ],
          [
           "Scrypt"
          ],
          [
           "XEVAN"
          ],
          [
           "SHA-256D"
          ],
          [
           "X11"
          ],
          [
           "X11"
          ],
          [
           "DPoS"
          ],
          [
           "Scrypt"
          ],
          [
           "X11"
          ],
          [
           "Scrypt"
          ],
          [
           "Scrypt"
          ],
          [
           "SHA-256"
          ],
          [
           "Scrypt"
          ],
          [
           "X11"
          ],
          [
           "Scrypt"
          ],
          [
           "SHA-256"
          ],
          [
           "X11"
          ],
          [
           "Scrypt"
          ],
          [
           "Scrypt"
          ],
          [
           "X11"
          ],
          [
           "Scrypt"
          ],
          [
           "PoS"
          ],
          [
           "X11"
          ],
          [
           "SHA-256"
          ],
          [
           "DPoS"
          ],
          [
           "Scrypt"
          ],
          [
           "Scrypt"
          ],
          [
           "NeoScrypt"
          ],
          [
           "X13"
          ],
          [
           "PHI2"
          ],
          [
           "DPoS"
          ],
          [
           "DPoS"
          ],
          [
           "SHA-256"
          ],
          [
           "Lyra2Z"
          ],
          [
           "Leased POS"
          ],
          [
           "PoS"
          ],
          [
           "Scrypt"
          ],
          [
           "PoS"
          ],
          [
           "SHA-256"
          ],
          [
           "Scrypt"
          ],
          [
           "Scrypt"
          ],
          [
           "Scrypt"
          ]
         ],
         "hovertemplate": "<b>%{hovertext}</b><br><br>Class=%{marker.color}<br>PC1=%{x}<br>PC2=%{y}<br>PC3=%{z}<br>Algorithm=%{customdata[0]}<extra></extra>",
         "hovertext": [
          "42 Coin",
          "404Coin",
          "EliteCoin",
          "Dash",
          "Bitshares",
          "BitcoinDark",
          "PayCoin",
          "KoboCoin",
          "Aurora Coin",
          "BlueCoin",
          "EnergyCoin",
          "BitBar",
          "CryptoBullion",
          "CasinoCoin",
          "Diamond",
          "Exclusive Coin",
          "FlutterCoin",
          "HoboNickels",
          "HyperStake",
          "IOCoin",
          "MaxCoin",
          "MintCoin",
          "MazaCoin",
          "Nautilus Coin",
          "NavCoin",
          "OpalCoin",
          "Orbitcoin",
          "PotCoin",
          "PhoenixCoin",
          "Reddcoin",
          "SuperCoin",
          "SyncCoin",
          "TeslaCoin",
          "TittieCoin",
          "TorCoin",
          "UnitaryStatus Dollar",
          "UltraCoin",
          "VeriCoin",
          "X11 Coin",
          "Crypti",
          "StealthCoin",
          "ZCC Coin",
          "BurstCoin",
          "StorjCoin",
          "Neutron",
          "FairCoin",
          "RubyCoin",
          "Kore",
          "Dnotes",
          "8BIT Coin",
          "Sativa Coin",
          "Ucoin",
          "Vtorrent",
          "IslaCoin",
          "Nexus",
          "Droidz",
          "Squall Coin",
          "Diggits",
          "Paycon",
          "Emercoin",
          "EverGreenCoin",
          "Decred",
          "EDRCoin",
          "Hitcoin",
          "DubaiCoin",
          "PWR Coin",
          "BillaryCoin",
          "GPU Coin",
          "EuropeCoin",
          "ZeitCoin",
          "SwingCoin",
          "SafeExchangeCoin",
          "Nebuchadnezzar",
          "Ratecoin",
          "Revenu",
          "Clockcoin",
          "VIP Tokens",
          "BitSend",
          "Let it Ride",
          "PutinCoin",
          "iBankCoin",
          "Frankywillcoin",
          "MudraCoin",
          "Lutetium Coin",
          "GoldBlocks",
          "CarterCoin",
          "BitTokens",
          "MustangCoin",
          "ZoneCoin",
          "RootCoin",
          "BitCurrency",
          "Swiscoin",
          "BuzzCoin",
          "Opair",
          "PesoBit",
          "Halloween Coin",
          "CoffeeCoin",
          "RoyalCoin",
          "GanjaCoin V2",
          "TeamUP",
          "LanaCoin",
          "ARK",
          "InsaneCoin",
          "EmberCoin",
          "XenixCoin",
          "FreeCoin",
          "PLNCoin",
          "AquariusCoin",
          "Creatio",
          "Eternity",
          "Eurocoin",
          "BitcoinFast",
          "Stakenet",
          "BitConnect Coin",
          "MoneyCoin",
          "Enigma",
          "Russiacoin",
          "PandaCoin",
          "GameUnits",
          "GAKHcoin",
          "Allsafe",
          "LiteCreed",
          "Klingon Empire Darsek",
          "Internet of People",
          "KushCoin",
          "Printerium",
          "Impeach",
          "Zilbercoin",
          "FirstCoin",
          "FindCoin",
          "OpenChat",
          "RenosCoin",
          "VirtacoinPlus",
          "TajCoin",
          "Impact",
          "Atmos",
          "HappyCoin",
          "MacronCoin",
          "Condensate",
          "Independent Money System",
          "ArgusCoin",
          "LomoCoin",
          "ProCurrency",
          "GoldReserve",
          "GrowthCoin",
          "Phreak",
          "Degas Coin",
          "HTML5 Coin",
          "Ultimate Secure Cash",
          "QTUM",
          "Espers",
          "Denarius",
          "Virta Unique Coin",
          "Bitcoin Planet",
          "BritCoin",
          "Linda",
          "DeepOnion",
          "Signatum",
          "Cream",
          "Monoeci",
          "Draftcoin",
          "Vechain",
          "Stakecoin",
          "CoinonatX",
          "Ethereum Dark",
          "Obsidian",
          "Cardano",
          "Regalcoin",
          "TrezarCoin",
          "TerraNovaCoin",
          "Rupee",
          "WomenCoin",
          "Theresa May Coin",
          "NamoCoin",
          "LUXCoin",
          "Xios",
          "Bitcloud 2.0",
          "KekCoin",
          "BlackholeCoin",
          "Infinity Economics",
          "Alqo",
          "Magnet",
          "Lamden Tau",
          "Electra",
          "Bitcoin Diamond",
          "Cash & Back Coin",
          "Bulwark",
          "Kalkulus",
          "GermanCoin",
          "LiteCoin Ultra",
          "PhantomX",
          "Accolade",
          "OmiseGO Classic",
          "Digiwage",
          "Trollcoin",
          "Litecoin Plus",
          "Monkey Project",
          "ECC",
          "TokenPay",
          "My Big Coin",
          "Unified Society USDEX",
          "BitSoar Coin",
          "Credence Coin",
          "Tokyo Coin",
          "BiblePay",
          "BashCoin",
          "DigiMoney",
          "Lizus Payment",
          "Stipend",
          "Pushi",
          "Ellerium",
          "Velox",
          "Ontology",
          "Seraph",
          "Bitspace",
          "Briacoin",
          "Ignition",
          "MedicCoin",
          "Bitcoin Green",
          "Deviant Coin",
          "Abjcoin",
          "Semux",
          "Carebit",
          "Zealium",
          "Proton",
          "iDealCash",
          "Bitcoin Incognito",
          "HollyWoodCoin",
          "Parlay",
          "Listerclassic Coin",
          "BetKings",
          "Cognitio",
          "Mercoin",
          "Swisscoin",
          "Reliance",
          "Xt3ch",
          "TheVig",
          "EmaratCoin",
          "Dekado",
          "Lynx",
          "Poseidon Quark",
          "MYCE",
          "BitcoinWSpectrum",
          "Muse",
          "GambleCoin",
          "Trivechain",
          "Dystem",
          "Giant",
          "Peony Coin",
          "Absolute Coin",
          "Vitae",
          "TPCash",
          "ARENON",
          "EUNO",
          "MMOCoin",
          "Ketan",
          "XDNA",
          "PAXEX",
          "Averopay",
          "ThunderStake",
          "SimpleBank",
          "Kcash",
          "Bettex coin",
          "TWIST",
          "DACH Coin",
          "BitMoney",
          "Junson Ming Chan Coin",
          "HerbCoin",
          "Oduwa",
          "Galilel",
          "Crypto Sports",
          "Credit",
          "Dash Platinum",
          "Nasdacoin",
          "Beetle Coin",
          "Titan Coin",
          "Award",
          "Insane Coin",
          "ALAX",
          "LiteDoge",
          "TruckCoin",
          "OrangeCoin",
          "BitstarCoin",
          "NeosCoin",
          "HyperCoin",
          "PinkCoin",
          "AudioCoin",
          "IncaKoin",
          "Piggy Coin",
          "Genstake",
          "XiaoMiCoin",
          "CapriCoin",
          " ClubCoin",
          "Radium",
          "Creditbit ",
          "OKCash",
          "Lisk",
          "HiCoin",
          "WhiteCoin",
          "FriendshipCoin",
          "Triangles Coin",
          "Gexan",
          "EOS",
          "Oxycoin",
          "TigerCash",
          "LAPO",
          "Waves",
          "Particl",
          "ShardCoin",
          "Nxt",
          "ZEPHYR",
          "Gapcoin",
          "BitcoinPlus",
          "DivotyCoin"
         ],
         "legendgroup": "1",
         "marker": {
          "color": [
           1,
           1,
           1,
           1,
           1,
           1,
           1,
           1,
           1,
           1,
           1,
           1,
           1,
           1,
           1,
           1,
           1,
           1,
           1,
           1,
           1,
           1,
           1,
           1,
           1,
           1,
           1,
           1,
           1,
           1,
           1,
           1,
           1,
           1,
           1,
           1,
           1,
           1,
           1,
           1,
           1,
           1,
           1,
           1,
           1,
           1,
           1,
           1,
           1,
           1,
           1,
           1,
           1,
           1,
           1,
           1,
           1,
           1,
           1,
           1,
           1,
           1,
           1,
           1,
           1,
           1,
           1,
           1,
           1,
           1,
           1,
           1,
           1,
           1,
           1,
           1,
           1,
           1,
           1,
           1,
           1,
           1,
           1,
           1,
           1,
           1,
           1,
           1,
           1,
           1,
           1,
           1,
           1,
           1,
           1,
           1,
           1,
           1,
           1,
           1,
           1,
           1,
           1,
           1,
           1,
           1,
           1,
           1,
           1,
           1,
           1,
           1,
           1,
           1,
           1,
           1,
           1,
           1,
           1,
           1,
           1,
           1,
           1,
           1,
           1,
           1,
           1,
           1,
           1,
           1,
           1,
           1,
           1,
           1,
           1,
           1,
           1,
           1,
           1,
           1,
           1,
           1,
           1,
           1,
           1,
           1,
           1,
           1,
           1,
           1,
           1,
           1,
           1,
           1,
           1,
           1,
           1,
           1,
           1,
           1,
           1,
           1,
           1,
           1,
           1,
           1,
           1,
           1,
           1,
           1,
           1,
           1,
           1,
           1,
           1,
           1,
           1,
           1,
           1,
           1,
           1,
           1,
           1,
           1,
           1,
           1,
           1,
           1,
           1,
           1,
           1,
           1,
           1,
           1,
           1,
           1,
           1,
           1,
           1,
           1,
           1,
           1,
           1,
           1,
           1,
           1,
           1,
           1,
           1,
           1,
           1,
           1,
           1,
           1,
           1,
           1,
           1,
           1,
           1,
           1,
           1,
           1,
           1,
           1,
           1,
           1,
           1,
           1,
           1,
           1,
           1,
           1,
           1,
           1,
           1,
           1,
           1,
           1,
           1,
           1,
           1,
           1,
           1,
           1,
           1,
           1,
           1,
           1,
           1,
           1,
           1,
           1,
           1,
           1,
           1,
           1,
           1,
           1,
           1,
           1,
           1,
           1,
           1,
           1,
           1,
           1,
           1,
           1,
           1,
           1,
           1,
           1,
           1,
           1,
           1,
           1,
           1,
           1,
           1,
           1,
           1,
           1,
           1,
           1,
           1,
           1,
           1,
           1,
           1,
           1,
           1,
           1,
           1,
           1,
           1,
           1,
           1,
           1,
           1,
           1,
           1,
           1,
           1,
           1,
           1,
           1,
           1,
           1,
           1,
           1,
           1,
           1,
           1,
           1
          ],
          "coloraxis": "coloraxis",
          "symbol": "circle"
         },
         "mode": "markers",
         "name": "1",
         "scene": "scene",
         "showlegend": true,
         "type": "scatter3d",
         "x": [
          -0.31250830309326133,
          -0.29512644811089855,
          2.4308396377404122,
          -0.39575476423356964,
          -0.25029341156594304,
          -0.3081007097930197,
          -0.26224470937893896,
          -0.2214186118777377,
          -0.31215334284483864,
          -0.3044033131249857,
          -0.3109386071226505,
          -0.31250407407076225,
          -0.31248767623375706,
          0.742174337319131,
          -0.37447814256279904,
          -0.33143918545621015,
          -0.25886380288805233,
          -0.3104848604192122,
          -0.3288327491927783,
          -0.39564481882914654,
          -0.39020133902695386,
          0.004890527432473192,
          -0.26985648322847666,
          -0.266393135527079,
          -0.2582409240775197,
          -0.2588905583043688,
          -0.3386215187791275,
          -0.3065711251450173,
          -0.31084233070556816,
          0.061419089418023015,
          -0.34959590396808915,
          -0.39603215553172844,
          -0.23601674678722948,
          -0.28692631918889616,
          -0.39594017917980723,
          -0.2866932693837695,
          -0.31113019004640935,
          -0.24479550887887974,
          -0.3959029640122292,
          -0.236502315270141,
          -0.2586617627762357,
          -0.3032471393653697,
          0.06427903428051503,
          -0.34505687048736444,
          -0.3072789610009687,
          -0.373874087491227,
          -0.26637207392424284,
          -0.25896960233282046,
          -0.26080440799229276,
          -0.3124895812594977,
          -0.2589196245094153,
          -0.35006091341338064,
          -0.3122128125650371,
          -0.3960128702449542,
          -0.37511030224280667,
          -0.423208868293999,
          -0.4207888104808776,
          -0.26470594267594316,
          -0.25842129174122325,
          -0.3003566162963624,
          -0.2239586482793167,
          -0.07245049259322157,
          -0.30807034171271575,
          -0.06000464422842998,
          -0.3081365230822731,
          -0.2109420675420968,
          -0.31208383521065747,
          -0.2645725898541514,
          -0.3930680019557877,
          0.9348362406055258,
          -0.3079285955621436,
          -0.019749930175928323,
          -0.3311090562695807,
          -0.39376288257628017,
          -0.3066218521207664,
          -0.3041957345443271,
          -0.3376523622471515,
          -0.3946961882139913,
          -0.33492303795113354,
          -0.28739008361425944,
          -0.3121236771779558,
          -0.3104954277144609,
          -0.2117559178209964,
          -0.3370180960865694,
          -0.39546498122111545,
          -0.31129410110135186,
          -0.30811692821648046,
          -0.396001669065865,
          -0.3123205265120288,
          -0.3124835601691616,
          -0.2645555461232051,
          -0.20238354858944466,
          0.05153929491966633,
          -0.33002167189437787,
          -0.3120807102354274,
          -0.3815958698699798,
          -0.329319771590182,
          -0.2132440720831083,
          -0.3956915757727141,
          -0.32906492263430515,
          -0.2765016840813099,
          3.8625054702287853,
          -0.3955770053874647,
          0.9231261221947864,
          -0.39595461521963293,
          -0.33050519340231665,
          -0.31200614666028453,
          -0.31216737145922463,
          -0.3311090562695807,
          -0.3955123494319853,
          -0.30797352032178205,
          -0.31200676045441345,
          -0.43663070165345436,
          -0.3121605082148105,
          -0.30757143967837297,
          -0.3959849190254321,
          -0.3113396563353878,
          0.40432542186399645,
          -0.3123681495148135,
          -0.31244156121024846,
          -0.33441464973863,
          -0.34473252007420785,
          -0.3085158635912195,
          -0.3080923022994174,
          -0.395891022888851,
          -0.312210044599217,
          -0.3123426473429514,
          -0.26627599706435034,
          -0.2498065763933097,
          -0.21300202920258252,
          -0.29237954169653957,
          -0.2660051438302577,
          -0.3951269325541516,
          -0.40777526154171456,
          -0.39380997331679296,
          -0.32928084124440393,
          -0.3950203168653722,
          -0.323441996292211,
          -0.39079354861243015,
          -0.31228341401221865,
          -0.3122827743337396,
          -0.30512841424962134,
          0.291806009151971,
          -0.39551821216229643,
          -0.24820726806233143,
          -0.3311451409706165,
          -0.3114616487936418,
          0.9579069153242852,
          -0.26088262952071956,
          -0.33364939704492275,
          0.6462929840235411,
          -0.33925346695900416,
          -0.3376927457396085,
          -0.3974779268831571,
          -0.2585913963270065,
          0.17153765628486753,
          -0.2586649784604045,
          -0.3326103133017873,
          -0.3969609892407868,
          -0.39580175185255523,
          -0.26635242132459513,
          4.516821072528798,
          -0.3310064024286435,
          -0.31190328490124564,
          -0.31242376313725745,
          -0.31081893408026295,
          0.7313300194822079,
          -0.3957404593374945,
          -0.3334113933762513,
          -0.3123777436587418,
          -0.29661490892024295,
          0.4899421923133754,
          -0.3063678846261849,
          -0.32338207051210466,
          -0.369819709265126,
          -0.31232604037708633,
          -0.3785824583575579,
          -0.34776279367266394,
          -0.31219055405232515,
          -0.08133102172550237,
          -0.379189591378414,
          -0.39448315954739416,
          3.8675650598639066,
          0.2440632185687723,
          -0.25519442158608935,
          -0.30954432729584785,
          -0.29321758782878626,
          -0.3342956639776274,
          0.11881471394600965,
          -0.3112948855461249,
          -0.3950872939124237,
          -0.31206853174446625,
          -0.31135524740958004,
          -0.3334263735463351,
          -0.29833350006937687,
          -0.3124468645420165,
          -0.35003163352445077,
          0.23650023715321633,
          -0.3352171433885573,
          -0.25755360737456245,
          -0.30780212626637415,
          -0.27395300191720184,
          -0.3080513166951909,
          -0.20445806642936992,
          -0.18931595605105955,
          -0.3976224268167815,
          -0.3958029208448859,
          -0.39775521028962385,
          -0.34885880090580884,
          -0.39582018893956716,
          -0.33785266297617006,
          -0.26547835148963167,
          -0.3059018290867116,
          -0.3701147595159638,
          -0.33883586596224674,
          -0.31247539708061156,
          -0.31245635771471325,
          -0.25962261413476495,
          -0.3364966556860771,
          -0.33058372111443973,
          -0.31216107029711754,
          4.0764312764686474,
          -0.3771917783546802,
          -0.33078048291256323,
          -0.31489834371818864,
          -0.2568311542491407,
          -0.362767313967879,
          -0.2660333925481491,
          -0.26644935698289623,
          -0.31159396617794316,
          -0.3500377174965939,
          -0.3455868190331144,
          -0.311447859026822,
          -0.10719492906889824,
          -0.34969297563834845,
          -0.26629706181028634,
          -0.3444892082279198,
          -0.3116134239440916,
          -0.1774857589063297,
          2.3896783562975132,
          -0.3298319797615918,
          -0.30985351466387123,
          -0.2610132034182202,
          1.067253087367071,
          -0.2664986791119243,
          -0.3599961866439524,
          -0.3344142278038753,
          -0.38033540874715155,
          -0.14224064413092455,
          -0.34233031399184155,
          -0.33307952430144544,
          -0.3050658650219616,
          -0.3495913622960388,
          -0.3952710089048828,
          -0.26342715066806865,
          -0.32984422408402553,
          -0.3356932133754292,
          -0.34944788387584835,
          -0.37136600127730285,
          -0.1662651073140064,
          -0.3385051766745175,
          -0.3049862831013707,
          -0.29205568596952425,
          -0.30778592038213426,
          -0.3341967759777688,
          0.46537522175146107,
          -0.13072581017760845,
          -0.37960030886575924,
          -0.3121649688457894,
          -0.3800755573244536,
          -0.33453614778201163,
          0.632220041415962,
          -0.35008830627676224,
          -0.31162685281774116,
          -0.3320761598290551,
          -0.2973496495155074,
          -0.392738613901955,
          -0.39550770423413356,
          3.8803323988117056,
          0.14096085546955978,
          -0.39293808451929385,
          -0.3109884842927139,
          -0.311845786977225,
          -0.2622790136710401,
          -0.3123854555732466,
          -0.38677962223966245,
          -0.22257693850204435,
          -0.07805271844269732,
          -0.38235450251078557,
          -0.3116323862470248,
          -0.30440174131635017,
          -0.39193003503556856,
          -0.3100068190539979,
          -0.33139652896042243,
          -0.423135362498051,
          -0.30655263615822176,
          3.862913581691339,
          -0.06536292589226304,
          -0.30708185630191803,
          -0.33823245535191904,
          -0.25908120104628657,
          -0.40827398723715946,
          3.8732209372793167,
          3.8745199033895004,
          -0.24236111953502917,
          0.6370985917230203,
          -0.3557493943169505,
          -0.33132955883700793,
          -0.2597647336092643,
          -0.32344157862289763,
          2.571083599225062,
          -0.31047447669355904,
          -0.2667098085451499,
          -0.3114968269279065
         ],
         "y": [
          1.1123121583844007,
          1.112204944095173,
          1.73955415959501,
          1.3508132809487061,
          0.8665861884234247,
          0.9366968607046535,
          0.5107419076303835,
          1.9159306918196874,
          1.1123059499529306,
          1.1124310177704082,
          1.1123351779423356,
          1.1123118800944718,
          1.1123117802311346,
          0.5548069426584398,
          1.0150955672490949,
          1.2049524423522504,
          0.19856001190008868,
          1.1122601512475025,
          0.9251757685702143,
          1.350814893293737,
          1.9568407188130355,
          0.6903329038032219,
          0.935625999216122,
          0.6863435263080884,
          1.9139589231062188,
          1.9139493962459677,
          0.6047629280087362,
          1.112113343839806,
          1.1122698837864755,
          1.117795788839227,
          0.9248712777264014,
          1.350824187162223,
          -0.08230022868982574,
          1.0134416338561998,
          1.3508187299331025,
          1.1116016565643192,
          1.1122643009927513,
          0.15477769683181009,
          1.3508223387247744,
          -0.08223928213884638,
          1.9139527515233414,
          1.1117672990770622,
          1.1631388002496075,
          1.180476272132839,
          0.93667760061715,
          1.0151074070446742,
          0.6863548484799427,
          1.9139400689811858,
          0.6860961611127835,
          1.1123124329679437,
          1.9139421632518614,
          0.9248508449025562,
          1.1123028782911883,
          1.3508244706608643,
          1.8609937373261285,
          2.1617328331937284,
          1.4382025033531187,
          0.6863112148352392,
          1.9139222443247708,
          0.936144728420355,
          1.9161137778006625,
          1.0249960793719446,
          0.9366973060513505,
          1.3376801250138395,
          0.9367041632544444,
          1.6393035905123412,
          1.1122897949124027,
          0.6862307730776335,
          1.3506062782465327,
          0.6365838012713989,
          0.9366871326221993,
          0.5693985746883604,
          1.2049436702050027,
          1.3508064160958757,
          0.9365819198181772,
          0.9364117480225589,
          1.6373841283963435,
          1.350749166073709,
          1.2165943298074562,
          1.1113191682368537,
          1.1122876223925706,
          1.1122736097572516,
          1.4878705931882021,
          0.9246085280058309,
          1.350798471734945,
          1.1122687039829706,
          0.9366973035360509,
          1.3508225929039055,
          1.1123006179964785,
          1.112312521266995,
          0.6863814877883201,
          0.3576046278986348,
          2.05286593081155,
          1.2049228602613367,
          1.1123184290453452,
          1.3500148844975963,
          1.2049562965847913,
          1.4879832024827093,
          2.0397098024640967,
          1.2047823779679756,
          2.056559562979201,
          2.094881506169807,
          1.3508104423836909,
          1.9307050512835668,
          1.350822702109404,
          1.2049321056120001,
          1.11229328934374,
          1.11228856985662,
          1.2049436702050027,
          1.350790970342647,
          0.9367000872810918,
          1.1122970512760777,
          0.7560018252564635,
          1.11229819994093,
          1.1119416701303635,
          1.3508214771947142,
          1.1122312795247307,
          0.6740585442788585,
          1.1123053649985124,
          1.1123108802089186,
          1.1995791070363186,
          0.6909502495639197,
          1.1120303704125216,
          0.9366976646741506,
          1.3508198905235282,
          1.1123029188832971,
          1.1122996582999216,
          0.6863188203768246,
          0.23465683101069626,
          1.4879785671133992,
          1.1119266719671748,
          0.6863367963264234,
          1.3507693955084887,
          2.110814311783561,
          1.3507819019242744,
          1.2049090228359745,
          1.350770959023349,
          1.2047974512408084,
          1.350560674838327,
          1.1123010178645851,
          1.1122959985087686,
          1.111739710255269,
          0.4678250027486642,
          1.3508044978446552,
          0.6852598867680458,
          1.2049363342849304,
          1.1122560367936505,
          1.872203035700103,
          0.5106341988019375,
          1.2165677428842543,
          2.0447321488109393,
          1.637415102173917,
          1.637363115955949,
          2.152897187381551,
          1.9139333632264626,
          1.0853769764774677,
          1.9139398408617114,
          1.2809052395764096,
          2.1529047682516365,
          1.3508210953521709,
          0.6863432889480722,
          4.476031046093671,
          1.2049168596076147,
          1.1122881871021042,
          1.1123105393575734,
          0.8680871924501268,
          1.222464942650967,
          1.3508100873597841,
          0.604569630858175,
          1.11230336379224,
          0.2779142769471905,
          1.1070632148041435,
          0.936669179950216,
          1.6368378535916406,
          1.4403846110941374,
          1.1123005371358659,
          1.6254393591007783,
          1.217893612484514,
          1.1123067521960903,
          0.5072774427084156,
          1.625527193375264,
          1.3507488867610025,
          2.0947004521258217,
          1.625556006967936,
          1.9138606584182758,
          1.1122126834743449,
          1.211444261709707,
          1.19957744858812,
          1.0846037966127131,
          1.1122278520429698,
          1.3508040105043935,
          1.1122845739456433,
          1.1122814207534943,
          1.1995221293043419,
          1.1119074247966365,
          1.1123103367111735,
          0.924850593617034,
          0.6767126026431115,
          1.2165958024913,
          0.33114154327052303,
          1.1122232579569682,
          0.9232714956295383,
          0.9366955430306729,
          1.487569211528817,
          1.8978023803926414,
          2.152914127165941,
          1.3508105327121198,
          2.152914221923369,
          1.0561501308109504,
          1.3508102794761938,
          2.061876336122537,
          0.6862835513160676,
          1.2646424360332624,
          1.4403993430640778,
          1.637393999318589,
          1.112310598956559,
          1.1123095168202348,
          0.6861134920729763,
          1.2734756691931353,
          1.2049050883966455,
          1.1122968303501433,
          2.239978435101894,
          1.6254597533680337,
          1.2049076482841432,
          0.526041428647623,
          1.1096422829033612,
          2.1492788809105394,
          0.6863421177066005,
          0.6863332949088687,
          1.1122506929947626,
          0.9248592523226324,
          2.060650465714452,
          1.1122596423897149,
          1.108380196779722,
          0.9248276523901745,
          0.6863259988764522,
          2.0606035997944465,
          1.1122681051697227,
          1.4901180446851332,
          0.19894699832021137,
          1.1992140837610918,
          1.1121809222963854,
          0.510700230171111,
          1.6590939717490474,
          0.6863423733064725,
          0.9519884095063781,
          1.1995750291803606,
          1.625546280788346,
          0.6766854549531738,
          0.7038583590418187,
          1.1995408293135204,
          1.1117406275372197,
          0.9248339072633727,
          1.350801316331293,
          0.6862210604397414,
          1.2048328908711876,
          1.0084063773756815,
          0.9248053810416199,
          1.0859058713271648,
          1.1022046782520019,
          0.6047529061491862,
          0.6819592432799184,
          1.6359208578092994,
          0.8680577427624847,
          1.1995666466458839,
          2.6332883052095424,
          0.9280809989978012,
          1.6255238107579506,
          1.1123028992435036,
          1.6255406403422676,
          1.1995784347708327,
          1.0752521518319693,
          0.9248506473894784,
          1.1122679082358216,
          2.061661551781029,
          2.0579595972735856,
          1.3505866044476285,
          1.3508114586823645,
          2.094547347678766,
          1.0951386779397507,
          1.3508695622719555,
          1.1121983117084457,
          1.1122849434595756,
          0.510735618830842,
          1.1123139599670155,
          1.350619538909875,
          1.1064839219927993,
          0.939956152180581,
          1.3503440961478232,
          1.1123147935898707,
          1.112158771246593,
          1.3507427650991264,
          1.1122399347477894,
          1.2049469418426515,
          0.7868032421689632,
          0.9366630672066247,
          2.0948637230635083,
          0.6824898861433945,
          1.1121875348598826,
          0.6047302448611832,
          1.9139465187968234,
          2.1133675732596706,
          2.0951237323123952,
          2.09514278159904,
          0.5103613341776368,
          0.29017069156249736,
          0.587613567642177,
          1.2049481729882296,
          0.6858391383221757,
          1.1425422155621672,
          0.945807760977137,
          1.1121718159127727,
          0.6863492149411451,
          1.1122589242773817
         ],
         "z": [
          -0.2478118114823472,
          -0.24799210984926037,
          -0.26629056448525756,
          -0.1857341509337362,
          -0.18967084666312162,
          -0.14298381471469868,
          -0.05200349177062042,
          -0.30571440062485494,
          -0.24781509760459672,
          -0.24791251219111185,
          -0.2478313142227335,
          -0.24781183051088623,
          -0.24781200072843343,
          0.18647913131870014,
          -0.23411288595798546,
          -0.11729021719274736,
          -0.2480880485401286,
          -0.24782890751686915,
          -0.09501640130671875,
          -0.18573551695391377,
          -0.3770963441152642,
          -0.1602046442404637,
          -0.14329828310111214,
          -0.1568329870922247,
          -0.25393991569899255,
          -0.2539318442978549,
          -0.1313547558786749,
          -0.24785742310483405,
          -0.24782594090355523,
          -0.25245768428043985,
          -0.09475842882904856,
          -0.1857321791973247,
          0.010576784918328638,
          -0.11133922412991536,
          -0.18573265166945477,
          -0.24802529391045164,
          -0.24782223031440484,
          -0.20121912856743934,
          -0.18573341571159793,
          0.010576114299215025,
          -0.25393468697517957,
          -0.24785984130688796,
          0.8488295758249795,
          -0.03495086799450466,
          -0.14299094091184458,
          -0.23412068467626945,
          -0.15683433341205485,
          -0.25393005778318306,
          -0.15686999115376002,
          -0.2478120440951825,
          -0.2539308128058454,
          -0.09475131058835023,
          -0.24781414210060132,
          -0.18573241887502034,
          -0.48100264331739456,
          -0.30735509556450474,
          0.05159886291221766,
          -0.15684833073261265,
          -0.2539343229251155,
          -0.14301447043666987,
          -0.3057045414848529,
          -0.13117661048887208,
          -0.1429841920238796,
          -0.18812736323783838,
          -0.14298414066306803,
          -0.24667024747746052,
          -0.24781426979620572,
          -0.15684187271873332,
          -0.1857432657369169,
          -0.16512223997644823,
          -0.14298474650900642,
          0.19340820985397342,
          -0.11729297817730054,
          -0.18575534623331247,
          -0.14298873306759935,
          -0.14299861319565885,
          -0.24508989816387206,
          -0.1857394600563749,
          -0.12381246760717324,
          -0.24798982199908964,
          -0.2478136183615655,
          -0.24783011693921098,
          -0.16295336385753184,
          -0.09487065968173052,
          -0.18573587434954764,
          -0.2478208641543024,
          -0.14298368024418198,
          -0.18573235693702086,
          -0.2478127367694353,
          -0.24781211890441113,
          -0.15685690291956308,
          -0.08479020788318592,
          -0.3050846782007074,
          -0.11730286848579262,
          -0.24781712412624074,
          -0.18581098965238707,
          -0.1173138684925749,
          -0.16294811380008065,
          -0.21622331874045736,
          -0.11729953852040528,
          -0.3018464679203995,
          0.2607520599169454,
          -0.18573582321776408,
          -0.2685608677522056,
          -0.18573288435558685,
          -0.11729846981666628,
          -0.24781546698394852,
          -0.2478132318974254,
          -0.11729297817730054,
          -0.1857346154636841,
          -0.14298552905593798,
          -0.24781583073618632,
          0.024966307493446974,
          -0.24781425567125115,
          -0.24782953219818601,
          -0.18573243097682776,
          -0.24781667821854336,
          -0.16298777227708583,
          -0.24781268136233606,
          -0.2478124184452386,
          -0.10888521104195222,
          -0.08496761053686856,
          -0.24782789777592945,
          -0.14298398620967273,
          -0.18573330571848504,
          -0.24781417649128093,
          -0.24781239936174104,
          -0.1568318401529547,
          -0.12693734496829662,
          -0.1629503149823071,
          -0.24799486612018268,
          -0.15683658454381885,
          -0.18573672265587912,
          -0.3232864377118162,
          -0.18575241489984035,
          -0.11730964022853145,
          -0.18573804730589924,
          -0.11736276420340472,
          -0.18576374860188508,
          -0.24781318365516958,
          -0.247812696350482,
          -0.24783646734718287,
          -0.0538604653695153,
          -0.18573588333804325,
          -0.1569259510170781,
          -0.11729185948376544,
          -0.24781777691563567,
          -0.3143572085491961,
          -0.05200784011791771,
          -0.12382383411834197,
          -0.35356749429622636,
          -0.24507536805154867,
          -0.24508738534382665,
          -0.25699847788920105,
          -0.2539335501713112,
          -0.25047406582517834,
          -0.25393338016664735,
          -0.21823589478203875,
          -0.25700490059739944,
          -0.1857344045946737,
          -0.1568334107685306,
          0.014496187016449755,
          -0.11729146491620218,
          -0.24781609394144108,
          -0.24781258030416978,
          -0.189154086180997,
          -0.14033409526731078,
          -0.18573399348636271,
          -0.1313929276518564,
          -0.24781237892841976,
          -0.04059635992282355,
          -0.25610598816997304,
          -0.1430001154636131,
          -0.2451927901178177,
          -0.20201017188316064,
          -0.24781266826224313,
          -0.19987474419551038,
          -0.124336845546606,
          -0.24781476802429975,
          -0.05364877537400584,
          -0.1998767280270531,
          -0.18574177165881697,
          0.2607143353101294,
          -0.2503124010860491,
          -0.2539636895478052,
          -0.24783455997843734,
          -0.15409545556181065,
          -0.10888635420531931,
          -0.24981900794922565,
          -0.2478168322598284,
          -0.18574056693754112,
          -0.24781392364819343,
          -0.24782144515608726,
          -0.10889045115177212,
          -0.24792759455497818,
          -0.24781230668719118,
          -0.09475160734146047,
          -0.16140639140615867,
          -0.12380938328911732,
          -0.17162322411925424,
          -0.247854731222963,
          -0.09543145398266005,
          -0.14298422729340976,
          -0.16300381476338346,
          -16.219934292616326,
          -0.256998559547628,
          -0.18573335150297912,
          -0.2569971108825473,
          -0.20754249150175352,
          -0.1857331369549868,
          -0.06784177407035705,
          -0.15683712505546524,
          -0.1398586003175606,
          -0.20200838302437735,
          -0.24507787511635415,
          -0.24781201921955873,
          -0.24781212170316297,
          -0.15688467438917492,
          -0.1774863328827572,
          -0.11729494678613417,
          -0.2478141146160379,
          0.3658960606567746,
          -0.1998920227434896,
          -0.11729303839932263,
          -0.028740697988624456,
          -0.248160219886502,
          0.16948861673680807,
          -0.15683679843874695,
          -0.1568313621321745,
          -0.24781579775507168,
          -0.09475239328576314,
          -0.30149078542197333,
          -0.24781828342604223,
          -0.24967896885900287,
          -0.0947530665392717,
          -0.1568323158271691,
          -0.30149822191069664,
          -0.2478172989322859,
          -0.21472697594251608,
          -0.24641798551162805,
          -0.10889958083679216,
          -0.24782803703806108,
          -0.05201290944585426,
          0.06855996026767264,
          -0.15683171464335915,
          -0.11972856056065018,
          -0.10888481406948292,
          -0.1998660264665428,
          -0.15724504397790726,
          -0.13157715601797543,
          -0.10889610130729871,
          -0.2478372444920536,
          -0.09475479828809255,
          -0.18573828436476741,
          -0.15685349339632856,
          -0.11729595632270254,
          -0.16382340342293308,
          -0.09475356432920663,
          -0.1654661926493252,
          -0.24842217029346894,
          -0.1313550463479916,
          -0.38358066080363423,
          0.023139248694025956,
          -0.18918448912716734,
          -0.10888637619798792,
          0.33412933211313184,
          -0.09747778727885886,
          -0.19987188510653942,
          -0.247814669500613,
          -0.19986832420677622,
          -0.10888381075400058,
          -0.25453534090128527,
          -0.09475099035558734,
          -0.24781713208481798,
          -0.06788404866480749,
          -0.30175543342960015,
          -0.18574494494041152,
          -0.18573668425215042,
          0.2605892250017785,
          -0.2510997004185331,
          -0.18577062164817953,
          -0.2478172873618624,
          -0.24781640583529677,
          -0.052002495751534386,
          -0.24781333780808693,
          -0.18581361975791946,
          -0.24822529066810098,
          -0.14583079129395832,
          -0.18583508189794243,
          -0.24782168880488178,
          -0.24788571739933157,
          -0.18576920274429085,
          -0.24783216552495654,
          -0.11729014385752047,
          0.09099426492433278,
          -0.14299748483331085,
          0.26074933010602924,
          -0.1586608276494986,
          -0.2478591218055416,
          -0.13135580911473851,
          -0.25392946760674096,
          -0.2816008490331442,
          0.260610545780122,
          0.2605944067343234,
          -0.0521843382113992,
          -0.09050107795222505,
          1.260489806109252,
          -0.11729100045566995,
          -0.15685609430047226,
          -0.1124317129909933,
          0.13984159863624515,
          -0.24782032187555,
          -0.15683007018170117,
          -0.2478176750227962
         ]
        },
        {
         "customdata": [
          [
           "SHA-256"
          ],
          [
           "Ethash"
          ],
          [
           "Scrypt"
          ],
          [
           "CryptoNight-V7"
          ],
          [
           "Ethash"
          ],
          [
           "Equihash"
          ],
          [
           "Multiple"
          ],
          [
           "Scrypt"
          ],
          [
           "X11"
          ],
          [
           "Scrypt"
          ],
          [
           "Multiple"
          ],
          [
           "Scrypt"
          ],
          [
           "SHA-256"
          ],
          [
           "Scrypt"
          ],
          [
           "Scrypt"
          ],
          [
           "Quark"
          ],
          [
           "Groestl"
          ],
          [
           "Scrypt"
          ],
          [
           "Scrypt"
          ],
          [
           "Scrypt"
          ],
          [
           "X11"
          ],
          [
           "Multiple"
          ],
          [
           "SHA-256"
          ],
          [
           "Scrypt"
          ],
          [
           "Scrypt"
          ],
          [
           "Scrypt"
          ],
          [
           "Scrypt"
          ],
          [
           "Scrypt"
          ],
          [
           "NeoScrypt"
          ],
          [
           "Scrypt"
          ],
          [
           "Scrypt"
          ],
          [
           "Scrypt"
          ],
          [
           "Scrypt"
          ],
          [
           "SHA-256"
          ],
          [
           "Scrypt"
          ],
          [
           "Scrypt"
          ],
          [
           "Scrypt"
          ],
          [
           "Scrypt"
          ],
          [
           "HybridScryptHash256"
          ],
          [
           "Scrypt"
          ],
          [
           "Scrypt"
          ],
          [
           "SHA-256"
          ],
          [
           "Scrypt"
          ],
          [
           "Scrypt"
          ],
          [
           "Scrypt"
          ],
          [
           "Scrypt"
          ],
          [
           "SHA-256"
          ],
          [
           "SHA-256"
          ],
          [
           "SHA-256"
          ],
          [
           "SHA-256"
          ],
          [
           "SHA-256"
          ],
          [
           "X11"
          ],
          [
           "Scrypt"
          ],
          [
           "Lyra2REv2"
          ],
          [
           "Scrypt"
          ],
          [
           "SHA-256"
          ],
          [
           "CryptoNight"
          ],
          [
           "CryptoNight"
          ],
          [
           "Scrypt"
          ],
          [
           "Scrypt"
          ],
          [
           "Scrypt"
          ],
          [
           "Scrypt"
          ],
          [
           "Scrypt"
          ],
          [
           "Scrypt"
          ],
          [
           "Stanford Folding"
          ],
          [
           "Multiple"
          ],
          [
           "QuBit"
          ],
          [
           "Scrypt"
          ],
          [
           "Scrypt"
          ],
          [
           "M7 POW"
          ],
          [
           "Scrypt"
          ],
          [
           "SHA-256"
          ],
          [
           "Scrypt"
          ],
          [
           "X11"
          ],
          [
           "Lyra2RE"
          ],
          [
           "SHA-256"
          ],
          [
           "X11"
          ],
          [
           "Scrypt"
          ],
          [
           "Scrypt"
          ],
          [
           "Ethash"
          ],
          [
           "Blake2b"
          ],
          [
           "X11"
          ],
          [
           "SHA-256"
          ],
          [
           "Scrypt"
          ],
          [
           "1GB AES Pattern Search"
          ],
          [
           "Scrypt"
          ],
          [
           "SHA-256"
          ],
          [
           "X11"
          ],
          [
           "Dagger"
          ],
          [
           "Scrypt"
          ],
          [
           "X11GOST"
          ],
          [
           "Scrypt"
          ],
          [
           "ScryptOG"
          ],
          [
           "X11"
          ],
          [
           "Scrypt"
          ],
          [
           "X11"
          ],
          [
           "Equihash"
          ],
          [
           "CryptoNight"
          ],
          [
           "SHA-256"
          ],
          [
           "Multiple"
          ],
          [
           "Scrypt"
          ],
          [
           "SHA-256"
          ],
          [
           "Scrypt"
          ],
          [
           "Lyra2Z"
          ],
          [
           "Ethash"
          ],
          [
           "Equihash"
          ],
          [
           "Scrypt"
          ],
          [
           "X11"
          ],
          [
           "X11"
          ],
          [
           "CryptoNight"
          ],
          [
           "Scrypt"
          ],
          [
           "CryptoNight"
          ],
          [
           "Lyra2RE"
          ],
          [
           "X11"
          ],
          [
           "CryptoNight-V7"
          ],
          [
           "Scrypt"
          ],
          [
           "X11"
          ],
          [
           "Equihash"
          ],
          [
           "Scrypt"
          ],
          [
           "Lyra2RE"
          ],
          [
           "Dagger-Hashimoto"
          ],
          [
           "Scrypt"
          ],
          [
           "NIST5"
          ],
          [
           "Scrypt"
          ],
          [
           "SHA-256"
          ],
          [
           "Scrypt"
          ],
          [
           "CryptoNight-V7"
          ],
          [
           "Argon2d"
          ],
          [
           "Blake2b"
          ],
          [
           "Cloverhash"
          ],
          [
           "CryptoNight"
          ],
          [
           "X11"
          ],
          [
           "Scrypt"
          ],
          [
           "Scrypt"
          ],
          [
           "X11"
          ],
          [
           "X11"
          ],
          [
           "CryptoNight"
          ],
          [
           "Time Travel"
          ],
          [
           "Scrypt"
          ],
          [
           "Keccak"
          ],
          [
           "X11"
          ],
          [
           "SHA-256"
          ],
          [
           "Scrypt"
          ],
          [
           "Scrypt"
          ],
          [
           "Scrypt"
          ],
          [
           "Scrypt"
          ],
          [
           "Scrypt"
          ],
          [
           "Scrypt"
          ],
          [
           "CryptoNight"
          ],
          [
           "Equihash"
          ],
          [
           "X11"
          ],
          [
           "NeoScrypt"
          ],
          [
           "Equihash"
          ],
          [
           "Dagger"
          ],
          [
           "Scrypt"
          ],
          [
           "X11"
          ],
          [
           "NeoScrypt"
          ],
          [
           "Ethash"
          ],
          [
           "NeoScrypt"
          ],
          [
           "Multiple"
          ],
          [
           "CryptoNight"
          ],
          [
           "CryptoNight"
          ],
          [
           "Ethash"
          ],
          [
           "Scrypt"
          ],
          [
           "X11"
          ],
          [
           "CryptoNight-V7"
          ],
          [
           "Scrypt"
          ],
          [
           "BLAKE256"
          ],
          [
           "X11"
          ],
          [
           "NeoScrypt"
          ],
          [
           "NeoScrypt"
          ],
          [
           "NeoScrypt"
          ],
          [
           "Scrypt"
          ],
          [
           "X11"
          ],
          [
           "SHA-256"
          ],
          [
           "C11"
          ],
          [
           "Ethash"
          ],
          [
           "Scrypt"
          ],
          [
           "CryptoNight"
          ],
          [
           "SkunkHash"
          ],
          [
           "CryptoNight"
          ],
          [
           "Scrypt"
          ],
          [
           "Dagger"
          ],
          [
           "Lyra2REv2"
          ],
          [
           "Scrypt"
          ],
          [
           "Scrypt"
          ],
          [
           "X11"
          ],
          [
           "Proof-of-Authority"
          ],
          [
           "Ethash"
          ],
          [
           "CryptoNight"
          ],
          [
           "Scrypt"
          ],
          [
           "SHA-256"
          ],
          [
           "IMesh"
          ],
          [
           "Quark"
          ],
          [
           "Equihash"
          ],
          [
           "Lyra2Z"
          ],
          [
           "NeoScrypt"
          ],
          [
           "X11"
          ],
          [
           "CryptoNight"
          ],
          [
           "NIST5"
          ],
          [
           "Lyra2RE"
          ],
          [
           "Tribus"
          ],
          [
           "Lyra2Z"
          ],
          [
           "CryptoNight"
          ],
          [
           "CryptoNight Heavy"
          ],
          [
           "CryptoNight"
          ],
          [
           "Jump Consistent Hash"
          ],
          [
           "CryptoNight"
          ],
          [
           "SHA-512"
          ],
          [
           "X16R"
          ],
          [
           "HMQ1725"
          ],
          [
           "X11"
          ],
          [
           "Scrypt"
          ],
          [
           "Scrypt"
          ],
          [
           "CryptoNight-V7"
          ],
          [
           "Cryptonight-GPU"
          ],
          [
           "XEVAN"
          ],
          [
           "CryptoNight Heavy"
          ],
          [
           "CryptoNight"
          ],
          [
           "X11"
          ],
          [
           "SHA-256"
          ],
          [
           "X11"
          ],
          [
           "X16R"
          ],
          [
           "Equihash"
          ],
          [
           "HMQ1725"
          ],
          [
           "Lyra2Z"
          ],
          [
           "SHA-256"
          ],
          [
           "PHI1612"
          ],
          [
           "CryptoNight"
          ],
          [
           "Blake"
          ],
          [
           "Blake"
          ],
          [
           "Blake"
          ],
          [
           "Blake"
          ],
          [
           "Equihash"
          ],
          [
           "Exosis"
          ],
          [
           "Scrypt"
          ],
          [
           "Equihash"
          ],
          [
           "Equihash"
          ],
          [
           "Lyra2REv2"
          ],
          [
           "QuBit"
          ],
          [
           "SHA-256"
          ],
          [
           "X13"
          ],
          [
           "SHA-256"
          ],
          [
           "Ethash"
          ],
          [
           "Scrypt"
          ],
          [
           "NeoScrypt"
          ],
          [
           "Blake"
          ],
          [
           "Scrypt"
          ],
          [
           "SHA-256"
          ],
          [
           "Scrypt"
          ],
          [
           "Groestl"
          ],
          [
           "Scrypt"
          ],
          [
           "Scrypt"
          ],
          [
           "Multiple"
          ],
          [
           "Equihash+Scrypt"
          ],
          [
           "Lyra2Z"
          ],
          [
           "Ethash"
          ],
          [
           "Equihash"
          ],
          [
           "CryptoNight"
          ],
          [
           "Equihash"
          ]
         ],
         "hovertemplate": "<b>%{hovertext}</b><br><br>Class=%{marker.color}<br>PC1=%{x}<br>PC2=%{y}<br>PC3=%{z}<br>Algorithm=%{customdata[0]}<extra></extra>",
         "hovertext": [
          "Bitcoin",
          "Ethereum",
          "Litecoin",
          "Monero",
          "Ethereum Classic",
          "ZCash",
          "DigiByte",
          "ProsperCoin",
          "Spreadcoin",
          "Argentum",
          "MyriadCoin",
          "MoonCoin",
          "ZetaCoin",
          "SexCoin",
          "Quatloo",
          "QuarkCoin",
          "Riecoin",
          "Digitalcoin ",
          "Catcoin",
          "CannaCoin",
          "CryptCoin",
          "Verge",
          "DevCoin",
          "EarthCoin",
          "E-Gulden",
          "Einsteinium",
          "Emerald",
          "Franko",
          "FeatherCoin",
          "GrandCoin",
          "GlobalCoin",
          "GoldCoin",
          "Infinite Coin",
          "IXcoin",
          "KrugerCoin",
          "LuckyCoin",
          "Litebar ",
          "MegaCoin",
          "MediterraneanCoin",
          "MinCoin",
          "NobleCoin",
          "Namecoin",
          "NyanCoin",
          "RonPaulCoin",
          "StableCoin",
          "SmartCoin",
          "SysCoin",
          "TigerCoin",
          "TerraCoin",
          "UnbreakableCoin",
          "Unobtanium",
          "UroCoin",
          "ViaCoin",
          "Vertcoin",
          "WorldCoin",
          "JouleCoin",
          "ByteCoin",
          "DigitalNote ",
          "MonaCoin",
          "Gulden",
          "PesetaCoin",
          "Wild Beast Coin",
          "Flo",
          "ArtByte",
          "Folding Coin",
          "Unitus",
          "CypherPunkCoin",
          "OmniCron",
          "GreenCoin",
          "Cryptonite",
          "MasterCoin",
          "SoonCoin",
          "1Credit",
          "MarsCoin ",
          "Crypto",
          "Anarchists Prime",
          "BowsCoin",
          "Song Coin",
          "BitZeny",
          "Expanse",
          "Siacoin",
          "MindCoin",
          "I0coin",
          "Revolution VR",
          "HOdlcoin",
          "Gamecredits",
          "CarpeDiemCoin",
          "Adzcoin",
          "SoilCoin",
          "YoCoin",
          "SibCoin",
          "Francs",
          "Aiden",
          "BolivarCoin",
          "Omni",
          "PizzaCoin",
          "Komodo",
          "Karbo",
          "ZayedCoin",
          "Circuits of Value",
          "DopeCoin",
          "DollarCoin",
          "Shilling",
          "ZCoin",
          "Elementrem",
          "ZClassic",
          "KiloCoin",
          "ArtexCoin",
          "Kurrent",
          "Cannabis Industry Coin",
          "OsmiumCoin",
          "Bikercoins",
          "HexxCoin",
          "PacCoin",
          "Citadel",
          "BeaverCoin",
          "VaultCoin",
          "Zero",
          "Canada eCoin",
          "Zoin",
          "DubaiCoin",
          "EB3coin",
          "Coinonat",
          "BenjiRolls",
          "ILCoin",
          "EquiTrader",
          "Quantum Resistant Ledger",
          "Dynamic",
          "Nano",
          "ChanCoin",
          "Dinastycoin",
          "DigitalPrice",
          "Unify",
          "SocialCoin",
          "ArcticCoin",
          "DAS",
          "LeviarCoin",
          "Bitcore",
          "gCn Coin",
          "SmartCash",
          "Onix",
          "Bitcoin Cash",
          "Sojourn Coin",
          "NewYorkCoin",
          "FrazCoin",
          "Kronecoin",
          "AdCoin",
          "Linx",
          "Sumokoin",
          "BitcoinZ",
          "Elements",
          "VIVO Coin",
          "Bitcoin Gold",
          "Pirl",
          "eBoost",
          "Pura",
          "Innova",
          "Ellaism",
          "GoByte",
          "SHIELD",
          "UltraNote",
          "BitCoal",
          "DaxxCoin",
          "BoxyCoin",
          "AC3",
          "Lethean",
          "PopularCoin",
          "Photon",
          "Sucre",
          "SparksPay",
          "GoaCoin",
          "GunCoin",
          "IrishCoin",
          "Pioneer Coin",
          "UnitedBitcoin",
          "Interzone",
          "1717 Masonic Commemorative Token",
          "Crypto Wisdom Coin",
          "TurtleCoin",
          "MUNcoin",
          "Niobio Cash",
          "ShareChain",
          "Travelflex",
          "KREDS",
          "BitFlip",
          "LottoCoin",
          "Crypto Improvement Fund",
          "Poa Network",
          "Callisto Network",
          "BitTube",
          "Poseidon",
          "Manna",
          "Aidos Kuneen",
          "Cosmo",
          "Bitrolium",
          "Alpenschillling",
          "Rapture",
          "FuturoCoin",
          "Monero Classic",
          "Jumpcoin",
          "Infinex",
          "KEYCO",
          "GINcoin",
          "PlatinCoin",
          "Loki",
          "Newton Coin",
          "MassGrid",
          "PluraCoin",
          "Arionum",
          "Motion",
          "PlusOneCoin",
          "Axe",
          "HexCoin",
          "Deimos",
          "Webchain",
          "Ryo",
          "Urals Coin",
          "Qwertycoin",
          "Bitcoin Nova",
          "DACash",
          "Project Pai",
          "Azart",
          "Xchange",
          "CrypticCoin",
          "Brazio",
          "Actinium",
          "Bitcoin SV",
          "Argoneum",
          "FREDEnergy",
          "BlakeBitcoin",
          "Universal Molecule",
          "Lithium",
          "Electron",
          "PirateCash",
          "Exosis",
          "Block-Logic",
          "Beam",
          "Bithereum",
          "Scribe Network",
          "SLICE",
          "BLAST",
          "Bitcoin Rhodium",
          "GlobalToken",
          "Media Protocol Token",
          "SolarCoin",
          "UFO Coin",
          "BlakeCoin",
          "Crypto Escudo",
          "Crown Coin",
          "SmileyCoin",
          "Groestlcoin",
          "Bata",
          "Pakcoin",
          "JoinCoin",
          "Vollar",
          "TecraCoin",
          "Reality Clash",
          "ChainZilla",
          "Beldex",
          "Horizen"
         ],
         "legendgroup": "0",
         "marker": {
          "color": [
           0,
           0,
           0,
           0,
           0,
           0,
           0,
           0,
           0,
           0,
           0,
           0,
           0,
           0,
           0,
           0,
           0,
           0,
           0,
           0,
           0,
           0,
           0,
           0,
           0,
           0,
           0,
           0,
           0,
           0,
           0,
           0,
           0,
           0,
           0,
           0,
           0,
           0,
           0,
           0,
           0,
           0,
           0,
           0,
           0,
           0,
           0,
           0,
           0,
           0,
           0,
           0,
           0,
           0,
           0,
           0,
           0,
           0,
           0,
           0,
           0,
           0,
           0,
           0,
           0,
           0,
           0,
           0,
           0,
           0,
           0,
           0,
           0,
           0,
           0,
           0,
           0,
           0,
           0,
           0,
           0,
           0,
           0,
           0,
           0,
           0,
           0,
           0,
           0,
           0,
           0,
           0,
           0,
           0,
           0,
           0,
           0,
           0,
           0,
           0,
           0,
           0,
           0,
           0,
           0,
           0,
           0,
           0,
           0,
           0,
           0,
           0,
           0,
           0,
           0,
           0,
           0,
           0,
           0,
           0,
           0,
           0,
           0,
           0,
           0,
           0,
           0,
           0,
           0,
           0,
           0,
           0,
           0,
           0,
           0,
           0,
           0,
           0,
           0,
           0,
           0,
           0,
           0,
           0,
           0,
           0,
           0,
           0,
           0,
           0,
           0,
           0,
           0,
           0,
           0,
           0,
           0,
           0,
           0,
           0,
           0,
           0,
           0,
           0,
           0,
           0,
           0,
           0,
           0,
           0,
           0,
           0,
           0,
           0,
           0,
           0,
           0,
           0,
           0,
           0,
           0,
           0,
           0,
           0,
           0,
           0,
           0,
           0,
           0,
           0,
           0,
           0,
           0,
           0,
           0,
           0,
           0,
           0,
           0,
           0,
           0,
           0,
           0,
           0,
           0,
           0,
           0,
           0,
           0,
           0,
           0,
           0,
           0,
           0,
           0,
           0,
           0,
           0,
           0,
           0,
           0,
           0,
           0,
           0,
           0,
           0,
           0,
           0,
           0,
           0,
           0,
           0,
           0,
           0,
           0,
           0,
           0,
           0,
           0,
           0,
           0,
           0,
           0,
           0,
           0,
           0,
           0,
           0,
           0,
           0,
           0,
           0,
           0,
           0,
           0,
           0,
           0,
           0,
           0,
           0
          ],
          "coloraxis": "coloraxis",
          "symbol": "diamond"
         },
         "mode": "markers",
         "name": "0",
         "scene": "scene",
         "showlegend": true,
         "type": "scatter3d",
         "x": [
          -0.1484194877244475,
          -0.1357931481331493,
          -0.15160847787018783,
          -0.15496148495366738,
          -0.13417231842843724,
          -0.15439204958386957,
          0.17624197648304546,
          -0.15280351421239682,
          -0.23626612029455185,
          -0.15240434145627765,
          -0.08780982613965828,
          2.6783966994817927,
          -0.145380007690631,
          -0.14954388209635325,
          -0.1522007324831609,
          -0.21584055049110967,
          -0.2138248387649636,
          -0.1522502079377886,
          -0.15278499809625343,
          -0.15287504709431163,
          -0.2363593471560482,
          0.20116268553370695,
          0.24550600548517185,
          0.10644875435641815,
          -0.152610372061033,
          -0.14802964510031866,
          -0.15254729542979084,
          -0.1529345109657426,
          -0.17407490041094115,
          -0.13127980628239688,
          -0.15167811637893072,
          -0.1519678631850518,
          1.6705797536246696,
          -0.1483791534039826,
          -0.14914309806997325,
          -0.15263795192591437,
          -0.15300789377468038,
          -0.15223560839149927,
          -0.14362230670252124,
          -0.15288416499682453,
          -0.01224948557526263,
          -0.14846018685783402,
          -0.1462777607548707,
          -0.15286300664540223,
          -0.15087968548589203,
          -0.15232795586506268,
          -0.13506981984831617,
          -0.14790103099074722,
          -0.14820076285930092,
          -0.1481840577415923,
          -0.14879859102172233,
          -0.23654040864129822,
          -0.15256704800397386,
          -0.18213900585358986,
          -0.14954923427656758,
          -0.1479712375755427,
          4.000976494096814,
          0.4548155168911265,
          -0.15138699047593068,
          -0.13535059158628385,
          -0.15005101293865514,
          -0.1530102361877269,
          -0.14990992184756713,
          -0.1355494112396616,
          -0.11050410762002463,
          -0.12326041913375996,
          -0.1861418143476364,
          -0.15287773680516553,
          -0.02049076528211376,
          -0.12582061132623149,
          -0.1530194648775191,
          -0.14848918949058412,
          0.5253323008606884,
          -0.2359014880363036,
          -0.15345457633486972,
          -0.1482184928459141,
          -0.23619861721294927,
          -0.15106634847794026,
          -0.15022407432230697,
          -0.13690815791494085,
          0.40338595272458594,
          -0.23623543556989152,
          -0.14838032525603592,
          -0.14880489413204698,
          -0.16496599564845635,
          -0.15152178226255456,
          0.2879574202195686,
          -0.23536103970077948,
          -0.15889437247280605,
          -0.15178247562218156,
          -0.1709001725448174,
          -0.15280065166608117,
          -0.14217384117626058,
          -0.23619730914256612,
          -0.1530195258676687,
          -0.23635389470473195,
          -0.2746300057544718,
          0.2931586556106375,
          -0.14865156682517564,
          -0.10248749093576896,
          -0.15006684167483708,
          -0.1486083970458888,
          -0.1526689006631953,
          -0.08193714969109012,
          -0.13663920226979995,
          -0.15441462007878,
          -0.07679298383368162,
          -0.22235872600359596,
          -0.23409192388985534,
          0.2931524636411251,
          -0.15300051685703348,
          0.2932888332035745,
          -0.15401729928819505,
          0.5076447389090855,
          -0.15367687370395333,
          -0.15296742330720084,
          -0.2287947209539279,
          -0.15442742893453476,
          -0.151021055344789,
          -0.15372356558872075,
          -0.1499681100227308,
          -0.1227203247683457,
          -0.17941912871214924,
          -0.1525113973877272,
          -0.11356101788583335,
          -0.15232663361445517,
          -0.15352609940509251,
          -0.13472094827582617,
          -0.014582408484566874,
          -0.141036578471972,
          0.3308123736296694,
          -0.23537025055886496,
          -0.15265850304678616,
          -0.15241300453510853,
          -0.2357812205857372,
          -0.23638299323726314,
          0.2935639503952893,
          -0.17068761550293232,
          3.401479040028461,
          -0.11352295546838186,
          -0.22688273750363783,
          -0.1484186150785096,
          -0.07560386850531191,
          1.671053915499369,
          -0.15276068647816654,
          -0.1521899322493239,
          -0.15187816577429045,
          -0.1518645202722301,
          0.29375468348888883,
          0.06667735289933004,
          -0.18880788621554956,
          -0.17896180416581842,
          -0.1542668018940723,
          -0.15760226687147638,
          -0.15101918551213409,
          -0.2317401568432754,
          -0.17880090088331452,
          -0.1349393933033985,
          -0.17890515673325813,
          -0.11307984373345696,
          1.1656781248604535,
          0.29313471093019766,
          -0.056787461724463945,
          -0.15222109345919815,
          -0.23147592323356378,
          -0.14218294370399598,
          -0.06559999520447819,
          1.13415619853011,
          -0.23635587017388296,
          -0.17895908742551342,
          -0.1789272813818307,
          -0.1717032730247982,
          -0.15197988175760618,
          -0.2362780770630302,
          -0.14839708046052796,
          -0.18934696311777038,
          -0.2508210030294625,
          -0.15263008783461593,
          8.344309099946129,
          -0.15751786685212807,
          0.2971709855905267,
          0.048255688218453996,
          -0.15708199705847334,
          -0.16708847333105467,
          -0.15257824060105876,
          0.16752866798382482,
          -0.2301738979092784,
          -0.31678543735118025,
          -0.08608050013274561,
          0.3013797015465559,
          -0.1528251738753095,
          -0.044630120079042414,
          -0.1350988839820042,
          -0.22077094868353173,
          -0.1532147632615657,
          -0.07963068961226528,
          -0.17900205369034838,
          -0.2354128213825256,
          0.293325115132963,
          -0.17948045082898195,
          -0.15385616691408757,
          -0.2120396134658194,
          -0.08202494301727112,
          0.2974103297290441,
          0.6048415314391835,
          2.1764332969773106,
          -0.13694265339616454,
          0.30750269191176055,
          -0.19333738155045258,
          -0.20133301575301332,
          -0.15561944769736816,
          -0.23633727707335542,
          -0.15285087088766275,
          -0.14222542371460858,
          -0.14207851438588484,
          -0.15604070357855926,
          -0.17708752352125315,
          3.2335077965110313,
          0.30653798998842596,
          -0.23584644958224132,
          -0.10653259637141946,
          -0.23630749155901312,
          -0.20073767586060634,
          -0.044582467614664376,
          -0.1533942096204184,
          -0.08139818723375102,
          -0.14841865430090373,
          -0.21024160219235036,
          0.3763778728855363,
          -0.14606361359321926,
          -0.14568592292379884,
          -0.14609300414039994,
          -0.09455844586435964,
          -0.26738184326632514,
          -0.14321226953251223,
          -0.15169704736019995,
          -0.15224810385051274,
          -0.15409252318641278,
          -0.18309295151560304,
          -0.1853207822532783,
          -0.14766407133884518,
          -0.09957710003846529,
          -0.14648498579430638,
          0.06412093508759117,
          0.5710183457224631,
          -0.10093516451358196,
          -0.09456865174612097,
          -0.1357066394687453,
          -0.14820010554190388,
          0.5929948540775062,
          -0.21336706268287806,
          -0.15293062002777902,
          -0.15080111234460367,
          -0.1240277974966057,
          -0.11959231657694488,
          -0.08012167676936033,
          -0.13667377532996108,
          -0.24998942284591458,
          0.3158126861401873,
          -0.15439315315217086
         ],
         "y": [
          -1.2932413009894548,
          -2.0956230227201122,
          -1.117665989798569,
          -2.241074081603692,
          -2.0957421948431114,
          -1.9868803907091128,
          -1.8961272213385032,
          -1.1176406325013182,
          -0.8791270242220849,
          -1.117664047627873,
          -1.8870667258029499,
          -1.3374856905128567,
          -1.293298008413439,
          -1.117748704456523,
          -1.1176855659720222,
          -0.6044865901060262,
          -1.2148832148375794,
          -1.1176510094748189,
          -1.1176403609632068,
          -1.1176363314310676,
          -0.8791270300424505,
          -1.8927361644809264,
          -1.3017442577066707,
          -1.1230135122143579,
          -1.1176378000793055,
          -1.117760390659209,
          -1.1176443624762962,
          -1.1176359073359317,
          -1.6253307038166305,
          -1.1182776659601317,
          -1.1176574816094433,
          -1.1176632593243563,
          -1.1525555534066552,
          -1.2932407094882241,
          -1.1177533235112522,
          -1.1176375238629974,
          -1.117630254476679,
          -1.1176465983375619,
          -2.2203733089666087,
          -1.117634327828589,
          -1.125775228113399,
          -1.2932418978406208,
          -1.1177600255486073,
          -1.1176415049554962,
          -1.117768293960414,
          -1.1176542148098194,
          -1.2936356729402285,
          -1.293251403510576,
          -1.2932523875505917,
          -1.2932780081802622,
          -1.293232736540136,
          -0.879117433171128,
          -1.117638526081593,
          -1.5260944441631445,
          -1.1177592794826636,
          -1.2932510635931886,
          -2.418869533505948,
          -2.3521184044659575,
          -1.117677117528213,
          -1.118513924140607,
          -1.1176992276398043,
          -1.117631158729364,
          -1.1176928117607783,
          -1.118053981546608,
          -2.22312668888314,
          -1.8862252594758733,
          -1.5389509241172807,
          -1.117629721601279,
          -1.1224927164753615,
          -2.212974950438398,
          -1.11762992691916,
          -1.2932423231630836,
          -1.1703035055289457,
          -0.8791305256656003,
          -2.207325193470729,
          -1.2932606522856298,
          -0.8791267149659979,
          -1.1177439677701233,
          -1.1177586794486223,
          -2.095650882038273,
          -2.2145160712282466,
          -0.8791238515360674,
          -1.2932407266733883,
          -1.117710640269813,
          -2.176865104407351,
          -1.1176647184109096,
          -1.3015480018606258,
          -0.8791573143828557,
          -2.2079731799571434,
          -1.1177259572000828,
          -2.2928048629276514,
          -1.1176399098482537,
          -2.2352905704881314,
          -0.8791294184789405,
          -1.1176299257511362,
          -0.8791317148000184,
          -1.2824392471051702,
          -2.347689163325982,
          -1.2932370373090623,
          -1.886737434028183,
          -1.1177223399412735,
          -1.2932370183966868,
          -1.117644784464364,
          -1.8846016731714736,
          -2.095653267497956,
          -1.98688072170452,
          -1.1233183862842522,
          -0.8792497963238924,
          -0.8792367198964266,
          -2.347696741544264,
          -1.117631074928395,
          -2.3476974643857664,
          -2.207295471593636,
          -0.9362713809887234,
          -2.2411811675086297,
          -1.1176310291334846,
          -0.8796845169032708,
          -1.9868781868501397,
          -1.1176682660534323,
          -2.2072986514145225,
          -2.2594288317335747,
          -1.1199078653082122,
          -0.5925475318908048,
          -1.1176462322774523,
          -1.294417493594435,
          -1.1176683534369318,
          -2.2411245024946336,
          -2.2958439116102136,
          -2.2208771820571083,
          -2.2034366788724418,
          -2.34849151417232,
          -0.8791683402426983,
          -1.117637332980982,
          -1.1176716620848757,
          -0.8791471401444605,
          -0.8791279894178389,
          -2.3477131693471662,
          -2.206438103202078,
          -1.20163771238893,
          -1.2237703087711402,
          -0.8797245451351526,
          -1.2932412881921207,
          -1.1236412849228867,
          -1.0908795412565524,
          -1.1176393237603532,
          -1.1176745168040467,
          -1.1176808355439911,
          -1.117680635433243,
          -2.3477341202106015,
          -1.9979182751621767,
          -0.8796426507015492,
          -1.6251920418208015,
          -1.9868785539566862,
          -2.208040204980463,
          -1.1176682386324104,
          -0.8792852735458461,
          -1.6252019343113706,
          -2.095801091141332,
          -1.6251944783233354,
          -1.8865252065378026,
          -2.3927441776135407,
          -2.347691216158613,
          -2.1012711468109573,
          -1.1176858645649308,
          -0.8794175333575704,
          -2.2415670058187924,
          -1.1197508718688092,
          -1.2508360024582361,
          -0.8791282042657292,
          -1.625187917936298,
          -1.6251949389152192,
          -1.6254075545202595,
          -1.117657822943175,
          -0.8791292415894291,
          -1.2932404047057369,
          -1.1737936864331395,
          -0.2916643377505854,
          -1.1176401312321531,
          -2.9102864894761042,
          -2.163517002989123,
          -2.347852222368549,
          -1.121484552452983,
          -2.2079942487188595,
          -1.526565293417583,
          -1.1176502616774957,
          -1.1254578309767524,
          -0.8793644055108807,
          -0.8577162609476793,
          -2.0993183692856237,
          -2.348242469208847,
          -1.1176409501394184,
          -1.2985420747682583,
          -2.234017389179991,
          -0.60439886231287,
          -1.986896478874592,
          -1.8847574847841326,
          -1.6251885480348727,
          -0.8791689645421441,
          -2.3476924398647294,
          -0.5925298814511247,
          -2.2073041899660972,
          -1.1440255822034016,
          -1.884595541311231,
          -2.3480284106678657,
          -2.301441588959165,
          -2.4453082126251275,
          -2.2088099297925012,
          -2.3481526757972415,
          -0.9361456433038813,
          -1.2779242016009158,
          -2.228856181569088,
          -0.8791287484073684,
          -1.1176420793088049,
          -1.1181518850055858,
          -2.2420763327373776,
          -2.195188881263712,
          -0.16814871173025098,
          -2.3883541219679874,
          -2.3481668231128032,
          -0.8791412899857568,
          -1.2940421524965002,
          -0.8791310342997212,
          -1.2779685120049098,
          -1.990428865290906,
          -2.228950153892736,
          -1.8846363794967291,
          -1.2932412887673157,
          -0.7895584661469707,
          -2.3519617954571386,
          -2.229102428268058,
          -2.2291541477417858,
          -2.2291057377132097,
          -2.23309753041787,
          -0.18294789291016772,
          -2.2800719024039138,
          -1.1176917929283263,
          -1.9870135367873758,
          -1.986882727308858,
          -1.5260735151656524,
          -1.539006951107662,
          -1.2932594918172529,
          -0.3159962687789512,
          -1.2933129906636878,
          -2.0994980299523798,
          -1.1737856324959357,
          -1.6267521017824433,
          -2.2330976800867224,
          -1.1180562872923705,
          -1.293252377911058,
          -1.1407229315570864,
          -1.214890795722088,
          -1.117631605720102,
          -1.1177208558607679,
          -1.8862384189362427,
          -2.225142059661321,
          -1.8847034244371543,
          -2.095652605388368,
          -1.186039477103817,
          -2.348303231159607,
          -1.9868804068928907
         ],
         "z": [
          0.07636614070126185,
          0.13977509011654168,
          -0.028471298599735555,
          0.1602880187448418,
          0.1397690295846579,
          0.07738633950823576,
          0.13663899930206416,
          -0.028460674088167607,
          0.03361813013952802,
          -0.028462751083304545,
          0.13864603909557693,
          -0.03789667111345428,
          0.07633835121636019,
          -0.02848582229255135,
          -0.028462867540605553,
          0.019440401350786635,
          -0.014769603776071923,
          -0.0284657275650005,
          -0.028460904142242057,
          -0.028460312227001534,
          0.03361915436803357,
          0.13603139701939304,
          0.0728781449554615,
          -0.03077818658037531,
          -0.028463073788977417,
          -0.02850129810097526,
          -0.028463120092769734,
          -0.028459701064939925,
          0.08795708760630597,
          -0.028634272129881948,
          -0.028471371875091783,
          -0.028467621364372225,
          -0.04504332165986676,
          0.0763656395662148,
          -0.02848976810075524,
          -0.028462798157869954,
          -0.028459452021295423,
          -0.028466322300283002,
          0.12871498418150093,
          -0.028460409433749303,
          -0.029202862815745346,
          0.07636664636894255,
          -0.028520570206395472,
          -0.02845993492253935,
          -0.028469225560802152,
          -0.0284645581967794,
          0.076258397367903,
          0.07636144285220096,
          0.0763648308990521,
          0.07636717070625791,
          0.07636945988936275,
          0.03362019732778809,
          -0.028463477998500276,
          0.0877686404809338,
          -0.028484722048523724,
          0.076362180262261,
          0.12301779868013858,
          0.15538162386434773,
          -0.028472634680780585,
          -0.028566306085712215,
          -0.028485126560793897,
          -0.028459337246155247,
          -0.028487307642179233,
          -0.028609420189900994,
          0.17683621990602602,
          0.13895242451325734,
          0.13439067628906126,
          -0.028460933658761175,
          -0.02943564778318121,
          0.12786569331820005,
          -0.028459357226888065,
          0.07636700671307663,
          -0.030720308092047278,
          0.033614471219849305,
          0.13734891607079763,
          0.07636583952686585,
          0.03361735848114303,
          -0.028469571703997453,
          -0.02847737122258064,
          0.13979007692495388,
          0.14582637236944976,
          0.03361748075298174,
          0.07636565412592794,
          -0.028497685304122288,
          0.17236504462919824,
          -0.028472375752072048,
          0.07239268918333203,
          0.0336111752281927,
          0.1865901402078704,
          -0.028463482202085857,
          0.20467621149320497,
          -0.028460776689767313,
          0.20672487411305987,
          0.033617610372188564,
          -0.028459356672232393,
          0.033619555874491884,
          -0.09084473202354768,
          0.15672044702384394,
          0.07636826908416815,
          0.1387747735676859,
          -0.028482676554711695,
          0.07636779320614062,
          -0.028461743276278872,
          0.13306444576795645,
          0.13978735865241776,
          0.0773866199360754,
          -0.028736119075948037,
          0.0334775144612249,
          0.03360506021386337,
          0.15672126134998737,
          -0.028459452220037762,
          0.1567198351652241,
          0.1373521677729265,
          0.031077625456497577,
          0.16028445967481564,
          -0.02845982010594558,
          0.033590996586385646,
          0.0773865109369039,
          -0.02847752447677596,
          0.13734925566311196,
          0.07782674573823183,
          -0.028567708177533013,
          -0.0257246837431223,
          -0.028463330116299507,
          0.07609922228570151,
          -0.028463180280444353,
          0.16027722351058482,
          0.13299162847905246,
          0.1510422446840661,
          0.13216568826875366,
          0.15638601845111766,
          0.0336123622416229,
          -0.028462591300106112,
          -0.02846190605478476,
          0.03361478691973181,
          0.03361950849174433,
          0.15671836100117056,
          0.20646449961560684,
          -0.059215218231400205,
          0.055060865919289756,
          0.033573944667315725,
          0.07636612985904648,
          -0.028717375376252435,
          -0.05112265655280209,
          -0.028461273238517177,
          -0.028464074301285405,
          -0.028466875280951518,
          -0.028467044819926242,
          0.15671833003636063,
          0.07604599976595094,
          0.03314780752640565,
          0.08799709103483071,
          0.07738478336433234,
          0.1865825534737967,
          -0.028477547708571232,
          0.03358401897713919,
          0.08799629853130807,
          0.1397832526370024,
          0.08799670898885018,
          0.13887017925927972,
          0.1515771738992669,
          0.15672091211479333,
          0.1394638394691246,
          -0.028462614565010348,
          0.033594143158624586,
          0.16019625239709936,
          -0.0292103657292404,
          0.08119766755586516,
          0.03361923183260129,
          0.0879966550657927,
          0.08799699728441135,
          0.08793861511784107,
          -0.028468024796346893,
          0.03361847980418442,
          0.07636580639364088,
          0.011809880781613597,
          0.011421078070115056,
          -0.028462627722315136,
          0.1237238035126812,
          0.1362881560008419,
          0.15669244937366833,
          -0.03028979028380166,
          0.1865723147979576,
          0.08764975303509856,
          -0.028462199327088784,
          -0.031208132583653094,
          0.03357461431342658,
          2.7854509609332827,
          0.13959316645090325,
          0.15668466982072643,
          -0.028460404976995934,
          0.07574855015409801,
          0.19730359850118087,
          0.019485898586810664,
          0.07737499703113648,
          0.1330544652556763,
          0.08799718890151832,
          0.03361289116417716,
          0.1567189419429442,
          -0.02572574870420282,
          0.13735125712153556,
          0.0538869982896298,
          0.1330648058686924,
          0.15670717312122814,
          0.15863798734662982,
          0.14565555846740816,
          0.15191824649491628,
          0.15660859453195874,
          -0.06080001678476859,
          0.09963005698752797,
          0.14811819479295366,
          0.03361908126499405,
          -0.02846001161145616,
          -0.028526473860320797,
          0.16024526652013923,
          0.05658185679729122,
          0.15150483658561262,
          0.1383340786404946,
          0.1566205805017243,
          0.03361492700145673,
          0.07598508311802221,
          0.033618979337130345,
          0.09962788388601658,
          0.07653007120310892,
          0.14810301591076455,
          0.13306194585294304,
          0.07636613034636638,
          0.017341399867360226,
          0.15622746613031635,
          0.1423725139568861,
          0.1423734603788908,
          0.14237316260167476,
          0.14220042922192744,
          -0.050987471953405535,
          0.3051681751550203,
          -0.028467784876416397,
          0.07737591124311193,
          0.07738328074891755,
          0.08777705387254996,
          0.13438717892985244,
          0.07635963754580843,
          -0.03457711177782944,
          0.07635195968331374,
          0.13796160924283088,
          -0.03087901741952942,
          0.08729397980687233,
          0.14220055602523038,
          -0.028607466702762062,
          0.0763648227321911,
          -0.03437648731956563,
          -0.014773883677740388,
          -0.028460167430747627,
          -0.028474760229828158,
          0.1389621465304075,
          0.176850313880996,
          0.13305453231907155,
          0.1397876730661464,
          -0.04645875395126468,
          0.15653217598765765,
          0.07738635321956219
         ]
        },
        {
         "customdata": [
          [
           "SHA-256 + Hive"
          ],
          [
           "ECC 256K1"
          ],
          [
           "SHA3-256"
          ]
         ],
         "hovertemplate": "<b>%{hovertext}</b><br><br>Class=%{marker.color}<br>PC1=%{x}<br>PC2=%{y}<br>PC3=%{z}<br>Algorithm=%{customdata[0]}<extra></extra>",
         "hovertext": [
          "LitecoinCash",
          "Acute Angle Cloud",
          "Fiii"
         ],
         "legendgroup": "3",
         "marker": {
          "color": [
           3,
           3,
           3
          ],
          "coloraxis": "coloraxis",
          "symbol": "square"
         },
         "mode": "markers",
         "name": "3",
         "scene": "scene",
         "showlegend": true,
         "type": "scatter3d",
         "x": [
          -0.29133901562307274,
          -0.3637272664964433,
          -0.5623156487825074
         ],
         "y": [
          1.4746313088124348,
          3.483628715064021,
          2.434606753331883
         ],
         "z": [
          11.206070452435778,
          16.193910623551233,
          21.955287214548505
         ]
        },
        {
         "customdata": [
          [
           "TRC10"
          ]
         ],
         "hovertemplate": "<b>%{hovertext}</b><br><br>Class=%{marker.color}<br>PC1=%{x}<br>PC2=%{y}<br>PC3=%{z}<br>Algorithm=%{customdata[0]}<extra></extra>",
         "hovertext": [
          "BitTorrent"
         ],
         "legendgroup": "2",
         "marker": {
          "color": [
           2
          ],
          "coloraxis": "coloraxis",
          "symbol": "x"
         },
         "mode": "markers",
         "name": "2",
         "scene": "scene",
         "showlegend": true,
         "type": "scatter3d",
         "x": [
          35.52669667576543
         ],
         "y": [
          1.2771067300678962
         ],
         "z": [
          -0.09359289626953968
         ]
        }
       ],
       "layout": {
        "coloraxis": {
         "colorbar": {
          "title": {
           "text": "Class"
          }
         },
         "colorscale": [
          [
           0,
           "#0d0887"
          ],
          [
           0.1111111111111111,
           "#46039f"
          ],
          [
           0.2222222222222222,
           "#7201a8"
          ],
          [
           0.3333333333333333,
           "#9c179e"
          ],
          [
           0.4444444444444444,
           "#bd3786"
          ],
          [
           0.5555555555555556,
           "#d8576b"
          ],
          [
           0.6666666666666666,
           "#ed7953"
          ],
          [
           0.7777777777777778,
           "#fb9f3a"
          ],
          [
           0.8888888888888888,
           "#fdca26"
          ],
          [
           1,
           "#f0f921"
          ]
         ]
        },
        "legend": {
         "title": {
          "text": "Class"
         },
         "tracegroupgap": 0
        },
        "margin": {
         "t": 60
        },
        "scene": {
         "domain": {
          "x": [
           0,
           1
          ],
          "y": [
           0,
           1
          ]
         },
         "xaxis": {
          "title": {
           "text": "PC1"
          }
         },
         "yaxis": {
          "title": {
           "text": "PC2"
          }
         },
         "zaxis": {
          "title": {
           "text": "PC3"
          }
         }
        },
        "template": {
         "data": {
          "bar": [
           {
            "error_x": {
             "color": "#2a3f5f"
            },
            "error_y": {
             "color": "#2a3f5f"
            },
            "marker": {
             "line": {
              "color": "#E5ECF6",
              "width": 0.5
             },
             "pattern": {
              "fillmode": "overlay",
              "size": 10,
              "solidity": 0.2
             }
            },
            "type": "bar"
           }
          ],
          "barpolar": [
           {
            "marker": {
             "line": {
              "color": "#E5ECF6",
              "width": 0.5
             },
             "pattern": {
              "fillmode": "overlay",
              "size": 10,
              "solidity": 0.2
             }
            },
            "type": "barpolar"
           }
          ],
          "carpet": [
           {
            "aaxis": {
             "endlinecolor": "#2a3f5f",
             "gridcolor": "white",
             "linecolor": "white",
             "minorgridcolor": "white",
             "startlinecolor": "#2a3f5f"
            },
            "baxis": {
             "endlinecolor": "#2a3f5f",
             "gridcolor": "white",
             "linecolor": "white",
             "minorgridcolor": "white",
             "startlinecolor": "#2a3f5f"
            },
            "type": "carpet"
           }
          ],
          "choropleth": [
           {
            "colorbar": {
             "outlinewidth": 0,
             "ticks": ""
            },
            "type": "choropleth"
           }
          ],
          "contour": [
           {
            "colorbar": {
             "outlinewidth": 0,
             "ticks": ""
            },
            "colorscale": [
             [
              0,
              "#0d0887"
             ],
             [
              0.1111111111111111,
              "#46039f"
             ],
             [
              0.2222222222222222,
              "#7201a8"
             ],
             [
              0.3333333333333333,
              "#9c179e"
             ],
             [
              0.4444444444444444,
              "#bd3786"
             ],
             [
              0.5555555555555556,
              "#d8576b"
             ],
             [
              0.6666666666666666,
              "#ed7953"
             ],
             [
              0.7777777777777778,
              "#fb9f3a"
             ],
             [
              0.8888888888888888,
              "#fdca26"
             ],
             [
              1,
              "#f0f921"
             ]
            ],
            "type": "contour"
           }
          ],
          "contourcarpet": [
           {
            "colorbar": {
             "outlinewidth": 0,
             "ticks": ""
            },
            "type": "contourcarpet"
           }
          ],
          "heatmap": [
           {
            "colorbar": {
             "outlinewidth": 0,
             "ticks": ""
            },
            "colorscale": [
             [
              0,
              "#0d0887"
             ],
             [
              0.1111111111111111,
              "#46039f"
             ],
             [
              0.2222222222222222,
              "#7201a8"
             ],
             [
              0.3333333333333333,
              "#9c179e"
             ],
             [
              0.4444444444444444,
              "#bd3786"
             ],
             [
              0.5555555555555556,
              "#d8576b"
             ],
             [
              0.6666666666666666,
              "#ed7953"
             ],
             [
              0.7777777777777778,
              "#fb9f3a"
             ],
             [
              0.8888888888888888,
              "#fdca26"
             ],
             [
              1,
              "#f0f921"
             ]
            ],
            "type": "heatmap"
           }
          ],
          "heatmapgl": [
           {
            "colorbar": {
             "outlinewidth": 0,
             "ticks": ""
            },
            "colorscale": [
             [
              0,
              "#0d0887"
             ],
             [
              0.1111111111111111,
              "#46039f"
             ],
             [
              0.2222222222222222,
              "#7201a8"
             ],
             [
              0.3333333333333333,
              "#9c179e"
             ],
             [
              0.4444444444444444,
              "#bd3786"
             ],
             [
              0.5555555555555556,
              "#d8576b"
             ],
             [
              0.6666666666666666,
              "#ed7953"
             ],
             [
              0.7777777777777778,
              "#fb9f3a"
             ],
             [
              0.8888888888888888,
              "#fdca26"
             ],
             [
              1,
              "#f0f921"
             ]
            ],
            "type": "heatmapgl"
           }
          ],
          "histogram": [
           {
            "marker": {
             "pattern": {
              "fillmode": "overlay",
              "size": 10,
              "solidity": 0.2
             }
            },
            "type": "histogram"
           }
          ],
          "histogram2d": [
           {
            "colorbar": {
             "outlinewidth": 0,
             "ticks": ""
            },
            "colorscale": [
             [
              0,
              "#0d0887"
             ],
             [
              0.1111111111111111,
              "#46039f"
             ],
             [
              0.2222222222222222,
              "#7201a8"
             ],
             [
              0.3333333333333333,
              "#9c179e"
             ],
             [
              0.4444444444444444,
              "#bd3786"
             ],
             [
              0.5555555555555556,
              "#d8576b"
             ],
             [
              0.6666666666666666,
              "#ed7953"
             ],
             [
              0.7777777777777778,
              "#fb9f3a"
             ],
             [
              0.8888888888888888,
              "#fdca26"
             ],
             [
              1,
              "#f0f921"
             ]
            ],
            "type": "histogram2d"
           }
          ],
          "histogram2dcontour": [
           {
            "colorbar": {
             "outlinewidth": 0,
             "ticks": ""
            },
            "colorscale": [
             [
              0,
              "#0d0887"
             ],
             [
              0.1111111111111111,
              "#46039f"
             ],
             [
              0.2222222222222222,
              "#7201a8"
             ],
             [
              0.3333333333333333,
              "#9c179e"
             ],
             [
              0.4444444444444444,
              "#bd3786"
             ],
             [
              0.5555555555555556,
              "#d8576b"
             ],
             [
              0.6666666666666666,
              "#ed7953"
             ],
             [
              0.7777777777777778,
              "#fb9f3a"
             ],
             [
              0.8888888888888888,
              "#fdca26"
             ],
             [
              1,
              "#f0f921"
             ]
            ],
            "type": "histogram2dcontour"
           }
          ],
          "mesh3d": [
           {
            "colorbar": {
             "outlinewidth": 0,
             "ticks": ""
            },
            "type": "mesh3d"
           }
          ],
          "parcoords": [
           {
            "line": {
             "colorbar": {
              "outlinewidth": 0,
              "ticks": ""
             }
            },
            "type": "parcoords"
           }
          ],
          "pie": [
           {
            "automargin": true,
            "type": "pie"
           }
          ],
          "scatter": [
           {
            "fillpattern": {
             "fillmode": "overlay",
             "size": 10,
             "solidity": 0.2
            },
            "type": "scatter"
           }
          ],
          "scatter3d": [
           {
            "line": {
             "colorbar": {
              "outlinewidth": 0,
              "ticks": ""
             }
            },
            "marker": {
             "colorbar": {
              "outlinewidth": 0,
              "ticks": ""
             }
            },
            "type": "scatter3d"
           }
          ],
          "scattercarpet": [
           {
            "marker": {
             "colorbar": {
              "outlinewidth": 0,
              "ticks": ""
             }
            },
            "type": "scattercarpet"
           }
          ],
          "scattergeo": [
           {
            "marker": {
             "colorbar": {
              "outlinewidth": 0,
              "ticks": ""
             }
            },
            "type": "scattergeo"
           }
          ],
          "scattergl": [
           {
            "marker": {
             "colorbar": {
              "outlinewidth": 0,
              "ticks": ""
             }
            },
            "type": "scattergl"
           }
          ],
          "scattermapbox": [
           {
            "marker": {
             "colorbar": {
              "outlinewidth": 0,
              "ticks": ""
             }
            },
            "type": "scattermapbox"
           }
          ],
          "scatterpolar": [
           {
            "marker": {
             "colorbar": {
              "outlinewidth": 0,
              "ticks": ""
             }
            },
            "type": "scatterpolar"
           }
          ],
          "scatterpolargl": [
           {
            "marker": {
             "colorbar": {
              "outlinewidth": 0,
              "ticks": ""
             }
            },
            "type": "scatterpolargl"
           }
          ],
          "scatterternary": [
           {
            "marker": {
             "colorbar": {
              "outlinewidth": 0,
              "ticks": ""
             }
            },
            "type": "scatterternary"
           }
          ],
          "surface": [
           {
            "colorbar": {
             "outlinewidth": 0,
             "ticks": ""
            },
            "colorscale": [
             [
              0,
              "#0d0887"
             ],
             [
              0.1111111111111111,
              "#46039f"
             ],
             [
              0.2222222222222222,
              "#7201a8"
             ],
             [
              0.3333333333333333,
              "#9c179e"
             ],
             [
              0.4444444444444444,
              "#bd3786"
             ],
             [
              0.5555555555555556,
              "#d8576b"
             ],
             [
              0.6666666666666666,
              "#ed7953"
             ],
             [
              0.7777777777777778,
              "#fb9f3a"
             ],
             [
              0.8888888888888888,
              "#fdca26"
             ],
             [
              1,
              "#f0f921"
             ]
            ],
            "type": "surface"
           }
          ],
          "table": [
           {
            "cells": {
             "fill": {
              "color": "#EBF0F8"
             },
             "line": {
              "color": "white"
             }
            },
            "header": {
             "fill": {
              "color": "#C8D4E3"
             },
             "line": {
              "color": "white"
             }
            },
            "type": "table"
           }
          ]
         },
         "layout": {
          "annotationdefaults": {
           "arrowcolor": "#2a3f5f",
           "arrowhead": 0,
           "arrowwidth": 1
          },
          "autotypenumbers": "strict",
          "coloraxis": {
           "colorbar": {
            "outlinewidth": 0,
            "ticks": ""
           }
          },
          "colorscale": {
           "diverging": [
            [
             0,
             "#8e0152"
            ],
            [
             0.1,
             "#c51b7d"
            ],
            [
             0.2,
             "#de77ae"
            ],
            [
             0.3,
             "#f1b6da"
            ],
            [
             0.4,
             "#fde0ef"
            ],
            [
             0.5,
             "#f7f7f7"
            ],
            [
             0.6,
             "#e6f5d0"
            ],
            [
             0.7,
             "#b8e186"
            ],
            [
             0.8,
             "#7fbc41"
            ],
            [
             0.9,
             "#4d9221"
            ],
            [
             1,
             "#276419"
            ]
           ],
           "sequential": [
            [
             0,
             "#0d0887"
            ],
            [
             0.1111111111111111,
             "#46039f"
            ],
            [
             0.2222222222222222,
             "#7201a8"
            ],
            [
             0.3333333333333333,
             "#9c179e"
            ],
            [
             0.4444444444444444,
             "#bd3786"
            ],
            [
             0.5555555555555556,
             "#d8576b"
            ],
            [
             0.6666666666666666,
             "#ed7953"
            ],
            [
             0.7777777777777778,
             "#fb9f3a"
            ],
            [
             0.8888888888888888,
             "#fdca26"
            ],
            [
             1,
             "#f0f921"
            ]
           ],
           "sequentialminus": [
            [
             0,
             "#0d0887"
            ],
            [
             0.1111111111111111,
             "#46039f"
            ],
            [
             0.2222222222222222,
             "#7201a8"
            ],
            [
             0.3333333333333333,
             "#9c179e"
            ],
            [
             0.4444444444444444,
             "#bd3786"
            ],
            [
             0.5555555555555556,
             "#d8576b"
            ],
            [
             0.6666666666666666,
             "#ed7953"
            ],
            [
             0.7777777777777778,
             "#fb9f3a"
            ],
            [
             0.8888888888888888,
             "#fdca26"
            ],
            [
             1,
             "#f0f921"
            ]
           ]
          },
          "colorway": [
           "#636efa",
           "#EF553B",
           "#00cc96",
           "#ab63fa",
           "#FFA15A",
           "#19d3f3",
           "#FF6692",
           "#B6E880",
           "#FF97FF",
           "#FECB52"
          ],
          "font": {
           "color": "#2a3f5f"
          },
          "geo": {
           "bgcolor": "white",
           "lakecolor": "white",
           "landcolor": "#E5ECF6",
           "showlakes": true,
           "showland": true,
           "subunitcolor": "white"
          },
          "hoverlabel": {
           "align": "left"
          },
          "hovermode": "closest",
          "mapbox": {
           "style": "light"
          },
          "paper_bgcolor": "white",
          "plot_bgcolor": "#E5ECF6",
          "polar": {
           "angularaxis": {
            "gridcolor": "white",
            "linecolor": "white",
            "ticks": ""
           },
           "bgcolor": "#E5ECF6",
           "radialaxis": {
            "gridcolor": "white",
            "linecolor": "white",
            "ticks": ""
           }
          },
          "scene": {
           "xaxis": {
            "backgroundcolor": "#E5ECF6",
            "gridcolor": "white",
            "gridwidth": 2,
            "linecolor": "white",
            "showbackground": true,
            "ticks": "",
            "zerolinecolor": "white"
           },
           "yaxis": {
            "backgroundcolor": "#E5ECF6",
            "gridcolor": "white",
            "gridwidth": 2,
            "linecolor": "white",
            "showbackground": true,
            "ticks": "",
            "zerolinecolor": "white"
           },
           "zaxis": {
            "backgroundcolor": "#E5ECF6",
            "gridcolor": "white",
            "gridwidth": 2,
            "linecolor": "white",
            "showbackground": true,
            "ticks": "",
            "zerolinecolor": "white"
           }
          },
          "shapedefaults": {
           "line": {
            "color": "#2a3f5f"
           }
          },
          "ternary": {
           "aaxis": {
            "gridcolor": "white",
            "linecolor": "white",
            "ticks": ""
           },
           "baxis": {
            "gridcolor": "white",
            "linecolor": "white",
            "ticks": ""
           },
           "bgcolor": "#E5ECF6",
           "caxis": {
            "gridcolor": "white",
            "linecolor": "white",
            "ticks": ""
           }
          },
          "title": {
           "x": 0.05
          },
          "xaxis": {
           "automargin": true,
           "gridcolor": "white",
           "linecolor": "white",
           "ticks": "",
           "title": {
            "standoff": 15
           },
           "zerolinecolor": "white",
           "zerolinewidth": 2
          },
          "yaxis": {
           "automargin": true,
           "gridcolor": "white",
           "linecolor": "white",
           "ticks": "",
           "title": {
            "standoff": 15
           },
           "zerolinecolor": "white",
           "zerolinewidth": 2
          }
         }
        },
        "width": 800
       }
      },
      "text/html": [
       "<div>                            <div id=\"eac31dad-b006-48d3-a570-d7475215265d\" class=\"plotly-graph-div\" style=\"height:525px; width:800px;\"></div>            <script type=\"text/javascript\">                require([\"plotly\"], function(Plotly) {                    window.PLOTLYENV=window.PLOTLYENV || {};                                    if (document.getElementById(\"eac31dad-b006-48d3-a570-d7475215265d\")) {                    Plotly.newPlot(                        \"eac31dad-b006-48d3-a570-d7475215265d\",                        [{\"customdata\":[[\"Scrypt\"],[\"Scrypt\"],[\"X13\"],[\"X11\"],[\"SHA-512\"],[\"SHA-256\"],[\"SHA-256\"],[\"X15\"],[\"Scrypt\"],[\"Scrypt\"],[\"Scrypt\"],[\"Scrypt\"],[\"Scrypt\"],[\"Scrypt\"],[\"Groestl\"],[\"PoS\"],[\"Scrypt\"],[\"Scrypt\"],[\"X11\"],[\"X11\"],[\"SHA3\"],[\"Scrypt\"],[\"SHA-256\"],[\"Scrypt\"],[\"X13\"],[\"X13\"],[\"NeoScrypt\"],[\"Scrypt\"],[\"Scrypt\"],[\"Scrypt\"],[\"X11\"],[\"X11\"],[\"Multiple\"],[\"PHI1612\"],[\"X11\"],[\"Scrypt\"],[\"Scrypt\"],[\"Scrypt\"],[\"X11\"],[\"Multiple\"],[\"X13\"],[\"Scrypt\"],[\"Shabal256\"],[\"Counterparty\"],[\"SHA-256\"],[\"Groestl\"],[\"Scrypt\"],[\"X13\"],[\"Scrypt\"],[\"Scrypt\"],[\"X13\"],[\"X11\"],[\"Scrypt\"],[\"X11\"],[\"SHA3\"],[\"QUAIT\"],[\"X11\"],[\"Scrypt\"],[\"X13\"],[\"SHA-256\"],[\"X15\"],[\"BLAKE256\"],[\"SHA-256\"],[\"X11\"],[\"SHA-256\"],[\"NIST5\"],[\"Scrypt\"],[\"Scrypt\"],[\"X11\"],[\"Scrypt\"],[\"SHA-256\"],[\"Scrypt\"],[\"PoS\"],[\"X11\"],[\"SHA-256\"],[\"SHA-256\"],[\"NIST5\"],[\"X11\"],[\"POS 3.0\"],[\"Scrypt\"],[\"Scrypt\"],[\"Scrypt\"],[\"X13\"],[\"X11\"],[\"X11\"],[\"Scrypt\"],[\"SHA-256\"],[\"X11\"],[\"Scrypt\"],[\"Scrypt\"],[\"Scrypt\"],[\"Scrypt\"],[\"SHA-256D\"],[\"PoS\"],[\"Scrypt\"],[\"X11\"],[\"PoS\"],[\"X13\"],[\"X14\"],[\"PoS\"],[\"SHA-256D\"],[\"DPoS\"],[\"X11\"],[\"X13\"],[\"X11\"],[\"PoS\"],[\"Scrypt\"],[\"Scrypt\"],[\"PoS\"],[\"X11\"],[\"SHA-256\"],[\"Scrypt\"],[\"X11\"],[\"Scrypt\"],[\"Scrypt\"],[\"X11\"],[\"Scrypt\"],[\"Scrypt\"],[\"Scrypt\"],[\"Scrypt\"],[\"Quark\"],[\"QuBit\"],[\"Scrypt\"],[\"SHA-256\"],[\"X11\"],[\"Scrypt\"],[\"Scrypt\"],[\"Scrypt\"],[\"Scrypt\"],[\"X13\"],[\"Scrypt\"],[\"Scrypt\"],[\"X11\"],[\"Blake2S\"],[\"X11\"],[\"PoS\"],[\"X11\"],[\"PoS\"],[\"X11\"],[\"Scrypt\"],[\"Scrypt\"],[\"Scrypt\"],[\"SHA-256\"],[\"X11\"],[\"Scrypt\"],[\"PoS\"],[\"Scrypt\"],[\"X15\"],[\"SHA-256\"],[\"POS 3.0\"],[\"536\"],[\"NIST5\"],[\"NIST5\"],[\"Skein\"],[\"X13\"],[\"Scrypt\"],[\"X13\"],[\"SkunkHash v2 Raptor\"],[\"Skein\"],[\"X11\"],[\"Scrypt\"],[\"VeChainThor Authority\"],[\"PoS\"],[\"Scrypt\"],[\"Scrypt\"],[\"SHA-512\"],[\"Ouroboros\"],[\"X11\"],[\"NeoScrypt\"],[\"Scrypt\"],[\"Lyra2REv2\"],[\"Scrypt\"],[\"SHA-256\"],[\"NIST5\"],[\"PHI1612\"],[\"Scrypt\"],[\"Quark\"],[\"POS 2.0\"],[\"Scrypt\"],[\"SHA-256\"],[\"Quark\"],[\"X11\"],[\"DPoS\"],[\"NIST5\"],[\"X13\"],[\"Scrypt\"],[\"NIST5\"],[\"Quark\"],[\"Scrypt\"],[\"Scrypt\"],[\"X11\"],[\"Scrypt\"],[\"Scrypt\"],[\"Quark\"],[\"Scrypt\"],[\"Scrypt\"],[\"X11\"],[\"Scrypt\"],[\"POS 3.0\"],[\"Scrypt\"],[\"Scrypt\"],[\"X11\"],[\"SHA-256\"],[\"X13\"],[\"Proof-of-BibleHash\"],[\"Skein\"],[\"X11\"],[\"Skein\"],[\"C11\"],[\"X11\"],[\"XEVAN\"],[\"Scrypt\"],[\"VBFT\"],[\"PHI1612\"],[\"NIST5\"],[\"Scrypt\"],[\"Scrypt\"],[\"Scrypt\"],[\"Green Protocol\"],[\"PoS\"],[\"Scrypt\"],[\"Semux BFT consensus\"],[\"Quark\"],[\"PoS\"],[\"X16R\"],[\"Scrypt\"],[\"XEVAN\"],[\"Scrypt\"],[\"Scrypt\"],[\"Scrypt\"],[\"X11\"],[\"SHA-256D\"],[\"Scrypt\"],[\"Scrypt\"],[\"X11\"],[\"Scrypt\"],[\"SHA-256D\"],[\"Scrypt\"],[\"X15\"],[\"Scrypt\"],[\"Quark\"],[\"Scrypt\"],[\"SHA-256\"],[\"DPoS\"],[\"Scrypt\"],[\"X16R\"],[\"Quark\"],[\"Quark\"],[\"Scrypt\"],[\"Lyra2REv2\"],[\"Quark\"],[\"Scrypt\"],[\"X11\"],[\"X11\"],[\"Scrypt\"],[\"PoS\"],[\"Keccak\"],[\"X11\"],[\"Tribus\"],[\"Scrypt\"],[\"NeoScrypt\"],[\"SHA-512\"],[\"XEVAN\"],[\"SHA-512\"],[\"Quark\"],[\"XEVAN\"],[\"X11\"],[\"Quark\"],[\"Scrypt\"],[\"Quark\"],[\"Quark\"],[\"Scrypt\"],[\"X11\"],[\"Scrypt\"],[\"XEVAN\"],[\"SHA-256D\"],[\"X11\"],[\"X11\"],[\"DPoS\"],[\"Scrypt\"],[\"X11\"],[\"Scrypt\"],[\"Scrypt\"],[\"SHA-256\"],[\"Scrypt\"],[\"X11\"],[\"Scrypt\"],[\"SHA-256\"],[\"X11\"],[\"Scrypt\"],[\"Scrypt\"],[\"X11\"],[\"Scrypt\"],[\"PoS\"],[\"X11\"],[\"SHA-256\"],[\"DPoS\"],[\"Scrypt\"],[\"Scrypt\"],[\"NeoScrypt\"],[\"X13\"],[\"PHI2\"],[\"DPoS\"],[\"DPoS\"],[\"SHA-256\"],[\"Lyra2Z\"],[\"Leased POS\"],[\"PoS\"],[\"Scrypt\"],[\"PoS\"],[\"SHA-256\"],[\"Scrypt\"],[\"Scrypt\"],[\"Scrypt\"]],\"hovertemplate\":\"<b>%{hovertext}</b><br><br>Class=%{marker.color}<br>PC1=%{x}<br>PC2=%{y}<br>PC3=%{z}<br>Algorithm=%{customdata[0]}<extra></extra>\",\"hovertext\":[\"42 Coin\",\"404Coin\",\"EliteCoin\",\"Dash\",\"Bitshares\",\"BitcoinDark\",\"PayCoin\",\"KoboCoin\",\"Aurora Coin\",\"BlueCoin\",\"EnergyCoin\",\"BitBar\",\"CryptoBullion\",\"CasinoCoin\",\"Diamond\",\"Exclusive Coin\",\"FlutterCoin\",\"HoboNickels\",\"HyperStake\",\"IOCoin\",\"MaxCoin\",\"MintCoin\",\"MazaCoin\",\"Nautilus Coin\",\"NavCoin\",\"OpalCoin\",\"Orbitcoin\",\"PotCoin\",\"PhoenixCoin\",\"Reddcoin\",\"SuperCoin\",\"SyncCoin\",\"TeslaCoin\",\"TittieCoin\",\"TorCoin\",\"UnitaryStatus Dollar\",\"UltraCoin\",\"VeriCoin\",\"X11 Coin\",\"Crypti\",\"StealthCoin\",\"ZCC Coin\",\"BurstCoin\",\"StorjCoin\",\"Neutron\",\"FairCoin\",\"RubyCoin\",\"Kore\",\"Dnotes\",\"8BIT Coin\",\"Sativa Coin\",\"Ucoin\",\"Vtorrent\",\"IslaCoin\",\"Nexus\",\"Droidz\",\"Squall Coin\",\"Diggits\",\"Paycon\",\"Emercoin\",\"EverGreenCoin\",\"Decred\",\"EDRCoin\",\"Hitcoin\",\"DubaiCoin\",\"PWR Coin\",\"BillaryCoin\",\"GPU Coin\",\"EuropeCoin\",\"ZeitCoin\",\"SwingCoin\",\"SafeExchangeCoin\",\"Nebuchadnezzar\",\"Ratecoin\",\"Revenu\",\"Clockcoin\",\"VIP Tokens\",\"BitSend\",\"Let it Ride\",\"PutinCoin\",\"iBankCoin\",\"Frankywillcoin\",\"MudraCoin\",\"Lutetium Coin\",\"GoldBlocks\",\"CarterCoin\",\"BitTokens\",\"MustangCoin\",\"ZoneCoin\",\"RootCoin\",\"BitCurrency\",\"Swiscoin\",\"BuzzCoin\",\"Opair\",\"PesoBit\",\"Halloween Coin\",\"CoffeeCoin\",\"RoyalCoin\",\"GanjaCoin V2\",\"TeamUP\",\"LanaCoin\",\"ARK\",\"InsaneCoin\",\"EmberCoin\",\"XenixCoin\",\"FreeCoin\",\"PLNCoin\",\"AquariusCoin\",\"Creatio\",\"Eternity\",\"Eurocoin\",\"BitcoinFast\",\"Stakenet\",\"BitConnect Coin\",\"MoneyCoin\",\"Enigma\",\"Russiacoin\",\"PandaCoin\",\"GameUnits\",\"GAKHcoin\",\"Allsafe\",\"LiteCreed\",\"Klingon Empire Darsek\",\"Internet of People\",\"KushCoin\",\"Printerium\",\"Impeach\",\"Zilbercoin\",\"FirstCoin\",\"FindCoin\",\"OpenChat\",\"RenosCoin\",\"VirtacoinPlus\",\"TajCoin\",\"Impact\",\"Atmos\",\"HappyCoin\",\"MacronCoin\",\"Condensate\",\"Independent Money System\",\"ArgusCoin\",\"LomoCoin\",\"ProCurrency\",\"GoldReserve\",\"GrowthCoin\",\"Phreak\",\"Degas Coin\",\"HTML5 Coin\",\"Ultimate Secure Cash\",\"QTUM\",\"Espers\",\"Denarius\",\"Virta Unique Coin\",\"Bitcoin Planet\",\"BritCoin\",\"Linda\",\"DeepOnion\",\"Signatum\",\"Cream\",\"Monoeci\",\"Draftcoin\",\"Vechain\",\"Stakecoin\",\"CoinonatX\",\"Ethereum Dark\",\"Obsidian\",\"Cardano\",\"Regalcoin\",\"TrezarCoin\",\"TerraNovaCoin\",\"Rupee\",\"WomenCoin\",\"Theresa May Coin\",\"NamoCoin\",\"LUXCoin\",\"Xios\",\"Bitcloud 2.0\",\"KekCoin\",\"BlackholeCoin\",\"Infinity Economics\",\"Alqo\",\"Magnet\",\"Lamden Tau\",\"Electra\",\"Bitcoin Diamond\",\"Cash & Back Coin\",\"Bulwark\",\"Kalkulus\",\"GermanCoin\",\"LiteCoin Ultra\",\"PhantomX\",\"Accolade\",\"OmiseGO Classic\",\"Digiwage\",\"Trollcoin\",\"Litecoin Plus\",\"Monkey Project\",\"ECC\",\"TokenPay\",\"My Big Coin\",\"Unified Society USDEX\",\"BitSoar Coin\",\"Credence Coin\",\"Tokyo Coin\",\"BiblePay\",\"BashCoin\",\"DigiMoney\",\"Lizus Payment\",\"Stipend\",\"Pushi\",\"Ellerium\",\"Velox\",\"Ontology\",\"Seraph\",\"Bitspace\",\"Briacoin\",\"Ignition\",\"MedicCoin\",\"Bitcoin Green\",\"Deviant Coin\",\"Abjcoin\",\"Semux\",\"Carebit\",\"Zealium\",\"Proton\",\"iDealCash\",\"Bitcoin Incognito\",\"HollyWoodCoin\",\"Parlay\",\"Listerclassic Coin\",\"BetKings\",\"Cognitio\",\"Mercoin\",\"Swisscoin\",\"Reliance\",\"Xt3ch\",\"TheVig\",\"EmaratCoin\",\"Dekado\",\"Lynx\",\"Poseidon Quark\",\"MYCE\",\"BitcoinWSpectrum\",\"Muse\",\"GambleCoin\",\"Trivechain\",\"Dystem\",\"Giant\",\"Peony Coin\",\"Absolute Coin\",\"Vitae\",\"TPCash\",\"ARENON\",\"EUNO\",\"MMOCoin\",\"Ketan\",\"XDNA\",\"PAXEX\",\"Averopay\",\"ThunderStake\",\"SimpleBank\",\"Kcash\",\"Bettex coin\",\"TWIST\",\"DACH Coin\",\"BitMoney\",\"Junson Ming Chan Coin\",\"HerbCoin\",\"Oduwa\",\"Galilel\",\"Crypto Sports\",\"Credit\",\"Dash Platinum\",\"Nasdacoin\",\"Beetle Coin\",\"Titan Coin\",\"Award\",\"Insane Coin\",\"ALAX\",\"LiteDoge\",\"TruckCoin\",\"OrangeCoin\",\"BitstarCoin\",\"NeosCoin\",\"HyperCoin\",\"PinkCoin\",\"AudioCoin\",\"IncaKoin\",\"Piggy Coin\",\"Genstake\",\"XiaoMiCoin\",\"CapriCoin\",\" ClubCoin\",\"Radium\",\"Creditbit \",\"OKCash\",\"Lisk\",\"HiCoin\",\"WhiteCoin\",\"FriendshipCoin\",\"Triangles Coin\",\"Gexan\",\"EOS\",\"Oxycoin\",\"TigerCash\",\"LAPO\",\"Waves\",\"Particl\",\"ShardCoin\",\"Nxt\",\"ZEPHYR\",\"Gapcoin\",\"BitcoinPlus\",\"DivotyCoin\"],\"legendgroup\":\"1\",\"marker\":{\"color\":[1,1,1,1,1,1,1,1,1,1,1,1,1,1,1,1,1,1,1,1,1,1,1,1,1,1,1,1,1,1,1,1,1,1,1,1,1,1,1,1,1,1,1,1,1,1,1,1,1,1,1,1,1,1,1,1,1,1,1,1,1,1,1,1,1,1,1,1,1,1,1,1,1,1,1,1,1,1,1,1,1,1,1,1,1,1,1,1,1,1,1,1,1,1,1,1,1,1,1,1,1,1,1,1,1,1,1,1,1,1,1,1,1,1,1,1,1,1,1,1,1,1,1,1,1,1,1,1,1,1,1,1,1,1,1,1,1,1,1,1,1,1,1,1,1,1,1,1,1,1,1,1,1,1,1,1,1,1,1,1,1,1,1,1,1,1,1,1,1,1,1,1,1,1,1,1,1,1,1,1,1,1,1,1,1,1,1,1,1,1,1,1,1,1,1,1,1,1,1,1,1,1,1,1,1,1,1,1,1,1,1,1,1,1,1,1,1,1,1,1,1,1,1,1,1,1,1,1,1,1,1,1,1,1,1,1,1,1,1,1,1,1,1,1,1,1,1,1,1,1,1,1,1,1,1,1,1,1,1,1,1,1,1,1,1,1,1,1,1,1,1,1,1,1,1,1,1,1,1,1,1,1,1,1,1,1,1,1,1,1,1,1,1,1,1,1,1,1,1,1,1,1,1,1,1,1,1,1,1,1,1,1,1,1],\"coloraxis\":\"coloraxis\",\"symbol\":\"circle\"},\"mode\":\"markers\",\"name\":\"1\",\"scene\":\"scene\",\"showlegend\":true,\"x\":[-0.31250830309326133,-0.29512644811089855,2.4308396377404122,-0.39575476423356964,-0.25029341156594304,-0.3081007097930197,-0.26224470937893896,-0.2214186118777377,-0.31215334284483864,-0.3044033131249857,-0.3109386071226505,-0.31250407407076225,-0.31248767623375706,0.742174337319131,-0.37447814256279904,-0.33143918545621015,-0.25886380288805233,-0.3104848604192122,-0.3288327491927783,-0.39564481882914654,-0.39020133902695386,0.004890527432473192,-0.26985648322847666,-0.266393135527079,-0.2582409240775197,-0.2588905583043688,-0.3386215187791275,-0.3065711251450173,-0.31084233070556816,0.061419089418023015,-0.34959590396808915,-0.39603215553172844,-0.23601674678722948,-0.28692631918889616,-0.39594017917980723,-0.2866932693837695,-0.31113019004640935,-0.24479550887887974,-0.3959029640122292,-0.236502315270141,-0.2586617627762357,-0.3032471393653697,0.06427903428051503,-0.34505687048736444,-0.3072789610009687,-0.373874087491227,-0.26637207392424284,-0.25896960233282046,-0.26080440799229276,-0.3124895812594977,-0.2589196245094153,-0.35006091341338064,-0.3122128125650371,-0.3960128702449542,-0.37511030224280667,-0.423208868293999,-0.4207888104808776,-0.26470594267594316,-0.25842129174122325,-0.3003566162963624,-0.2239586482793167,-0.07245049259322157,-0.30807034171271575,-0.06000464422842998,-0.3081365230822731,-0.2109420675420968,-0.31208383521065747,-0.2645725898541514,-0.3930680019557877,0.9348362406055258,-0.3079285955621436,-0.019749930175928323,-0.3311090562695807,-0.39376288257628017,-0.3066218521207664,-0.3041957345443271,-0.3376523622471515,-0.3946961882139913,-0.33492303795113354,-0.28739008361425944,-0.3121236771779558,-0.3104954277144609,-0.2117559178209964,-0.3370180960865694,-0.39546498122111545,-0.31129410110135186,-0.30811692821648046,-0.396001669065865,-0.3123205265120288,-0.3124835601691616,-0.2645555461232051,-0.20238354858944466,0.05153929491966633,-0.33002167189437787,-0.3120807102354274,-0.3815958698699798,-0.329319771590182,-0.2132440720831083,-0.3956915757727141,-0.32906492263430515,-0.2765016840813099,3.8625054702287853,-0.3955770053874647,0.9231261221947864,-0.39595461521963293,-0.33050519340231665,-0.31200614666028453,-0.31216737145922463,-0.3311090562695807,-0.3955123494319853,-0.30797352032178205,-0.31200676045441345,-0.43663070165345436,-0.3121605082148105,-0.30757143967837297,-0.3959849190254321,-0.3113396563353878,0.40432542186399645,-0.3123681495148135,-0.31244156121024846,-0.33441464973863,-0.34473252007420785,-0.3085158635912195,-0.3080923022994174,-0.395891022888851,-0.312210044599217,-0.3123426473429514,-0.26627599706435034,-0.2498065763933097,-0.21300202920258252,-0.29237954169653957,-0.2660051438302577,-0.3951269325541516,-0.40777526154171456,-0.39380997331679296,-0.32928084124440393,-0.3950203168653722,-0.323441996292211,-0.39079354861243015,-0.31228341401221865,-0.3122827743337396,-0.30512841424962134,0.291806009151971,-0.39551821216229643,-0.24820726806233143,-0.3311451409706165,-0.3114616487936418,0.9579069153242852,-0.26088262952071956,-0.33364939704492275,0.6462929840235411,-0.33925346695900416,-0.3376927457396085,-0.3974779268831571,-0.2585913963270065,0.17153765628486753,-0.2586649784604045,-0.3326103133017873,-0.3969609892407868,-0.39580175185255523,-0.26635242132459513,4.516821072528798,-0.3310064024286435,-0.31190328490124564,-0.31242376313725745,-0.31081893408026295,0.7313300194822079,-0.3957404593374945,-0.3334113933762513,-0.3123777436587418,-0.29661490892024295,0.4899421923133754,-0.3063678846261849,-0.32338207051210466,-0.369819709265126,-0.31232604037708633,-0.3785824583575579,-0.34776279367266394,-0.31219055405232515,-0.08133102172550237,-0.379189591378414,-0.39448315954739416,3.8675650598639066,0.2440632185687723,-0.25519442158608935,-0.30954432729584785,-0.29321758782878626,-0.3342956639776274,0.11881471394600965,-0.3112948855461249,-0.3950872939124237,-0.31206853174446625,-0.31135524740958004,-0.3334263735463351,-0.29833350006937687,-0.3124468645420165,-0.35003163352445077,0.23650023715321633,-0.3352171433885573,-0.25755360737456245,-0.30780212626637415,-0.27395300191720184,-0.3080513166951909,-0.20445806642936992,-0.18931595605105955,-0.3976224268167815,-0.3958029208448859,-0.39775521028962385,-0.34885880090580884,-0.39582018893956716,-0.33785266297617006,-0.26547835148963167,-0.3059018290867116,-0.3701147595159638,-0.33883586596224674,-0.31247539708061156,-0.31245635771471325,-0.25962261413476495,-0.3364966556860771,-0.33058372111443973,-0.31216107029711754,4.0764312764686474,-0.3771917783546802,-0.33078048291256323,-0.31489834371818864,-0.2568311542491407,-0.362767313967879,-0.2660333925481491,-0.26644935698289623,-0.31159396617794316,-0.3500377174965939,-0.3455868190331144,-0.311447859026822,-0.10719492906889824,-0.34969297563834845,-0.26629706181028634,-0.3444892082279198,-0.3116134239440916,-0.1774857589063297,2.3896783562975132,-0.3298319797615918,-0.30985351466387123,-0.2610132034182202,1.067253087367071,-0.2664986791119243,-0.3599961866439524,-0.3344142278038753,-0.38033540874715155,-0.14224064413092455,-0.34233031399184155,-0.33307952430144544,-0.3050658650219616,-0.3495913622960388,-0.3952710089048828,-0.26342715066806865,-0.32984422408402553,-0.3356932133754292,-0.34944788387584835,-0.37136600127730285,-0.1662651073140064,-0.3385051766745175,-0.3049862831013707,-0.29205568596952425,-0.30778592038213426,-0.3341967759777688,0.46537522175146107,-0.13072581017760845,-0.37960030886575924,-0.3121649688457894,-0.3800755573244536,-0.33453614778201163,0.632220041415962,-0.35008830627676224,-0.31162685281774116,-0.3320761598290551,-0.2973496495155074,-0.392738613901955,-0.39550770423413356,3.8803323988117056,0.14096085546955978,-0.39293808451929385,-0.3109884842927139,-0.311845786977225,-0.2622790136710401,-0.3123854555732466,-0.38677962223966245,-0.22257693850204435,-0.07805271844269732,-0.38235450251078557,-0.3116323862470248,-0.30440174131635017,-0.39193003503556856,-0.3100068190539979,-0.33139652896042243,-0.423135362498051,-0.30655263615822176,3.862913581691339,-0.06536292589226304,-0.30708185630191803,-0.33823245535191904,-0.25908120104628657,-0.40827398723715946,3.8732209372793167,3.8745199033895004,-0.24236111953502917,0.6370985917230203,-0.3557493943169505,-0.33132955883700793,-0.2597647336092643,-0.32344157862289763,2.571083599225062,-0.31047447669355904,-0.2667098085451499,-0.3114968269279065],\"y\":[1.1123121583844007,1.112204944095173,1.73955415959501,1.3508132809487061,0.8665861884234247,0.9366968607046535,0.5107419076303835,1.9159306918196874,1.1123059499529306,1.1124310177704082,1.1123351779423356,1.1123118800944718,1.1123117802311346,0.5548069426584398,1.0150955672490949,1.2049524423522504,0.19856001190008868,1.1122601512475025,0.9251757685702143,1.350814893293737,1.9568407188130355,0.6903329038032219,0.935625999216122,0.6863435263080884,1.9139589231062188,1.9139493962459677,0.6047629280087362,1.112113343839806,1.1122698837864755,1.117795788839227,0.9248712777264014,1.350824187162223,-0.08230022868982574,1.0134416338561998,1.3508187299331025,1.1116016565643192,1.1122643009927513,0.15477769683181009,1.3508223387247744,-0.08223928213884638,1.9139527515233414,1.1117672990770622,1.1631388002496075,1.180476272132839,0.93667760061715,1.0151074070446742,0.6863548484799427,1.9139400689811858,0.6860961611127835,1.1123124329679437,1.9139421632518614,0.9248508449025562,1.1123028782911883,1.3508244706608643,1.8609937373261285,2.1617328331937284,1.4382025033531187,0.6863112148352392,1.9139222443247708,0.936144728420355,1.9161137778006625,1.0249960793719446,0.9366973060513505,1.3376801250138395,0.9367041632544444,1.6393035905123412,1.1122897949124027,0.6862307730776335,1.3506062782465327,0.6365838012713989,0.9366871326221993,0.5693985746883604,1.2049436702050027,1.3508064160958757,0.9365819198181772,0.9364117480225589,1.6373841283963435,1.350749166073709,1.2165943298074562,1.1113191682368537,1.1122876223925706,1.1122736097572516,1.4878705931882021,0.9246085280058309,1.350798471734945,1.1122687039829706,0.9366973035360509,1.3508225929039055,1.1123006179964785,1.112312521266995,0.6863814877883201,0.3576046278986348,2.05286593081155,1.2049228602613367,1.1123184290453452,1.3500148844975963,1.2049562965847913,1.4879832024827093,2.0397098024640967,1.2047823779679756,2.056559562979201,2.094881506169807,1.3508104423836909,1.9307050512835668,1.350822702109404,1.2049321056120001,1.11229328934374,1.11228856985662,1.2049436702050027,1.350790970342647,0.9367000872810918,1.1122970512760777,0.7560018252564635,1.11229819994093,1.1119416701303635,1.3508214771947142,1.1122312795247307,0.6740585442788585,1.1123053649985124,1.1123108802089186,1.1995791070363186,0.6909502495639197,1.1120303704125216,0.9366976646741506,1.3508198905235282,1.1123029188832971,1.1122996582999216,0.6863188203768246,0.23465683101069626,1.4879785671133992,1.1119266719671748,0.6863367963264234,1.3507693955084887,2.110814311783561,1.3507819019242744,1.2049090228359745,1.350770959023349,1.2047974512408084,1.350560674838327,1.1123010178645851,1.1122959985087686,1.111739710255269,0.4678250027486642,1.3508044978446552,0.6852598867680458,1.2049363342849304,1.1122560367936505,1.872203035700103,0.5106341988019375,1.2165677428842543,2.0447321488109393,1.637415102173917,1.637363115955949,2.152897187381551,1.9139333632264626,1.0853769764774677,1.9139398408617114,1.2809052395764096,2.1529047682516365,1.3508210953521709,0.6863432889480722,4.476031046093671,1.2049168596076147,1.1122881871021042,1.1123105393575734,0.8680871924501268,1.222464942650967,1.3508100873597841,0.604569630858175,1.11230336379224,0.2779142769471905,1.1070632148041435,0.936669179950216,1.6368378535916406,1.4403846110941374,1.1123005371358659,1.6254393591007783,1.217893612484514,1.1123067521960903,0.5072774427084156,1.625527193375264,1.3507488867610025,2.0947004521258217,1.625556006967936,1.9138606584182758,1.1122126834743449,1.211444261709707,1.19957744858812,1.0846037966127131,1.1122278520429698,1.3508040105043935,1.1122845739456433,1.1122814207534943,1.1995221293043419,1.1119074247966365,1.1123103367111735,0.924850593617034,0.6767126026431115,1.2165958024913,0.33114154327052303,1.1122232579569682,0.9232714956295383,0.9366955430306729,1.487569211528817,1.8978023803926414,2.152914127165941,1.3508105327121198,2.152914221923369,1.0561501308109504,1.3508102794761938,2.061876336122537,0.6862835513160676,1.2646424360332624,1.4403993430640778,1.637393999318589,1.112310598956559,1.1123095168202348,0.6861134920729763,1.2734756691931353,1.2049050883966455,1.1122968303501433,2.239978435101894,1.6254597533680337,1.2049076482841432,0.526041428647623,1.1096422829033612,2.1492788809105394,0.6863421177066005,0.6863332949088687,1.1122506929947626,0.9248592523226324,2.060650465714452,1.1122596423897149,1.108380196779722,0.9248276523901745,0.6863259988764522,2.0606035997944465,1.1122681051697227,1.4901180446851332,0.19894699832021137,1.1992140837610918,1.1121809222963854,0.510700230171111,1.6590939717490474,0.6863423733064725,0.9519884095063781,1.1995750291803606,1.625546280788346,0.6766854549531738,0.7038583590418187,1.1995408293135204,1.1117406275372197,0.9248339072633727,1.350801316331293,0.6862210604397414,1.2048328908711876,1.0084063773756815,0.9248053810416199,1.0859058713271648,1.1022046782520019,0.6047529061491862,0.6819592432799184,1.6359208578092994,0.8680577427624847,1.1995666466458839,2.6332883052095424,0.9280809989978012,1.6255238107579506,1.1123028992435036,1.6255406403422676,1.1995784347708327,1.0752521518319693,0.9248506473894784,1.1122679082358216,2.061661551781029,2.0579595972735856,1.3505866044476285,1.3508114586823645,2.094547347678766,1.0951386779397507,1.3508695622719555,1.1121983117084457,1.1122849434595756,0.510735618830842,1.1123139599670155,1.350619538909875,1.1064839219927993,0.939956152180581,1.3503440961478232,1.1123147935898707,1.112158771246593,1.3507427650991264,1.1122399347477894,1.2049469418426515,0.7868032421689632,0.9366630672066247,2.0948637230635083,0.6824898861433945,1.1121875348598826,0.6047302448611832,1.9139465187968234,2.1133675732596706,2.0951237323123952,2.09514278159904,0.5103613341776368,0.29017069156249736,0.587613567642177,1.2049481729882296,0.6858391383221757,1.1425422155621672,0.945807760977137,1.1121718159127727,0.6863492149411451,1.1122589242773817],\"z\":[-0.2478118114823472,-0.24799210984926037,-0.26629056448525756,-0.1857341509337362,-0.18967084666312162,-0.14298381471469868,-0.05200349177062042,-0.30571440062485494,-0.24781509760459672,-0.24791251219111185,-0.2478313142227335,-0.24781183051088623,-0.24781200072843343,0.18647913131870014,-0.23411288595798546,-0.11729021719274736,-0.2480880485401286,-0.24782890751686915,-0.09501640130671875,-0.18573551695391377,-0.3770963441152642,-0.1602046442404637,-0.14329828310111214,-0.1568329870922247,-0.25393991569899255,-0.2539318442978549,-0.1313547558786749,-0.24785742310483405,-0.24782594090355523,-0.25245768428043985,-0.09475842882904856,-0.1857321791973247,0.010576784918328638,-0.11133922412991536,-0.18573265166945477,-0.24802529391045164,-0.24782223031440484,-0.20121912856743934,-0.18573341571159793,0.010576114299215025,-0.25393468697517957,-0.24785984130688796,0.8488295758249795,-0.03495086799450466,-0.14299094091184458,-0.23412068467626945,-0.15683433341205485,-0.25393005778318306,-0.15686999115376002,-0.2478120440951825,-0.2539308128058454,-0.09475131058835023,-0.24781414210060132,-0.18573241887502034,-0.48100264331739456,-0.30735509556450474,0.05159886291221766,-0.15684833073261265,-0.2539343229251155,-0.14301447043666987,-0.3057045414848529,-0.13117661048887208,-0.1429841920238796,-0.18812736323783838,-0.14298414066306803,-0.24667024747746052,-0.24781426979620572,-0.15684187271873332,-0.1857432657369169,-0.16512223997644823,-0.14298474650900642,0.19340820985397342,-0.11729297817730054,-0.18575534623331247,-0.14298873306759935,-0.14299861319565885,-0.24508989816387206,-0.1857394600563749,-0.12381246760717324,-0.24798982199908964,-0.2478136183615655,-0.24783011693921098,-0.16295336385753184,-0.09487065968173052,-0.18573587434954764,-0.2478208641543024,-0.14298368024418198,-0.18573235693702086,-0.2478127367694353,-0.24781211890441113,-0.15685690291956308,-0.08479020788318592,-0.3050846782007074,-0.11730286848579262,-0.24781712412624074,-0.18581098965238707,-0.1173138684925749,-0.16294811380008065,-0.21622331874045736,-0.11729953852040528,-0.3018464679203995,0.2607520599169454,-0.18573582321776408,-0.2685608677522056,-0.18573288435558685,-0.11729846981666628,-0.24781546698394852,-0.2478132318974254,-0.11729297817730054,-0.1857346154636841,-0.14298552905593798,-0.24781583073618632,0.024966307493446974,-0.24781425567125115,-0.24782953219818601,-0.18573243097682776,-0.24781667821854336,-0.16298777227708583,-0.24781268136233606,-0.2478124184452386,-0.10888521104195222,-0.08496761053686856,-0.24782789777592945,-0.14298398620967273,-0.18573330571848504,-0.24781417649128093,-0.24781239936174104,-0.1568318401529547,-0.12693734496829662,-0.1629503149823071,-0.24799486612018268,-0.15683658454381885,-0.18573672265587912,-0.3232864377118162,-0.18575241489984035,-0.11730964022853145,-0.18573804730589924,-0.11736276420340472,-0.18576374860188508,-0.24781318365516958,-0.247812696350482,-0.24783646734718287,-0.0538604653695153,-0.18573588333804325,-0.1569259510170781,-0.11729185948376544,-0.24781777691563567,-0.3143572085491961,-0.05200784011791771,-0.12382383411834197,-0.35356749429622636,-0.24507536805154867,-0.24508738534382665,-0.25699847788920105,-0.2539335501713112,-0.25047406582517834,-0.25393338016664735,-0.21823589478203875,-0.25700490059739944,-0.1857344045946737,-0.1568334107685306,0.014496187016449755,-0.11729146491620218,-0.24781609394144108,-0.24781258030416978,-0.189154086180997,-0.14033409526731078,-0.18573399348636271,-0.1313929276518564,-0.24781237892841976,-0.04059635992282355,-0.25610598816997304,-0.1430001154636131,-0.2451927901178177,-0.20201017188316064,-0.24781266826224313,-0.19987474419551038,-0.124336845546606,-0.24781476802429975,-0.05364877537400584,-0.1998767280270531,-0.18574177165881697,0.2607143353101294,-0.2503124010860491,-0.2539636895478052,-0.24783455997843734,-0.15409545556181065,-0.10888635420531931,-0.24981900794922565,-0.2478168322598284,-0.18574056693754112,-0.24781392364819343,-0.24782144515608726,-0.10889045115177212,-0.24792759455497818,-0.24781230668719118,-0.09475160734146047,-0.16140639140615867,-0.12380938328911732,-0.17162322411925424,-0.247854731222963,-0.09543145398266005,-0.14298422729340976,-0.16300381476338346,-16.219934292616326,-0.256998559547628,-0.18573335150297912,-0.2569971108825473,-0.20754249150175352,-0.1857331369549868,-0.06784177407035705,-0.15683712505546524,-0.1398586003175606,-0.20200838302437735,-0.24507787511635415,-0.24781201921955873,-0.24781212170316297,-0.15688467438917492,-0.1774863328827572,-0.11729494678613417,-0.2478141146160379,0.3658960606567746,-0.1998920227434896,-0.11729303839932263,-0.028740697988624456,-0.248160219886502,0.16948861673680807,-0.15683679843874695,-0.1568313621321745,-0.24781579775507168,-0.09475239328576314,-0.30149078542197333,-0.24781828342604223,-0.24967896885900287,-0.0947530665392717,-0.1568323158271691,-0.30149822191069664,-0.2478172989322859,-0.21472697594251608,-0.24641798551162805,-0.10889958083679216,-0.24782803703806108,-0.05201290944585426,0.06855996026767264,-0.15683171464335915,-0.11972856056065018,-0.10888481406948292,-0.1998660264665428,-0.15724504397790726,-0.13157715601797543,-0.10889610130729871,-0.2478372444920536,-0.09475479828809255,-0.18573828436476741,-0.15685349339632856,-0.11729595632270254,-0.16382340342293308,-0.09475356432920663,-0.1654661926493252,-0.24842217029346894,-0.1313550463479916,-0.38358066080363423,0.023139248694025956,-0.18918448912716734,-0.10888637619798792,0.33412933211313184,-0.09747778727885886,-0.19987188510653942,-0.247814669500613,-0.19986832420677622,-0.10888381075400058,-0.25453534090128527,-0.09475099035558734,-0.24781713208481798,-0.06788404866480749,-0.30175543342960015,-0.18574494494041152,-0.18573668425215042,0.2605892250017785,-0.2510997004185331,-0.18577062164817953,-0.2478172873618624,-0.24781640583529677,-0.052002495751534386,-0.24781333780808693,-0.18581361975791946,-0.24822529066810098,-0.14583079129395832,-0.18583508189794243,-0.24782168880488178,-0.24788571739933157,-0.18576920274429085,-0.24783216552495654,-0.11729014385752047,0.09099426492433278,-0.14299748483331085,0.26074933010602924,-0.1586608276494986,-0.2478591218055416,-0.13135580911473851,-0.25392946760674096,-0.2816008490331442,0.260610545780122,0.2605944067343234,-0.0521843382113992,-0.09050107795222505,1.260489806109252,-0.11729100045566995,-0.15685609430047226,-0.1124317129909933,0.13984159863624515,-0.24782032187555,-0.15683007018170117,-0.2478176750227962],\"type\":\"scatter3d\"},{\"customdata\":[[\"SHA-256\"],[\"Ethash\"],[\"Scrypt\"],[\"CryptoNight-V7\"],[\"Ethash\"],[\"Equihash\"],[\"Multiple\"],[\"Scrypt\"],[\"X11\"],[\"Scrypt\"],[\"Multiple\"],[\"Scrypt\"],[\"SHA-256\"],[\"Scrypt\"],[\"Scrypt\"],[\"Quark\"],[\"Groestl\"],[\"Scrypt\"],[\"Scrypt\"],[\"Scrypt\"],[\"X11\"],[\"Multiple\"],[\"SHA-256\"],[\"Scrypt\"],[\"Scrypt\"],[\"Scrypt\"],[\"Scrypt\"],[\"Scrypt\"],[\"NeoScrypt\"],[\"Scrypt\"],[\"Scrypt\"],[\"Scrypt\"],[\"Scrypt\"],[\"SHA-256\"],[\"Scrypt\"],[\"Scrypt\"],[\"Scrypt\"],[\"Scrypt\"],[\"HybridScryptHash256\"],[\"Scrypt\"],[\"Scrypt\"],[\"SHA-256\"],[\"Scrypt\"],[\"Scrypt\"],[\"Scrypt\"],[\"Scrypt\"],[\"SHA-256\"],[\"SHA-256\"],[\"SHA-256\"],[\"SHA-256\"],[\"SHA-256\"],[\"X11\"],[\"Scrypt\"],[\"Lyra2REv2\"],[\"Scrypt\"],[\"SHA-256\"],[\"CryptoNight\"],[\"CryptoNight\"],[\"Scrypt\"],[\"Scrypt\"],[\"Scrypt\"],[\"Scrypt\"],[\"Scrypt\"],[\"Scrypt\"],[\"Stanford Folding\"],[\"Multiple\"],[\"QuBit\"],[\"Scrypt\"],[\"Scrypt\"],[\"M7 POW\"],[\"Scrypt\"],[\"SHA-256\"],[\"Scrypt\"],[\"X11\"],[\"Lyra2RE\"],[\"SHA-256\"],[\"X11\"],[\"Scrypt\"],[\"Scrypt\"],[\"Ethash\"],[\"Blake2b\"],[\"X11\"],[\"SHA-256\"],[\"Scrypt\"],[\"1GB AES Pattern Search\"],[\"Scrypt\"],[\"SHA-256\"],[\"X11\"],[\"Dagger\"],[\"Scrypt\"],[\"X11GOST\"],[\"Scrypt\"],[\"ScryptOG\"],[\"X11\"],[\"Scrypt\"],[\"X11\"],[\"Equihash\"],[\"CryptoNight\"],[\"SHA-256\"],[\"Multiple\"],[\"Scrypt\"],[\"SHA-256\"],[\"Scrypt\"],[\"Lyra2Z\"],[\"Ethash\"],[\"Equihash\"],[\"Scrypt\"],[\"X11\"],[\"X11\"],[\"CryptoNight\"],[\"Scrypt\"],[\"CryptoNight\"],[\"Lyra2RE\"],[\"X11\"],[\"CryptoNight-V7\"],[\"Scrypt\"],[\"X11\"],[\"Equihash\"],[\"Scrypt\"],[\"Lyra2RE\"],[\"Dagger-Hashimoto\"],[\"Scrypt\"],[\"NIST5\"],[\"Scrypt\"],[\"SHA-256\"],[\"Scrypt\"],[\"CryptoNight-V7\"],[\"Argon2d\"],[\"Blake2b\"],[\"Cloverhash\"],[\"CryptoNight\"],[\"X11\"],[\"Scrypt\"],[\"Scrypt\"],[\"X11\"],[\"X11\"],[\"CryptoNight\"],[\"Time Travel\"],[\"Scrypt\"],[\"Keccak\"],[\"X11\"],[\"SHA-256\"],[\"Scrypt\"],[\"Scrypt\"],[\"Scrypt\"],[\"Scrypt\"],[\"Scrypt\"],[\"Scrypt\"],[\"CryptoNight\"],[\"Equihash\"],[\"X11\"],[\"NeoScrypt\"],[\"Equihash\"],[\"Dagger\"],[\"Scrypt\"],[\"X11\"],[\"NeoScrypt\"],[\"Ethash\"],[\"NeoScrypt\"],[\"Multiple\"],[\"CryptoNight\"],[\"CryptoNight\"],[\"Ethash\"],[\"Scrypt\"],[\"X11\"],[\"CryptoNight-V7\"],[\"Scrypt\"],[\"BLAKE256\"],[\"X11\"],[\"NeoScrypt\"],[\"NeoScrypt\"],[\"NeoScrypt\"],[\"Scrypt\"],[\"X11\"],[\"SHA-256\"],[\"C11\"],[\"Ethash\"],[\"Scrypt\"],[\"CryptoNight\"],[\"SkunkHash\"],[\"CryptoNight\"],[\"Scrypt\"],[\"Dagger\"],[\"Lyra2REv2\"],[\"Scrypt\"],[\"Scrypt\"],[\"X11\"],[\"Proof-of-Authority\"],[\"Ethash\"],[\"CryptoNight\"],[\"Scrypt\"],[\"SHA-256\"],[\"IMesh\"],[\"Quark\"],[\"Equihash\"],[\"Lyra2Z\"],[\"NeoScrypt\"],[\"X11\"],[\"CryptoNight\"],[\"NIST5\"],[\"Lyra2RE\"],[\"Tribus\"],[\"Lyra2Z\"],[\"CryptoNight\"],[\"CryptoNight Heavy\"],[\"CryptoNight\"],[\"Jump Consistent Hash\"],[\"CryptoNight\"],[\"SHA-512\"],[\"X16R\"],[\"HMQ1725\"],[\"X11\"],[\"Scrypt\"],[\"Scrypt\"],[\"CryptoNight-V7\"],[\"Cryptonight-GPU\"],[\"XEVAN\"],[\"CryptoNight Heavy\"],[\"CryptoNight\"],[\"X11\"],[\"SHA-256\"],[\"X11\"],[\"X16R\"],[\"Equihash\"],[\"HMQ1725\"],[\"Lyra2Z\"],[\"SHA-256\"],[\"PHI1612\"],[\"CryptoNight\"],[\"Blake\"],[\"Blake\"],[\"Blake\"],[\"Blake\"],[\"Equihash\"],[\"Exosis\"],[\"Scrypt\"],[\"Equihash\"],[\"Equihash\"],[\"Lyra2REv2\"],[\"QuBit\"],[\"SHA-256\"],[\"X13\"],[\"SHA-256\"],[\"Ethash\"],[\"Scrypt\"],[\"NeoScrypt\"],[\"Blake\"],[\"Scrypt\"],[\"SHA-256\"],[\"Scrypt\"],[\"Groestl\"],[\"Scrypt\"],[\"Scrypt\"],[\"Multiple\"],[\"Equihash+Scrypt\"],[\"Lyra2Z\"],[\"Ethash\"],[\"Equihash\"],[\"CryptoNight\"],[\"Equihash\"]],\"hovertemplate\":\"<b>%{hovertext}</b><br><br>Class=%{marker.color}<br>PC1=%{x}<br>PC2=%{y}<br>PC3=%{z}<br>Algorithm=%{customdata[0]}<extra></extra>\",\"hovertext\":[\"Bitcoin\",\"Ethereum\",\"Litecoin\",\"Monero\",\"Ethereum Classic\",\"ZCash\",\"DigiByte\",\"ProsperCoin\",\"Spreadcoin\",\"Argentum\",\"MyriadCoin\",\"MoonCoin\",\"ZetaCoin\",\"SexCoin\",\"Quatloo\",\"QuarkCoin\",\"Riecoin\",\"Digitalcoin \",\"Catcoin\",\"CannaCoin\",\"CryptCoin\",\"Verge\",\"DevCoin\",\"EarthCoin\",\"E-Gulden\",\"Einsteinium\",\"Emerald\",\"Franko\",\"FeatherCoin\",\"GrandCoin\",\"GlobalCoin\",\"GoldCoin\",\"Infinite Coin\",\"IXcoin\",\"KrugerCoin\",\"LuckyCoin\",\"Litebar \",\"MegaCoin\",\"MediterraneanCoin\",\"MinCoin\",\"NobleCoin\",\"Namecoin\",\"NyanCoin\",\"RonPaulCoin\",\"StableCoin\",\"SmartCoin\",\"SysCoin\",\"TigerCoin\",\"TerraCoin\",\"UnbreakableCoin\",\"Unobtanium\",\"UroCoin\",\"ViaCoin\",\"Vertcoin\",\"WorldCoin\",\"JouleCoin\",\"ByteCoin\",\"DigitalNote \",\"MonaCoin\",\"Gulden\",\"PesetaCoin\",\"Wild Beast Coin\",\"Flo\",\"ArtByte\",\"Folding Coin\",\"Unitus\",\"CypherPunkCoin\",\"OmniCron\",\"GreenCoin\",\"Cryptonite\",\"MasterCoin\",\"SoonCoin\",\"1Credit\",\"MarsCoin \",\"Crypto\",\"Anarchists Prime\",\"BowsCoin\",\"Song Coin\",\"BitZeny\",\"Expanse\",\"Siacoin\",\"MindCoin\",\"I0coin\",\"Revolution VR\",\"HOdlcoin\",\"Gamecredits\",\"CarpeDiemCoin\",\"Adzcoin\",\"SoilCoin\",\"YoCoin\",\"SibCoin\",\"Francs\",\"Aiden\",\"BolivarCoin\",\"Omni\",\"PizzaCoin\",\"Komodo\",\"Karbo\",\"ZayedCoin\",\"Circuits of Value\",\"DopeCoin\",\"DollarCoin\",\"Shilling\",\"ZCoin\",\"Elementrem\",\"ZClassic\",\"KiloCoin\",\"ArtexCoin\",\"Kurrent\",\"Cannabis Industry Coin\",\"OsmiumCoin\",\"Bikercoins\",\"HexxCoin\",\"PacCoin\",\"Citadel\",\"BeaverCoin\",\"VaultCoin\",\"Zero\",\"Canada eCoin\",\"Zoin\",\"DubaiCoin\",\"EB3coin\",\"Coinonat\",\"BenjiRolls\",\"ILCoin\",\"EquiTrader\",\"Quantum Resistant Ledger\",\"Dynamic\",\"Nano\",\"ChanCoin\",\"Dinastycoin\",\"DigitalPrice\",\"Unify\",\"SocialCoin\",\"ArcticCoin\",\"DAS\",\"LeviarCoin\",\"Bitcore\",\"gCn Coin\",\"SmartCash\",\"Onix\",\"Bitcoin Cash\",\"Sojourn Coin\",\"NewYorkCoin\",\"FrazCoin\",\"Kronecoin\",\"AdCoin\",\"Linx\",\"Sumokoin\",\"BitcoinZ\",\"Elements\",\"VIVO Coin\",\"Bitcoin Gold\",\"Pirl\",\"eBoost\",\"Pura\",\"Innova\",\"Ellaism\",\"GoByte\",\"SHIELD\",\"UltraNote\",\"BitCoal\",\"DaxxCoin\",\"BoxyCoin\",\"AC3\",\"Lethean\",\"PopularCoin\",\"Photon\",\"Sucre\",\"SparksPay\",\"GoaCoin\",\"GunCoin\",\"IrishCoin\",\"Pioneer Coin\",\"UnitedBitcoin\",\"Interzone\",\"1717 Masonic Commemorative Token\",\"Crypto Wisdom Coin\",\"TurtleCoin\",\"MUNcoin\",\"Niobio Cash\",\"ShareChain\",\"Travelflex\",\"KREDS\",\"BitFlip\",\"LottoCoin\",\"Crypto Improvement Fund\",\"Poa Network\",\"Callisto Network\",\"BitTube\",\"Poseidon\",\"Manna\",\"Aidos Kuneen\",\"Cosmo\",\"Bitrolium\",\"Alpenschillling\",\"Rapture\",\"FuturoCoin\",\"Monero Classic\",\"Jumpcoin\",\"Infinex\",\"KEYCO\",\"GINcoin\",\"PlatinCoin\",\"Loki\",\"Newton Coin\",\"MassGrid\",\"PluraCoin\",\"Arionum\",\"Motion\",\"PlusOneCoin\",\"Axe\",\"HexCoin\",\"Deimos\",\"Webchain\",\"Ryo\",\"Urals Coin\",\"Qwertycoin\",\"Bitcoin Nova\",\"DACash\",\"Project Pai\",\"Azart\",\"Xchange\",\"CrypticCoin\",\"Brazio\",\"Actinium\",\"Bitcoin SV\",\"Argoneum\",\"FREDEnergy\",\"BlakeBitcoin\",\"Universal Molecule\",\"Lithium\",\"Electron\",\"PirateCash\",\"Exosis\",\"Block-Logic\",\"Beam\",\"Bithereum\",\"Scribe Network\",\"SLICE\",\"BLAST\",\"Bitcoin Rhodium\",\"GlobalToken\",\"Media Protocol Token\",\"SolarCoin\",\"UFO Coin\",\"BlakeCoin\",\"Crypto Escudo\",\"Crown Coin\",\"SmileyCoin\",\"Groestlcoin\",\"Bata\",\"Pakcoin\",\"JoinCoin\",\"Vollar\",\"TecraCoin\",\"Reality Clash\",\"ChainZilla\",\"Beldex\",\"Horizen\"],\"legendgroup\":\"0\",\"marker\":{\"color\":[0,0,0,0,0,0,0,0,0,0,0,0,0,0,0,0,0,0,0,0,0,0,0,0,0,0,0,0,0,0,0,0,0,0,0,0,0,0,0,0,0,0,0,0,0,0,0,0,0,0,0,0,0,0,0,0,0,0,0,0,0,0,0,0,0,0,0,0,0,0,0,0,0,0,0,0,0,0,0,0,0,0,0,0,0,0,0,0,0,0,0,0,0,0,0,0,0,0,0,0,0,0,0,0,0,0,0,0,0,0,0,0,0,0,0,0,0,0,0,0,0,0,0,0,0,0,0,0,0,0,0,0,0,0,0,0,0,0,0,0,0,0,0,0,0,0,0,0,0,0,0,0,0,0,0,0,0,0,0,0,0,0,0,0,0,0,0,0,0,0,0,0,0,0,0,0,0,0,0,0,0,0,0,0,0,0,0,0,0,0,0,0,0,0,0,0,0,0,0,0,0,0,0,0,0,0,0,0,0,0,0,0,0,0,0,0,0,0,0,0,0,0,0,0,0,0,0,0,0,0,0,0,0,0,0,0,0,0,0,0,0,0,0,0,0,0,0,0,0,0,0,0,0,0,0,0,0,0,0,0],\"coloraxis\":\"coloraxis\",\"symbol\":\"diamond\"},\"mode\":\"markers\",\"name\":\"0\",\"scene\":\"scene\",\"showlegend\":true,\"x\":[-0.1484194877244475,-0.1357931481331493,-0.15160847787018783,-0.15496148495366738,-0.13417231842843724,-0.15439204958386957,0.17624197648304546,-0.15280351421239682,-0.23626612029455185,-0.15240434145627765,-0.08780982613965828,2.6783966994817927,-0.145380007690631,-0.14954388209635325,-0.1522007324831609,-0.21584055049110967,-0.2138248387649636,-0.1522502079377886,-0.15278499809625343,-0.15287504709431163,-0.2363593471560482,0.20116268553370695,0.24550600548517185,0.10644875435641815,-0.152610372061033,-0.14802964510031866,-0.15254729542979084,-0.1529345109657426,-0.17407490041094115,-0.13127980628239688,-0.15167811637893072,-0.1519678631850518,1.6705797536246696,-0.1483791534039826,-0.14914309806997325,-0.15263795192591437,-0.15300789377468038,-0.15223560839149927,-0.14362230670252124,-0.15288416499682453,-0.01224948557526263,-0.14846018685783402,-0.1462777607548707,-0.15286300664540223,-0.15087968548589203,-0.15232795586506268,-0.13506981984831617,-0.14790103099074722,-0.14820076285930092,-0.1481840577415923,-0.14879859102172233,-0.23654040864129822,-0.15256704800397386,-0.18213900585358986,-0.14954923427656758,-0.1479712375755427,4.000976494096814,0.4548155168911265,-0.15138699047593068,-0.13535059158628385,-0.15005101293865514,-0.1530102361877269,-0.14990992184756713,-0.1355494112396616,-0.11050410762002463,-0.12326041913375996,-0.1861418143476364,-0.15287773680516553,-0.02049076528211376,-0.12582061132623149,-0.1530194648775191,-0.14848918949058412,0.5253323008606884,-0.2359014880363036,-0.15345457633486972,-0.1482184928459141,-0.23619861721294927,-0.15106634847794026,-0.15022407432230697,-0.13690815791494085,0.40338595272458594,-0.23623543556989152,-0.14838032525603592,-0.14880489413204698,-0.16496599564845635,-0.15152178226255456,0.2879574202195686,-0.23536103970077948,-0.15889437247280605,-0.15178247562218156,-0.1709001725448174,-0.15280065166608117,-0.14217384117626058,-0.23619730914256612,-0.1530195258676687,-0.23635389470473195,-0.2746300057544718,0.2931586556106375,-0.14865156682517564,-0.10248749093576896,-0.15006684167483708,-0.1486083970458888,-0.1526689006631953,-0.08193714969109012,-0.13663920226979995,-0.15441462007878,-0.07679298383368162,-0.22235872600359596,-0.23409192388985534,0.2931524636411251,-0.15300051685703348,0.2932888332035745,-0.15401729928819505,0.5076447389090855,-0.15367687370395333,-0.15296742330720084,-0.2287947209539279,-0.15442742893453476,-0.151021055344789,-0.15372356558872075,-0.1499681100227308,-0.1227203247683457,-0.17941912871214924,-0.1525113973877272,-0.11356101788583335,-0.15232663361445517,-0.15352609940509251,-0.13472094827582617,-0.014582408484566874,-0.141036578471972,0.3308123736296694,-0.23537025055886496,-0.15265850304678616,-0.15241300453510853,-0.2357812205857372,-0.23638299323726314,0.2935639503952893,-0.17068761550293232,3.401479040028461,-0.11352295546838186,-0.22688273750363783,-0.1484186150785096,-0.07560386850531191,1.671053915499369,-0.15276068647816654,-0.1521899322493239,-0.15187816577429045,-0.1518645202722301,0.29375468348888883,0.06667735289933004,-0.18880788621554956,-0.17896180416581842,-0.1542668018940723,-0.15760226687147638,-0.15101918551213409,-0.2317401568432754,-0.17880090088331452,-0.1349393933033985,-0.17890515673325813,-0.11307984373345696,1.1656781248604535,0.29313471093019766,-0.056787461724463945,-0.15222109345919815,-0.23147592323356378,-0.14218294370399598,-0.06559999520447819,1.13415619853011,-0.23635587017388296,-0.17895908742551342,-0.1789272813818307,-0.1717032730247982,-0.15197988175760618,-0.2362780770630302,-0.14839708046052796,-0.18934696311777038,-0.2508210030294625,-0.15263008783461593,8.344309099946129,-0.15751786685212807,0.2971709855905267,0.048255688218453996,-0.15708199705847334,-0.16708847333105467,-0.15257824060105876,0.16752866798382482,-0.2301738979092784,-0.31678543735118025,-0.08608050013274561,0.3013797015465559,-0.1528251738753095,-0.044630120079042414,-0.1350988839820042,-0.22077094868353173,-0.1532147632615657,-0.07963068961226528,-0.17900205369034838,-0.2354128213825256,0.293325115132963,-0.17948045082898195,-0.15385616691408757,-0.2120396134658194,-0.08202494301727112,0.2974103297290441,0.6048415314391835,2.1764332969773106,-0.13694265339616454,0.30750269191176055,-0.19333738155045258,-0.20133301575301332,-0.15561944769736816,-0.23633727707335542,-0.15285087088766275,-0.14222542371460858,-0.14207851438588484,-0.15604070357855926,-0.17708752352125315,3.2335077965110313,0.30653798998842596,-0.23584644958224132,-0.10653259637141946,-0.23630749155901312,-0.20073767586060634,-0.044582467614664376,-0.1533942096204184,-0.08139818723375102,-0.14841865430090373,-0.21024160219235036,0.3763778728855363,-0.14606361359321926,-0.14568592292379884,-0.14609300414039994,-0.09455844586435964,-0.26738184326632514,-0.14321226953251223,-0.15169704736019995,-0.15224810385051274,-0.15409252318641278,-0.18309295151560304,-0.1853207822532783,-0.14766407133884518,-0.09957710003846529,-0.14648498579430638,0.06412093508759117,0.5710183457224631,-0.10093516451358196,-0.09456865174612097,-0.1357066394687453,-0.14820010554190388,0.5929948540775062,-0.21336706268287806,-0.15293062002777902,-0.15080111234460367,-0.1240277974966057,-0.11959231657694488,-0.08012167676936033,-0.13667377532996108,-0.24998942284591458,0.3158126861401873,-0.15439315315217086],\"y\":[-1.2932413009894548,-2.0956230227201122,-1.117665989798569,-2.241074081603692,-2.0957421948431114,-1.9868803907091128,-1.8961272213385032,-1.1176406325013182,-0.8791270242220849,-1.117664047627873,-1.8870667258029499,-1.3374856905128567,-1.293298008413439,-1.117748704456523,-1.1176855659720222,-0.6044865901060262,-1.2148832148375794,-1.1176510094748189,-1.1176403609632068,-1.1176363314310676,-0.8791270300424505,-1.8927361644809264,-1.3017442577066707,-1.1230135122143579,-1.1176378000793055,-1.117760390659209,-1.1176443624762962,-1.1176359073359317,-1.6253307038166305,-1.1182776659601317,-1.1176574816094433,-1.1176632593243563,-1.1525555534066552,-1.2932407094882241,-1.1177533235112522,-1.1176375238629974,-1.117630254476679,-1.1176465983375619,-2.2203733089666087,-1.117634327828589,-1.125775228113399,-1.2932418978406208,-1.1177600255486073,-1.1176415049554962,-1.117768293960414,-1.1176542148098194,-1.2936356729402285,-1.293251403510576,-1.2932523875505917,-1.2932780081802622,-1.293232736540136,-0.879117433171128,-1.117638526081593,-1.5260944441631445,-1.1177592794826636,-1.2932510635931886,-2.418869533505948,-2.3521184044659575,-1.117677117528213,-1.118513924140607,-1.1176992276398043,-1.117631158729364,-1.1176928117607783,-1.118053981546608,-2.22312668888314,-1.8862252594758733,-1.5389509241172807,-1.117629721601279,-1.1224927164753615,-2.212974950438398,-1.11762992691916,-1.2932423231630836,-1.1703035055289457,-0.8791305256656003,-2.207325193470729,-1.2932606522856298,-0.8791267149659979,-1.1177439677701233,-1.1177586794486223,-2.095650882038273,-2.2145160712282466,-0.8791238515360674,-1.2932407266733883,-1.117710640269813,-2.176865104407351,-1.1176647184109096,-1.3015480018606258,-0.8791573143828557,-2.2079731799571434,-1.1177259572000828,-2.2928048629276514,-1.1176399098482537,-2.2352905704881314,-0.8791294184789405,-1.1176299257511362,-0.8791317148000184,-1.2824392471051702,-2.347689163325982,-1.2932370373090623,-1.886737434028183,-1.1177223399412735,-1.2932370183966868,-1.117644784464364,-1.8846016731714736,-2.095653267497956,-1.98688072170452,-1.1233183862842522,-0.8792497963238924,-0.8792367198964266,-2.347696741544264,-1.117631074928395,-2.3476974643857664,-2.207295471593636,-0.9362713809887234,-2.2411811675086297,-1.1176310291334846,-0.8796845169032708,-1.9868781868501397,-1.1176682660534323,-2.2072986514145225,-2.2594288317335747,-1.1199078653082122,-0.5925475318908048,-1.1176462322774523,-1.294417493594435,-1.1176683534369318,-2.2411245024946336,-2.2958439116102136,-2.2208771820571083,-2.2034366788724418,-2.34849151417232,-0.8791683402426983,-1.117637332980982,-1.1176716620848757,-0.8791471401444605,-0.8791279894178389,-2.3477131693471662,-2.206438103202078,-1.20163771238893,-1.2237703087711402,-0.8797245451351526,-1.2932412881921207,-1.1236412849228867,-1.0908795412565524,-1.1176393237603532,-1.1176745168040467,-1.1176808355439911,-1.117680635433243,-2.3477341202106015,-1.9979182751621767,-0.8796426507015492,-1.6251920418208015,-1.9868785539566862,-2.208040204980463,-1.1176682386324104,-0.8792852735458461,-1.6252019343113706,-2.095801091141332,-1.6251944783233354,-1.8865252065378026,-2.3927441776135407,-2.347691216158613,-2.1012711468109573,-1.1176858645649308,-0.8794175333575704,-2.2415670058187924,-1.1197508718688092,-1.2508360024582361,-0.8791282042657292,-1.625187917936298,-1.6251949389152192,-1.6254075545202595,-1.117657822943175,-0.8791292415894291,-1.2932404047057369,-1.1737936864331395,-0.2916643377505854,-1.1176401312321531,-2.9102864894761042,-2.163517002989123,-2.347852222368549,-1.121484552452983,-2.2079942487188595,-1.526565293417583,-1.1176502616774957,-1.1254578309767524,-0.8793644055108807,-0.8577162609476793,-2.0993183692856237,-2.348242469208847,-1.1176409501394184,-1.2985420747682583,-2.234017389179991,-0.60439886231287,-1.986896478874592,-1.8847574847841326,-1.6251885480348727,-0.8791689645421441,-2.3476924398647294,-0.5925298814511247,-2.2073041899660972,-1.1440255822034016,-1.884595541311231,-2.3480284106678657,-2.301441588959165,-2.4453082126251275,-2.2088099297925012,-2.3481526757972415,-0.9361456433038813,-1.2779242016009158,-2.228856181569088,-0.8791287484073684,-1.1176420793088049,-1.1181518850055858,-2.2420763327373776,-2.195188881263712,-0.16814871173025098,-2.3883541219679874,-2.3481668231128032,-0.8791412899857568,-1.2940421524965002,-0.8791310342997212,-1.2779685120049098,-1.990428865290906,-2.228950153892736,-1.8846363794967291,-1.2932412887673157,-0.7895584661469707,-2.3519617954571386,-2.229102428268058,-2.2291541477417858,-2.2291057377132097,-2.23309753041787,-0.18294789291016772,-2.2800719024039138,-1.1176917929283263,-1.9870135367873758,-1.986882727308858,-1.5260735151656524,-1.539006951107662,-1.2932594918172529,-0.3159962687789512,-1.2933129906636878,-2.0994980299523798,-1.1737856324959357,-1.6267521017824433,-2.2330976800867224,-1.1180562872923705,-1.293252377911058,-1.1407229315570864,-1.214890795722088,-1.117631605720102,-1.1177208558607679,-1.8862384189362427,-2.225142059661321,-1.8847034244371543,-2.095652605388368,-1.186039477103817,-2.348303231159607,-1.9868804068928907],\"z\":[0.07636614070126185,0.13977509011654168,-0.028471298599735555,0.1602880187448418,0.1397690295846579,0.07738633950823576,0.13663899930206416,-0.028460674088167607,0.03361813013952802,-0.028462751083304545,0.13864603909557693,-0.03789667111345428,0.07633835121636019,-0.02848582229255135,-0.028462867540605553,0.019440401350786635,-0.014769603776071923,-0.0284657275650005,-0.028460904142242057,-0.028460312227001534,0.03361915436803357,0.13603139701939304,0.0728781449554615,-0.03077818658037531,-0.028463073788977417,-0.02850129810097526,-0.028463120092769734,-0.028459701064939925,0.08795708760630597,-0.028634272129881948,-0.028471371875091783,-0.028467621364372225,-0.04504332165986676,0.0763656395662148,-0.02848976810075524,-0.028462798157869954,-0.028459452021295423,-0.028466322300283002,0.12871498418150093,-0.028460409433749303,-0.029202862815745346,0.07636664636894255,-0.028520570206395472,-0.02845993492253935,-0.028469225560802152,-0.0284645581967794,0.076258397367903,0.07636144285220096,0.0763648308990521,0.07636717070625791,0.07636945988936275,0.03362019732778809,-0.028463477998500276,0.0877686404809338,-0.028484722048523724,0.076362180262261,0.12301779868013858,0.15538162386434773,-0.028472634680780585,-0.028566306085712215,-0.028485126560793897,-0.028459337246155247,-0.028487307642179233,-0.028609420189900994,0.17683621990602602,0.13895242451325734,0.13439067628906126,-0.028460933658761175,-0.02943564778318121,0.12786569331820005,-0.028459357226888065,0.07636700671307663,-0.030720308092047278,0.033614471219849305,0.13734891607079763,0.07636583952686585,0.03361735848114303,-0.028469571703997453,-0.02847737122258064,0.13979007692495388,0.14582637236944976,0.03361748075298174,0.07636565412592794,-0.028497685304122288,0.17236504462919824,-0.028472375752072048,0.07239268918333203,0.0336111752281927,0.1865901402078704,-0.028463482202085857,0.20467621149320497,-0.028460776689767313,0.20672487411305987,0.033617610372188564,-0.028459356672232393,0.033619555874491884,-0.09084473202354768,0.15672044702384394,0.07636826908416815,0.1387747735676859,-0.028482676554711695,0.07636779320614062,-0.028461743276278872,0.13306444576795645,0.13978735865241776,0.0773866199360754,-0.028736119075948037,0.0334775144612249,0.03360506021386337,0.15672126134998737,-0.028459452220037762,0.1567198351652241,0.1373521677729265,0.031077625456497577,0.16028445967481564,-0.02845982010594558,0.033590996586385646,0.0773865109369039,-0.02847752447677596,0.13734925566311196,0.07782674573823183,-0.028567708177533013,-0.0257246837431223,-0.028463330116299507,0.07609922228570151,-0.028463180280444353,0.16027722351058482,0.13299162847905246,0.1510422446840661,0.13216568826875366,0.15638601845111766,0.0336123622416229,-0.028462591300106112,-0.02846190605478476,0.03361478691973181,0.03361950849174433,0.15671836100117056,0.20646449961560684,-0.059215218231400205,0.055060865919289756,0.033573944667315725,0.07636612985904648,-0.028717375376252435,-0.05112265655280209,-0.028461273238517177,-0.028464074301285405,-0.028466875280951518,-0.028467044819926242,0.15671833003636063,0.07604599976595094,0.03314780752640565,0.08799709103483071,0.07738478336433234,0.1865825534737967,-0.028477547708571232,0.03358401897713919,0.08799629853130807,0.1397832526370024,0.08799670898885018,0.13887017925927972,0.1515771738992669,0.15672091211479333,0.1394638394691246,-0.028462614565010348,0.033594143158624586,0.16019625239709936,-0.0292103657292404,0.08119766755586516,0.03361923183260129,0.0879966550657927,0.08799699728441135,0.08793861511784107,-0.028468024796346893,0.03361847980418442,0.07636580639364088,0.011809880781613597,0.011421078070115056,-0.028462627722315136,0.1237238035126812,0.1362881560008419,0.15669244937366833,-0.03028979028380166,0.1865723147979576,0.08764975303509856,-0.028462199327088784,-0.031208132583653094,0.03357461431342658,2.7854509609332827,0.13959316645090325,0.15668466982072643,-0.028460404976995934,0.07574855015409801,0.19730359850118087,0.019485898586810664,0.07737499703113648,0.1330544652556763,0.08799718890151832,0.03361289116417716,0.1567189419429442,-0.02572574870420282,0.13735125712153556,0.0538869982896298,0.1330648058686924,0.15670717312122814,0.15863798734662982,0.14565555846740816,0.15191824649491628,0.15660859453195874,-0.06080001678476859,0.09963005698752797,0.14811819479295366,0.03361908126499405,-0.02846001161145616,-0.028526473860320797,0.16024526652013923,0.05658185679729122,0.15150483658561262,0.1383340786404946,0.1566205805017243,0.03361492700145673,0.07598508311802221,0.033618979337130345,0.09962788388601658,0.07653007120310892,0.14810301591076455,0.13306194585294304,0.07636613034636638,0.017341399867360226,0.15622746613031635,0.1423725139568861,0.1423734603788908,0.14237316260167476,0.14220042922192744,-0.050987471953405535,0.3051681751550203,-0.028467784876416397,0.07737591124311193,0.07738328074891755,0.08777705387254996,0.13438717892985244,0.07635963754580843,-0.03457711177782944,0.07635195968331374,0.13796160924283088,-0.03087901741952942,0.08729397980687233,0.14220055602523038,-0.028607466702762062,0.0763648227321911,-0.03437648731956563,-0.014773883677740388,-0.028460167430747627,-0.028474760229828158,0.1389621465304075,0.176850313880996,0.13305453231907155,0.1397876730661464,-0.04645875395126468,0.15653217598765765,0.07738635321956219],\"type\":\"scatter3d\"},{\"customdata\":[[\"SHA-256 + Hive\"],[\"ECC 256K1\"],[\"SHA3-256\"]],\"hovertemplate\":\"<b>%{hovertext}</b><br><br>Class=%{marker.color}<br>PC1=%{x}<br>PC2=%{y}<br>PC3=%{z}<br>Algorithm=%{customdata[0]}<extra></extra>\",\"hovertext\":[\"LitecoinCash\",\"Acute Angle Cloud\",\"Fiii\"],\"legendgroup\":\"3\",\"marker\":{\"color\":[3,3,3],\"coloraxis\":\"coloraxis\",\"symbol\":\"square\"},\"mode\":\"markers\",\"name\":\"3\",\"scene\":\"scene\",\"showlegend\":true,\"x\":[-0.29133901562307274,-0.3637272664964433,-0.5623156487825074],\"y\":[1.4746313088124348,3.483628715064021,2.434606753331883],\"z\":[11.206070452435778,16.193910623551233,21.955287214548505],\"type\":\"scatter3d\"},{\"customdata\":[[\"TRC10\"]],\"hovertemplate\":\"<b>%{hovertext}</b><br><br>Class=%{marker.color}<br>PC1=%{x}<br>PC2=%{y}<br>PC3=%{z}<br>Algorithm=%{customdata[0]}<extra></extra>\",\"hovertext\":[\"BitTorrent\"],\"legendgroup\":\"2\",\"marker\":{\"color\":[2],\"coloraxis\":\"coloraxis\",\"symbol\":\"x\"},\"mode\":\"markers\",\"name\":\"2\",\"scene\":\"scene\",\"showlegend\":true,\"x\":[35.52669667576543],\"y\":[1.2771067300678962],\"z\":[-0.09359289626953968],\"type\":\"scatter3d\"}],                        {\"template\":{\"data\":{\"histogram2dcontour\":[{\"type\":\"histogram2dcontour\",\"colorbar\":{\"outlinewidth\":0,\"ticks\":\"\"},\"colorscale\":[[0.0,\"#0d0887\"],[0.1111111111111111,\"#46039f\"],[0.2222222222222222,\"#7201a8\"],[0.3333333333333333,\"#9c179e\"],[0.4444444444444444,\"#bd3786\"],[0.5555555555555556,\"#d8576b\"],[0.6666666666666666,\"#ed7953\"],[0.7777777777777778,\"#fb9f3a\"],[0.8888888888888888,\"#fdca26\"],[1.0,\"#f0f921\"]]}],\"choropleth\":[{\"type\":\"choropleth\",\"colorbar\":{\"outlinewidth\":0,\"ticks\":\"\"}}],\"histogram2d\":[{\"type\":\"histogram2d\",\"colorbar\":{\"outlinewidth\":0,\"ticks\":\"\"},\"colorscale\":[[0.0,\"#0d0887\"],[0.1111111111111111,\"#46039f\"],[0.2222222222222222,\"#7201a8\"],[0.3333333333333333,\"#9c179e\"],[0.4444444444444444,\"#bd3786\"],[0.5555555555555556,\"#d8576b\"],[0.6666666666666666,\"#ed7953\"],[0.7777777777777778,\"#fb9f3a\"],[0.8888888888888888,\"#fdca26\"],[1.0,\"#f0f921\"]]}],\"heatmap\":[{\"type\":\"heatmap\",\"colorbar\":{\"outlinewidth\":0,\"ticks\":\"\"},\"colorscale\":[[0.0,\"#0d0887\"],[0.1111111111111111,\"#46039f\"],[0.2222222222222222,\"#7201a8\"],[0.3333333333333333,\"#9c179e\"],[0.4444444444444444,\"#bd3786\"],[0.5555555555555556,\"#d8576b\"],[0.6666666666666666,\"#ed7953\"],[0.7777777777777778,\"#fb9f3a\"],[0.8888888888888888,\"#fdca26\"],[1.0,\"#f0f921\"]]}],\"heatmapgl\":[{\"type\":\"heatmapgl\",\"colorbar\":{\"outlinewidth\":0,\"ticks\":\"\"},\"colorscale\":[[0.0,\"#0d0887\"],[0.1111111111111111,\"#46039f\"],[0.2222222222222222,\"#7201a8\"],[0.3333333333333333,\"#9c179e\"],[0.4444444444444444,\"#bd3786\"],[0.5555555555555556,\"#d8576b\"],[0.6666666666666666,\"#ed7953\"],[0.7777777777777778,\"#fb9f3a\"],[0.8888888888888888,\"#fdca26\"],[1.0,\"#f0f921\"]]}],\"contourcarpet\":[{\"type\":\"contourcarpet\",\"colorbar\":{\"outlinewidth\":0,\"ticks\":\"\"}}],\"contour\":[{\"type\":\"contour\",\"colorbar\":{\"outlinewidth\":0,\"ticks\":\"\"},\"colorscale\":[[0.0,\"#0d0887\"],[0.1111111111111111,\"#46039f\"],[0.2222222222222222,\"#7201a8\"],[0.3333333333333333,\"#9c179e\"],[0.4444444444444444,\"#bd3786\"],[0.5555555555555556,\"#d8576b\"],[0.6666666666666666,\"#ed7953\"],[0.7777777777777778,\"#fb9f3a\"],[0.8888888888888888,\"#fdca26\"],[1.0,\"#f0f921\"]]}],\"surface\":[{\"type\":\"surface\",\"colorbar\":{\"outlinewidth\":0,\"ticks\":\"\"},\"colorscale\":[[0.0,\"#0d0887\"],[0.1111111111111111,\"#46039f\"],[0.2222222222222222,\"#7201a8\"],[0.3333333333333333,\"#9c179e\"],[0.4444444444444444,\"#bd3786\"],[0.5555555555555556,\"#d8576b\"],[0.6666666666666666,\"#ed7953\"],[0.7777777777777778,\"#fb9f3a\"],[0.8888888888888888,\"#fdca26\"],[1.0,\"#f0f921\"]]}],\"mesh3d\":[{\"type\":\"mesh3d\",\"colorbar\":{\"outlinewidth\":0,\"ticks\":\"\"}}],\"scatter\":[{\"fillpattern\":{\"fillmode\":\"overlay\",\"size\":10,\"solidity\":0.2},\"type\":\"scatter\"}],\"parcoords\":[{\"type\":\"parcoords\",\"line\":{\"colorbar\":{\"outlinewidth\":0,\"ticks\":\"\"}}}],\"scatterpolargl\":[{\"type\":\"scatterpolargl\",\"marker\":{\"colorbar\":{\"outlinewidth\":0,\"ticks\":\"\"}}}],\"bar\":[{\"error_x\":{\"color\":\"#2a3f5f\"},\"error_y\":{\"color\":\"#2a3f5f\"},\"marker\":{\"line\":{\"color\":\"#E5ECF6\",\"width\":0.5},\"pattern\":{\"fillmode\":\"overlay\",\"size\":10,\"solidity\":0.2}},\"type\":\"bar\"}],\"scattergeo\":[{\"type\":\"scattergeo\",\"marker\":{\"colorbar\":{\"outlinewidth\":0,\"ticks\":\"\"}}}],\"scatterpolar\":[{\"type\":\"scatterpolar\",\"marker\":{\"colorbar\":{\"outlinewidth\":0,\"ticks\":\"\"}}}],\"histogram\":[{\"marker\":{\"pattern\":{\"fillmode\":\"overlay\",\"size\":10,\"solidity\":0.2}},\"type\":\"histogram\"}],\"scattergl\":[{\"type\":\"scattergl\",\"marker\":{\"colorbar\":{\"outlinewidth\":0,\"ticks\":\"\"}}}],\"scatter3d\":[{\"type\":\"scatter3d\",\"line\":{\"colorbar\":{\"outlinewidth\":0,\"ticks\":\"\"}},\"marker\":{\"colorbar\":{\"outlinewidth\":0,\"ticks\":\"\"}}}],\"scattermapbox\":[{\"type\":\"scattermapbox\",\"marker\":{\"colorbar\":{\"outlinewidth\":0,\"ticks\":\"\"}}}],\"scatterternary\":[{\"type\":\"scatterternary\",\"marker\":{\"colorbar\":{\"outlinewidth\":0,\"ticks\":\"\"}}}],\"scattercarpet\":[{\"type\":\"scattercarpet\",\"marker\":{\"colorbar\":{\"outlinewidth\":0,\"ticks\":\"\"}}}],\"carpet\":[{\"aaxis\":{\"endlinecolor\":\"#2a3f5f\",\"gridcolor\":\"white\",\"linecolor\":\"white\",\"minorgridcolor\":\"white\",\"startlinecolor\":\"#2a3f5f\"},\"baxis\":{\"endlinecolor\":\"#2a3f5f\",\"gridcolor\":\"white\",\"linecolor\":\"white\",\"minorgridcolor\":\"white\",\"startlinecolor\":\"#2a3f5f\"},\"type\":\"carpet\"}],\"table\":[{\"cells\":{\"fill\":{\"color\":\"#EBF0F8\"},\"line\":{\"color\":\"white\"}},\"header\":{\"fill\":{\"color\":\"#C8D4E3\"},\"line\":{\"color\":\"white\"}},\"type\":\"table\"}],\"barpolar\":[{\"marker\":{\"line\":{\"color\":\"#E5ECF6\",\"width\":0.5},\"pattern\":{\"fillmode\":\"overlay\",\"size\":10,\"solidity\":0.2}},\"type\":\"barpolar\"}],\"pie\":[{\"automargin\":true,\"type\":\"pie\"}]},\"layout\":{\"autotypenumbers\":\"strict\",\"colorway\":[\"#636efa\",\"#EF553B\",\"#00cc96\",\"#ab63fa\",\"#FFA15A\",\"#19d3f3\",\"#FF6692\",\"#B6E880\",\"#FF97FF\",\"#FECB52\"],\"font\":{\"color\":\"#2a3f5f\"},\"hovermode\":\"closest\",\"hoverlabel\":{\"align\":\"left\"},\"paper_bgcolor\":\"white\",\"plot_bgcolor\":\"#E5ECF6\",\"polar\":{\"bgcolor\":\"#E5ECF6\",\"angularaxis\":{\"gridcolor\":\"white\",\"linecolor\":\"white\",\"ticks\":\"\"},\"radialaxis\":{\"gridcolor\":\"white\",\"linecolor\":\"white\",\"ticks\":\"\"}},\"ternary\":{\"bgcolor\":\"#E5ECF6\",\"aaxis\":{\"gridcolor\":\"white\",\"linecolor\":\"white\",\"ticks\":\"\"},\"baxis\":{\"gridcolor\":\"white\",\"linecolor\":\"white\",\"ticks\":\"\"},\"caxis\":{\"gridcolor\":\"white\",\"linecolor\":\"white\",\"ticks\":\"\"}},\"coloraxis\":{\"colorbar\":{\"outlinewidth\":0,\"ticks\":\"\"}},\"colorscale\":{\"sequential\":[[0.0,\"#0d0887\"],[0.1111111111111111,\"#46039f\"],[0.2222222222222222,\"#7201a8\"],[0.3333333333333333,\"#9c179e\"],[0.4444444444444444,\"#bd3786\"],[0.5555555555555556,\"#d8576b\"],[0.6666666666666666,\"#ed7953\"],[0.7777777777777778,\"#fb9f3a\"],[0.8888888888888888,\"#fdca26\"],[1.0,\"#f0f921\"]],\"sequentialminus\":[[0.0,\"#0d0887\"],[0.1111111111111111,\"#46039f\"],[0.2222222222222222,\"#7201a8\"],[0.3333333333333333,\"#9c179e\"],[0.4444444444444444,\"#bd3786\"],[0.5555555555555556,\"#d8576b\"],[0.6666666666666666,\"#ed7953\"],[0.7777777777777778,\"#fb9f3a\"],[0.8888888888888888,\"#fdca26\"],[1.0,\"#f0f921\"]],\"diverging\":[[0,\"#8e0152\"],[0.1,\"#c51b7d\"],[0.2,\"#de77ae\"],[0.3,\"#f1b6da\"],[0.4,\"#fde0ef\"],[0.5,\"#f7f7f7\"],[0.6,\"#e6f5d0\"],[0.7,\"#b8e186\"],[0.8,\"#7fbc41\"],[0.9,\"#4d9221\"],[1,\"#276419\"]]},\"xaxis\":{\"gridcolor\":\"white\",\"linecolor\":\"white\",\"ticks\":\"\",\"title\":{\"standoff\":15},\"zerolinecolor\":\"white\",\"automargin\":true,\"zerolinewidth\":2},\"yaxis\":{\"gridcolor\":\"white\",\"linecolor\":\"white\",\"ticks\":\"\",\"title\":{\"standoff\":15},\"zerolinecolor\":\"white\",\"automargin\":true,\"zerolinewidth\":2},\"scene\":{\"xaxis\":{\"backgroundcolor\":\"#E5ECF6\",\"gridcolor\":\"white\",\"linecolor\":\"white\",\"showbackground\":true,\"ticks\":\"\",\"zerolinecolor\":\"white\",\"gridwidth\":2},\"yaxis\":{\"backgroundcolor\":\"#E5ECF6\",\"gridcolor\":\"white\",\"linecolor\":\"white\",\"showbackground\":true,\"ticks\":\"\",\"zerolinecolor\":\"white\",\"gridwidth\":2},\"zaxis\":{\"backgroundcolor\":\"#E5ECF6\",\"gridcolor\":\"white\",\"linecolor\":\"white\",\"showbackground\":true,\"ticks\":\"\",\"zerolinecolor\":\"white\",\"gridwidth\":2}},\"shapedefaults\":{\"line\":{\"color\":\"#2a3f5f\"}},\"annotationdefaults\":{\"arrowcolor\":\"#2a3f5f\",\"arrowhead\":0,\"arrowwidth\":1},\"geo\":{\"bgcolor\":\"white\",\"landcolor\":\"#E5ECF6\",\"subunitcolor\":\"white\",\"showland\":true,\"showlakes\":true,\"lakecolor\":\"white\"},\"title\":{\"x\":0.05},\"mapbox\":{\"style\":\"light\"}}},\"scene\":{\"domain\":{\"x\":[0.0,1.0],\"y\":[0.0,1.0]},\"xaxis\":{\"title\":{\"text\":\"PC1\"}},\"yaxis\":{\"title\":{\"text\":\"PC2\"}},\"zaxis\":{\"title\":{\"text\":\"PC3\"}}},\"coloraxis\":{\"colorbar\":{\"title\":{\"text\":\"Class\"}},\"colorscale\":[[0.0,\"#0d0887\"],[0.1111111111111111,\"#46039f\"],[0.2222222222222222,\"#7201a8\"],[0.3333333333333333,\"#9c179e\"],[0.4444444444444444,\"#bd3786\"],[0.5555555555555556,\"#d8576b\"],[0.6666666666666666,\"#ed7953\"],[0.7777777777777778,\"#fb9f3a\"],[0.8888888888888888,\"#fdca26\"],[1.0,\"#f0f921\"]]},\"legend\":{\"title\":{\"text\":\"Class\"},\"tracegroupgap\":0},\"margin\":{\"t\":60},\"width\":800},                        {\"responsive\": true}                    ).then(function(){\n",
       "                            \n",
       "var gd = document.getElementById('eac31dad-b006-48d3-a570-d7475215265d');\n",
       "var x = new MutationObserver(function (mutations, observer) {{\n",
       "        var display = window.getComputedStyle(gd).display;\n",
       "        if (!display || display === 'none') {{\n",
       "            console.log([gd, 'removed!']);\n",
       "            Plotly.purge(gd);\n",
       "            observer.disconnect();\n",
       "        }}\n",
       "}});\n",
       "\n",
       "// Listen for the removal of the full notebook cells\n",
       "var notebookContainer = gd.closest('#notebook-container');\n",
       "if (notebookContainer) {{\n",
       "    x.observe(notebookContainer, {childList: true});\n",
       "}}\n",
       "\n",
       "// Listen for the clearing of the current output cell\n",
       "var outputEl = gd.closest('.output');\n",
       "if (outputEl) {{\n",
       "    x.observe(outputEl, {childList: true});\n",
       "}}\n",
       "\n",
       "                        })                };                });            </script>        </div>"
      ]
     },
     "metadata": {},
     "output_type": "display_data"
    }
   ],
   "source": [
    "# Creating a 3D-Scatter with the PCA data and the clusters\n",
    "\n",
    "fig = px.scatter_3d(\n",
    "    clustered_df,\n",
    "    x=\"PC1\",\n",
    "    y=\"PC2\",\n",
    "    z=\"PC3\",\n",
    "    color=\"Class\",\n",
    "    symbol=\"Class\",\n",
    "    hover_name= clustered_df[\"CoinName\"],\n",
    "    hover_data= [\"Algorithm\"],\n",
    "    width=800,\n",
    ")\n",
    "\n",
    "fig.show()"
   ]
  },
  {
   "cell_type": "code",
   "execution_count": 134,
   "metadata": {},
   "outputs": [
    {
     "data": {},
     "metadata": {},
     "output_type": "display_data"
    },
    {
     "data": {
      "application/vnd.holoviews_exec.v0+json": "",
      "text/html": [
       "<div id='1111'>\n",
       "  <div class=\"bk-root\" id=\"4f3b0dd3-3134-423d-8718-756fd1767802\" data-root-id=\"1111\"></div>\n",
       "</div>\n",
       "<script type=\"application/javascript\">(function(root) {\n",
       "  function embed_document(root) {\n",
       "    var docs_json = {\"120a6412-b038-4d84-ba4c-3671652e64df\":{\"defs\":[{\"extends\":null,\"module\":null,\"name\":\"ReactiveHTML1\",\"overrides\":[],\"properties\":[]},{\"extends\":null,\"module\":null,\"name\":\"FlexBox1\",\"overrides\":[],\"properties\":[{\"default\":\"flex-start\",\"kind\":null,\"name\":\"align_content\"},{\"default\":\"flex-start\",\"kind\":null,\"name\":\"align_items\"},{\"default\":\"row\",\"kind\":null,\"name\":\"flex_direction\"},{\"default\":\"wrap\",\"kind\":null,\"name\":\"flex_wrap\"},{\"default\":\"flex-start\",\"kind\":null,\"name\":\"justify_content\"}]},{\"extends\":null,\"module\":null,\"name\":\"GridStack1\",\"overrides\":[],\"properties\":[{\"default\":\"warn\",\"kind\":null,\"name\":\"mode\"},{\"default\":null,\"kind\":null,\"name\":\"ncols\"},{\"default\":null,\"kind\":null,\"name\":\"nrows\"},{\"default\":true,\"kind\":null,\"name\":\"allow_resize\"},{\"default\":true,\"kind\":null,\"name\":\"allow_drag\"},{\"default\":[],\"kind\":null,\"name\":\"state\"}]},{\"extends\":null,\"module\":null,\"name\":\"click1\",\"overrides\":[],\"properties\":[{\"default\":\"\",\"kind\":null,\"name\":\"terminal_output\"},{\"default\":\"\",\"kind\":null,\"name\":\"debug_name\"},{\"default\":0,\"kind\":null,\"name\":\"clears\"}]},{\"extends\":null,\"module\":null,\"name\":\"NotificationAreaBase1\",\"overrides\":[],\"properties\":[{\"default\":\"bottom-right\",\"kind\":null,\"name\":\"position\"},{\"default\":0,\"kind\":null,\"name\":\"_clear\"}]},{\"extends\":null,\"module\":null,\"name\":\"NotificationArea1\",\"overrides\":[],\"properties\":[{\"default\":[],\"kind\":null,\"name\":\"notifications\"},{\"default\":\"bottom-right\",\"kind\":null,\"name\":\"position\"},{\"default\":0,\"kind\":null,\"name\":\"_clear\"},{\"default\":[{\"background\":\"#ffc107\",\"icon\":{\"className\":\"fas fa-exclamation-triangle\",\"color\":\"white\",\"tagName\":\"i\"},\"type\":\"warning\"},{\"background\":\"#007bff\",\"icon\":{\"className\":\"fas fa-info-circle\",\"color\":\"white\",\"tagName\":\"i\"},\"type\":\"info\"}],\"kind\":null,\"name\":\"types\"}]},{\"extends\":null,\"module\":null,\"name\":\"Notification\",\"overrides\":[],\"properties\":[{\"default\":null,\"kind\":null,\"name\":\"background\"},{\"default\":3000,\"kind\":null,\"name\":\"duration\"},{\"default\":null,\"kind\":null,\"name\":\"icon\"},{\"default\":\"\",\"kind\":null,\"name\":\"message\"},{\"default\":null,\"kind\":null,\"name\":\"notification_type\"},{\"default\":false,\"kind\":null,\"name\":\"_destroyed\"}]},{\"extends\":null,\"module\":null,\"name\":\"TemplateActions1\",\"overrides\":[],\"properties\":[{\"default\":0,\"kind\":null,\"name\":\"open_modal\"},{\"default\":0,\"kind\":null,\"name\":\"close_modal\"}]},{\"extends\":null,\"module\":null,\"name\":\"MaterialTemplateActions1\",\"overrides\":[],\"properties\":[{\"default\":0,\"kind\":null,\"name\":\"open_modal\"},{\"default\":0,\"kind\":null,\"name\":\"close_modal\"}]}],\"roots\":{\"references\":[{\"attributes\":{\"editor\":{\"id\":\"1116\"},\"field\":\"CoinName\",\"formatter\":{\"id\":\"1115\"},\"title\":\"CoinName\"},\"id\":\"1117\",\"type\":\"TableColumn\"},{\"attributes\":{\"data\":{\"Algorithm\":[\"Scrypt\",\"Scrypt\",\"X13\",\"SHA-256\",\"Ethash\",\"Scrypt\",\"X11\",\"CryptoNight-V7\",\"Ethash\",\"Equihash\",\"SHA-512\",\"Multiple\",\"SHA-256\",\"SHA-256\",\"Scrypt\",\"X15\",\"X11\",\"Scrypt\",\"Scrypt\",\"Scrypt\",\"Multiple\",\"Scrypt\",\"SHA-256\",\"Scrypt\",\"Scrypt\",\"Scrypt\",\"Quark\",\"Groestl\",\"Scrypt\",\"Scrypt\",\"Scrypt\",\"Scrypt\",\"Scrypt\",\"X11\",\"Scrypt\",\"Groestl\",\"Multiple\",\"SHA-256\",\"Scrypt\",\"Scrypt\",\"Scrypt\",\"Scrypt\",\"PoS\",\"Scrypt\",\"Scrypt\",\"NeoScrypt\",\"Scrypt\",\"Scrypt\",\"Scrypt\",\"Scrypt\",\"X11\",\"Scrypt\",\"X11\",\"SHA-256\",\"Scrypt\",\"Scrypt\",\"Scrypt\",\"SHA3\",\"Scrypt\",\"HybridScryptHash256\",\"Scrypt\",\"Scrypt\",\"SHA-256\",\"Scrypt\",\"X13\",\"Scrypt\",\"SHA-256\",\"Scrypt\",\"X13\",\"NeoScrypt\",\"Scrypt\",\"Scrypt\",\"Scrypt\",\"Scrypt\",\"Scrypt\",\"Scrypt\",\"X11\",\"X11\",\"SHA-256\",\"Multiple\",\"SHA-256\",\"PHI1612\",\"X11\",\"SHA-256\",\"SHA-256\",\"SHA-256\",\"X11\",\"Scrypt\",\"Scrypt\",\"Scrypt\",\"Scrypt\",\"Lyra2REv2\",\"Scrypt\",\"X11\",\"Multiple\",\"SHA-256\",\"X13\",\"Scrypt\",\"CryptoNight\",\"CryptoNight\",\"Shabal256\",\"Counterparty\",\"Scrypt\",\"SHA-256\",\"Groestl\",\"Scrypt\",\"Scrypt\",\"Scrypt\",\"X13\",\"Scrypt\",\"Scrypt\",\"Scrypt\",\"Scrypt\",\"X13\",\"Scrypt\",\"Stanford Folding\",\"X11\",\"Multiple\",\"QuBit\",\"Scrypt\",\"Scrypt\",\"Scrypt\",\"M7 POW\",\"Scrypt\",\"SHA-256\",\"Scrypt\",\"X11\",\"SHA3\",\"X11\",\"Lyra2RE\",\"SHA-256\",\"QUAIT\",\"X11\",\"X11\",\"Scrypt\",\"Scrypt\",\"Scrypt\",\"Ethash\",\"X13\",\"Blake2b\",\"SHA-256\",\"X15\",\"X11\",\"SHA-256\",\"BLAKE256\",\"Scrypt\",\"1GB AES Pattern Search\",\"SHA-256\",\"X11\",\"Scrypt\",\"SHA-256\",\"SHA-256\",\"NIST5\",\"Scrypt\",\"Scrypt\",\"X11\",\"Dagger\",\"Scrypt\",\"X11GOST\",\"X11\",\"Scrypt\",\"SHA-256\",\"Scrypt\",\"PoS\",\"Scrypt\",\"ScryptOG\",\"X11\",\"X11\",\"SHA-256\",\"SHA-256\",\"NIST5\",\"X11\",\"Scrypt\",\"POS 3.0\",\"Scrypt\",\"Scrypt\",\"Scrypt\",\"X13\",\"X11\",\"X11\",\"Equihash\",\"X11\",\"Scrypt\",\"CryptoNight\",\"SHA-256\",\"SHA-256\",\"X11\",\"Scrypt\",\"Multiple\",\"Scrypt\",\"Scrypt\",\"Scrypt\",\"SHA-256\",\"Scrypt\",\"Scrypt\",\"SHA-256D\",\"PoS\",\"Scrypt\",\"X11\",\"Lyra2Z\",\"PoS\",\"X13\",\"X14\",\"PoS\",\"SHA-256D\",\"Ethash\",\"Equihash\",\"DPoS\",\"X11\",\"Scrypt\",\"X11\",\"X13\",\"X11\",\"PoS\",\"Scrypt\",\"Scrypt\",\"X11\",\"PoS\",\"X11\",\"SHA-256\",\"Scrypt\",\"X11\",\"Scrypt\",\"Scrypt\",\"X11\",\"CryptoNight\",\"Scrypt\",\"Scrypt\",\"Scrypt\",\"Scrypt\",\"Quark\",\"QuBit\",\"Scrypt\",\"CryptoNight\",\"Lyra2RE\",\"Scrypt\",\"SHA-256\",\"X11\",\"Scrypt\",\"X11\",\"Scrypt\",\"CryptoNight-V7\",\"Scrypt\",\"Scrypt\",\"Scrypt\",\"X13\",\"X11\",\"Equihash\",\"Scrypt\",\"Scrypt\",\"Lyra2RE\",\"Scrypt\",\"Dagger-Hashimoto\",\"X11\",\"Blake2S\",\"X11\",\"Scrypt\",\"PoS\",\"X11\",\"NIST5\",\"PoS\",\"X11\",\"Scrypt\",\"Scrypt\",\"Scrypt\",\"SHA-256\",\"X11\",\"Scrypt\",\"Scrypt\",\"SHA-256\",\"PoS\",\"Scrypt\",\"X15\",\"SHA-256\",\"Scrypt\",\"POS 3.0\",\"CryptoNight-V7\",\"536\",\"Argon2d\",\"Blake2b\",\"Cloverhash\",\"CryptoNight\",\"NIST5\",\"X11\",\"NIST5\",\"Skein\",\"Scrypt\",\"X13\",\"Scrypt\",\"X11\",\"X11\",\"Scrypt\",\"CryptoNight\",\"X13\",\"Time Travel\",\"Scrypt\",\"Keccak\",\"SkunkHash v2 Raptor\",\"X11\",\"Skein\",\"SHA-256\",\"X11\",\"Scrypt\",\"VeChainThor Authority\",\"Scrypt\",\"PoS\",\"Scrypt\",\"Scrypt\",\"Scrypt\",\"Scrypt\",\"Scrypt\",\"Scrypt\",\"Scrypt\",\"CryptoNight\",\"SHA-512\",\"Ouroboros\",\"X11\",\"Equihash\",\"NeoScrypt\",\"X11\",\"Scrypt\",\"NeoScrypt\",\"Lyra2REv2\",\"Equihash\",\"Scrypt\",\"SHA-256\",\"NIST5\",\"PHI1612\",\"Dagger\",\"Scrypt\",\"Quark\",\"Scrypt\",\"POS 2.0\",\"Scrypt\",\"SHA-256\",\"X11\",\"NeoScrypt\",\"Ethash\",\"NeoScrypt\",\"Quark\",\"X11\",\"DPoS\",\"NIST5\",\"X13\",\"Multiple\",\"Scrypt\",\"CryptoNight\",\"CryptoNight\",\"Ethash\",\"NIST5\",\"Scrypt\",\"Quark\",\"X11\",\"CryptoNight-V7\",\"Scrypt\",\"Scrypt\",\"Scrypt\",\"X11\",\"BLAKE256\",\"X11\",\"Scrypt\",\"Scrypt\",\"NeoScrypt\",\"NeoScrypt\",\"Quark\",\"NeoScrypt\",\"Scrypt\",\"Scrypt\",\"Scrypt\",\"X11\",\"Scrypt\",\"X11\",\"SHA-256\",\"C11\",\"POS 3.0\",\"Ethash\",\"Scrypt\",\"Scrypt\",\"CryptoNight\",\"SkunkHash\",\"Scrypt\",\"CryptoNight\",\"X11\",\"Scrypt\",\"SHA-256\",\"Dagger\",\"Lyra2REv2\",\"X13\",\"Proof-of-BibleHash\",\"SHA-256 + Hive\",\"Scrypt\",\"Scrypt\",\"Skein\",\"X11\",\"Skein\",\"X11\",\"C11\",\"Proof-of-Authority\",\"X11\",\"XEVAN\",\"Scrypt\",\"VBFT\",\"Ethash\",\"CryptoNight\",\"Scrypt\",\"SHA-256\",\"IMesh\",\"PHI1612\",\"Quark\",\"NIST5\",\"Scrypt\",\"Scrypt\",\"Equihash\",\"Scrypt\",\"Lyra2Z\",\"Green Protocol\",\"PoS\",\"Scrypt\",\"NeoScrypt\",\"Semux BFT consensus\",\"X11\",\"Quark\",\"PoS\",\"CryptoNight\",\"X16R\",\"Scrypt\",\"NIST5\",\"Lyra2RE\",\"XEVAN\",\"Tribus\",\"Scrypt\",\"Lyra2Z\",\"Scrypt\",\"Scrypt\",\"CryptoNight\",\"X11\",\"SHA-256D\",\"CryptoNight Heavy\",\"CryptoNight\",\"Scrypt\",\"Scrypt\",\"X11\",\"Scrypt\",\"Jump Consistent Hash\",\"SHA-256D\",\"CryptoNight\",\"Scrypt\",\"X15\",\"Scrypt\",\"Quark\",\"Scrypt\",\"SHA-512\",\"SHA-256\",\"DPoS\",\"X16R\",\"HMQ1725\",\"X11\",\"Scrypt\",\"X16R\",\"Quark\",\"Quark\",\"Scrypt\",\"Lyra2REv2\",\"Quark\",\"Scrypt\",\"Scrypt\",\"Scrypt\",\"CryptoNight-V7\",\"Cryptonight-GPU\",\"XEVAN\",\"CryptoNight Heavy\",\"CryptoNight\",\"X11\",\"X11\",\"X11\",\"Scrypt\",\"PoS\",\"SHA-256\",\"Keccak\",\"X11\",\"X11\",\"Tribus\",\"Scrypt\",\"NeoScrypt\",\"SHA-512\",\"X16R\",\"ECC 256K1\",\"Equihash\",\"XEVAN\",\"HMQ1725\",\"Lyra2Z\",\"SHA-512\",\"SHA-256\",\"Quark\",\"PHI1612\",\"XEVAN\",\"X11\",\"CryptoNight\",\"Quark\",\"Blake\",\"Blake\",\"Blake\",\"Blake\",\"Equihash\",\"Exosis\",\"Scrypt\",\"Scrypt\",\"Equihash\",\"Quark\",\"Equihash\",\"Quark\",\"Scrypt\",\"Lyra2REv2\",\"QuBit\",\"X11\",\"Scrypt\",\"XEVAN\",\"SHA-256D\",\"X11\",\"SHA-256\",\"X13\",\"SHA-256\",\"X11\",\"DPoS\",\"Ethash\",\"Scrypt\",\"Scrypt\",\"X11\",\"NeoScrypt\",\"Scrypt\",\"Blake\",\"Scrypt\",\"SHA-256\",\"Scrypt\",\"X11\",\"Scrypt\",\"Scrypt\",\"SHA-256\",\"X11\",\"SHA-256\",\"Scrypt\",\"Scrypt\",\"Scrypt\",\"Groestl\",\"X11\",\"Scrypt\",\"PoS\",\"Scrypt\",\"Scrypt\",\"X11\",\"SHA-256\",\"DPoS\",\"Scrypt\",\"Scrypt\",\"NeoScrypt\",\"SHA3-256\",\"Multiple\",\"X13\",\"Equihash+Scrypt\",\"Lyra2Z\",\"PHI2\",\"DPoS\",\"Ethash\",\"DPoS\",\"SHA-256\",\"Lyra2Z\",\"Leased POS\",\"PoS\",\"Scrypt\",\"TRC10\",\"Equihash\",\"PoS\",\"SHA-256\",\"Scrypt\",\"CryptoNight\",\"Equihash\",\"Scrypt\",\"Scrypt\"],\"Class\":{\"__ndarray__\":\"AQAAAAEAAAABAAAAAAAAAAAAAAAAAAAAAQAAAAAAAAAAAAAAAAAAAAEAAAAAAAAAAQAAAAEAAAAAAAAAAQAAAAAAAAAAAAAAAQAAAAEAAAAAAAAAAAAAAAAAAAAAAAAAAAAAAAEAAAAAAAAAAAAAAAAAAAABAAAAAAAAAAEAAAAAAAAAAAAAAAEAAAABAAAAAAAAAAAAAAAAAAAAAAAAAAAAAAAAAAAAAQAAAAEAAAAAAAAAAAAAAAAAAAAAAAAAAAAAAAEAAAABAAAAAAAAAAEAAAAAAAAAAAAAAAAAAAAAAAAAAQAAAAAAAAAAAAAAAQAAAAAAAAABAAAAAQAAAAEAAAAAAAAAAAAAAAAAAAABAAAAAQAAAAEAAAABAAAAAQAAAAAAAAAAAAAAAAAAAAEAAAABAAAAAAAAAAEAAAAAAAAAAQAAAAEAAAAAAAAAAAAAAAAAAAAAAAAAAQAAAAEAAAAAAAAAAQAAAAAAAAAAAAAAAQAAAAEAAAAAAAAAAQAAAAEAAAAAAAAAAAAAAAEAAAABAAAAAAAAAAEAAAABAAAAAAAAAAEAAAAAAAAAAQAAAAAAAAABAAAAAAAAAAEAAAABAAAAAAAAAAAAAAABAAAAAAAAAAAAAAAAAAAAAQAAAAAAAAAAAAAAAAAAAAAAAAAAAAAAAQAAAAEAAAAAAAAAAAAAAAAAAAABAAAAAAAAAAEAAAAAAAAAAAAAAAEAAAAAAAAAAQAAAAAAAAABAAAAAQAAAAAAAAAAAAAAAQAAAAAAAAAAAAAAAQAAAAEAAAAAAAAAAQAAAAAAAAABAAAAAQAAAAEAAAAAAAAAAAAAAAAAAAAAAAAAAQAAAAEAAAABAAAAAQAAAAEAAAAAAAAAAAAAAAAAAAABAAAAAQAAAAEAAAABAAAAAQAAAAAAAAABAAAAAQAAAAEAAAABAAAAAQAAAAAAAAABAAAAAAAAAAEAAAABAAAAAAAAAAEAAAAAAAAAAQAAAAEAAAAAAAAAAQAAAAAAAAABAAAAAAAAAAEAAAAAAAAAAQAAAAEAAAABAAAAAQAAAAAAAAABAAAAAQAAAAEAAAABAAAAAQAAAAAAAAAAAAAAAQAAAAEAAAAAAAAAAAAAAAEAAAABAAAAAQAAAAEAAAABAAAAAAAAAAEAAAABAAAAAQAAAAEAAAABAAAAAQAAAAEAAAABAAAAAAAAAAEAAAABAAAAAQAAAAEAAAABAAAAAQAAAAAAAAAAAAAAAAAAAAEAAAABAAAAAQAAAAEAAAAAAAAAAQAAAAAAAAABAAAAAQAAAAAAAAABAAAAAAAAAAAAAAABAAAAAAAAAAAAAAABAAAAAAAAAAEAAAABAAAAAQAAAAAAAAABAAAAAQAAAAAAAAABAAAAAQAAAAEAAAABAAAAAQAAAAEAAAABAAAAAAAAAAEAAAAAAAAAAQAAAAEAAAABAAAAAQAAAAAAAAABAAAAAAAAAAEAAAAAAAAAAAAAAAAAAAAAAAAAAQAAAAAAAAABAAAAAQAAAAAAAAABAAAAAAAAAAAAAAAAAAAAAQAAAAAAAAABAAAAAAAAAAAAAAAAAAAAAQAAAAAAAAABAAAAAAAAAAEAAAABAAAAAQAAAAAAAAABAAAAAAAAAAAAAAAAAAAAAAAAAAAAAAABAAAAAQAAAAAAAAABAAAAAQAAAAEAAAAAAAAAAQAAAAAAAAABAAAAAAAAAAEAAAAAAAAAAQAAAAEAAAABAAAAAQAAAAAAAAABAAAAAQAAAAAAAAABAAAAAQAAAAEAAAAAAAAAAAAAAAAAAAAAAAAAAQAAAAEAAAABAAAAAQAAAAEAAAAAAAAAAQAAAAAAAAAAAAAAAAAAAAEAAAAAAAAAAQAAAAAAAAAAAAAAAQAAAAEAAAAAAAAAAQAAAAAAAAAAAAAAAQAAAAEAAAAAAAAAAAAAAAEAAAAAAAAAAAAAAAEAAAABAAAAAQAAAAEAAAAAAAAAAAAAAAAAAAABAAAAAAAAAAAAAAABAAAAAAAAAAAAAAABAAAAAAAAAAEAAAAAAAAAAQAAAAAAAAAAAAAAAQAAAAEAAAADAAAAAAAAAAAAAAABAAAAAQAAAAEAAAAAAAAAAQAAAAAAAAABAAAAAQAAAAEAAAABAAAAAAAAAAAAAAAAAAAAAAAAAAAAAAABAAAAAAAAAAEAAAABAAAAAQAAAAAAAAABAAAAAAAAAAEAAAABAAAAAQAAAAAAAAABAAAAAAAAAAEAAAABAAAAAAAAAAEAAAABAAAAAAAAAAAAAAABAAAAAAAAAAEAAAAAAAAAAQAAAAEAAAAAAAAAAQAAAAEAAAAAAAAAAAAAAAEAAAABAAAAAQAAAAEAAAAAAAAAAQAAAAAAAAABAAAAAQAAAAEAAAABAAAAAQAAAAAAAAABAAAAAQAAAAAAAAAAAAAAAAAAAAEAAAABAAAAAQAAAAEAAAABAAAAAQAAAAEAAAAAAAAAAAAAAAEAAAAAAAAAAAAAAAAAAAAAAAAAAAAAAAEAAAAAAAAAAQAAAAEAAAABAAAAAAAAAAEAAAABAAAAAAAAAAEAAAABAAAAAQAAAAEAAAAAAAAAAwAAAAAAAAABAAAAAAAAAAAAAAABAAAAAAAAAAEAAAAAAAAAAQAAAAEAAAAAAAAAAQAAAAAAAAAAAAAAAAAAAAAAAAAAAAAAAAAAAAAAAAABAAAAAAAAAAEAAAAAAAAAAQAAAAEAAAAAAAAAAAAAAAEAAAABAAAAAQAAAAEAAAABAAAAAAAAAAAAAAAAAAAAAQAAAAEAAAAAAAAAAQAAAAAAAAABAAAAAAAAAAEAAAAAAAAAAQAAAAEAAAABAAAAAQAAAAAAAAABAAAAAQAAAAEAAAAAAAAAAQAAAAAAAAABAAAAAAAAAAEAAAABAAAAAQAAAAAAAAAAAAAAAQAAAAEAAAABAAAAAQAAAAEAAAABAAAAAwAAAAAAAAABAAAAAAAAAAAAAAABAAAAAQAAAAAAAAABAAAAAQAAAAEAAAABAAAAAQAAAAEAAAACAAAAAAAAAAEAAAABAAAAAQAAAAAAAAAAAAAAAQAAAAEAAAA=\",\"dtype\":\"int32\",\"order\":\"little\",\"shape\":[578]},\"CoinName\":[\"42 Coin\",\"404Coin\",\"EliteCoin\",\"Bitcoin\",\"Ethereum\",\"Litecoin\",\"Dash\",\"Monero\",\"Ethereum Classic\",\"ZCash\",\"Bitshares\",\"DigiByte\",\"BitcoinDark\",\"PayCoin\",\"ProsperCoin\",\"KoboCoin\",\"Spreadcoin\",\"Argentum\",\"Aurora Coin\",\"BlueCoin\",\"MyriadCoin\",\"MoonCoin\",\"ZetaCoin\",\"SexCoin\",\"Quatloo\",\"EnergyCoin\",\"QuarkCoin\",\"Riecoin\",\"Digitalcoin \",\"BitBar\",\"Catcoin\",\"CryptoBullion\",\"CannaCoin\",\"CryptCoin\",\"CasinoCoin\",\"Diamond\",\"Verge\",\"DevCoin\",\"EarthCoin\",\"E-Gulden\",\"Einsteinium\",\"Emerald\",\"Exclusive Coin\",\"FlutterCoin\",\"Franko\",\"FeatherCoin\",\"GrandCoin\",\"GlobalCoin\",\"GoldCoin\",\"HoboNickels\",\"HyperStake\",\"Infinite Coin\",\"IOCoin\",\"IXcoin\",\"KrugerCoin\",\"LuckyCoin\",\"Litebar \",\"MaxCoin\",\"MegaCoin\",\"MediterraneanCoin\",\"MintCoin\",\"MinCoin\",\"MazaCoin\",\"Nautilus Coin\",\"NavCoin\",\"NobleCoin\",\"Namecoin\",\"NyanCoin\",\"OpalCoin\",\"Orbitcoin\",\"PotCoin\",\"PhoenixCoin\",\"Reddcoin\",\"RonPaulCoin\",\"StableCoin\",\"SmartCoin\",\"SuperCoin\",\"SyncCoin\",\"SysCoin\",\"TeslaCoin\",\"TigerCoin\",\"TittieCoin\",\"TorCoin\",\"TerraCoin\",\"UnbreakableCoin\",\"Unobtanium\",\"UroCoin\",\"UnitaryStatus Dollar\",\"UltraCoin\",\"ViaCoin\",\"VeriCoin\",\"Vertcoin\",\"WorldCoin\",\"X11 Coin\",\"Crypti\",\"JouleCoin\",\"StealthCoin\",\"ZCC Coin\",\"ByteCoin\",\"DigitalNote \",\"BurstCoin\",\"StorjCoin\",\"MonaCoin\",\"Neutron\",\"FairCoin\",\"Gulden\",\"RubyCoin\",\"PesetaCoin\",\"Kore\",\"Wild Beast Coin\",\"Dnotes\",\"Flo\",\"8BIT Coin\",\"Sativa Coin\",\"ArtByte\",\"Folding Coin\",\"Ucoin\",\"Unitus\",\"CypherPunkCoin\",\"OmniCron\",\"Vtorrent\",\"GreenCoin\",\"Cryptonite\",\"MasterCoin\",\"SoonCoin\",\"1Credit\",\"IslaCoin\",\"Nexus\",\"MarsCoin \",\"Crypto\",\"Anarchists Prime\",\"Droidz\",\"BowsCoin\",\"Squall Coin\",\"Song Coin\",\"BitZeny\",\"Diggits\",\"Expanse\",\"Paycon\",\"Siacoin\",\"Emercoin\",\"EverGreenCoin\",\"MindCoin\",\"I0coin\",\"Decred\",\"Revolution VR\",\"HOdlcoin\",\"EDRCoin\",\"Hitcoin\",\"Gamecredits\",\"DubaiCoin\",\"CarpeDiemCoin\",\"PWR Coin\",\"BillaryCoin\",\"GPU Coin\",\"Adzcoin\",\"SoilCoin\",\"YoCoin\",\"SibCoin\",\"EuropeCoin\",\"ZeitCoin\",\"SwingCoin\",\"SafeExchangeCoin\",\"Nebuchadnezzar\",\"Francs\",\"Aiden\",\"BolivarCoin\",\"Ratecoin\",\"Revenu\",\"Clockcoin\",\"VIP Tokens\",\"BitSend\",\"Omni\",\"Let it Ride\",\"PutinCoin\",\"iBankCoin\",\"Frankywillcoin\",\"MudraCoin\",\"PizzaCoin\",\"Lutetium Coin\",\"Komodo\",\"GoldBlocks\",\"CarterCoin\",\"Karbo\",\"BitTokens\",\"ZayedCoin\",\"MustangCoin\",\"ZoneCoin\",\"Circuits of Value\",\"RootCoin\",\"DopeCoin\",\"BitCurrency\",\"DollarCoin\",\"Swiscoin\",\"Shilling\",\"BuzzCoin\",\"Opair\",\"PesoBit\",\"Halloween Coin\",\"ZCoin\",\"CoffeeCoin\",\"RoyalCoin\",\"GanjaCoin V2\",\"TeamUP\",\"LanaCoin\",\"Elementrem\",\"ZClassic\",\"ARK\",\"InsaneCoin\",\"KiloCoin\",\"ArtexCoin\",\"EmberCoin\",\"XenixCoin\",\"FreeCoin\",\"PLNCoin\",\"AquariusCoin\",\"Kurrent\",\"Creatio\",\"Eternity\",\"Eurocoin\",\"BitcoinFast\",\"Stakenet\",\"BitConnect Coin\",\"MoneyCoin\",\"Enigma\",\"Cannabis Industry Coin\",\"Russiacoin\",\"PandaCoin\",\"GameUnits\",\"GAKHcoin\",\"Allsafe\",\"LiteCreed\",\"OsmiumCoin\",\"Bikercoins\",\"HexxCoin\",\"Klingon Empire Darsek\",\"Internet of People\",\"KushCoin\",\"Printerium\",\"PacCoin\",\"Impeach\",\"Citadel\",\"Zilbercoin\",\"FirstCoin\",\"BeaverCoin\",\"FindCoin\",\"VaultCoin\",\"Zero\",\"OpenChat\",\"Canada eCoin\",\"Zoin\",\"RenosCoin\",\"DubaiCoin\",\"VirtacoinPlus\",\"TajCoin\",\"Impact\",\"EB3coin\",\"Atmos\",\"HappyCoin\",\"Coinonat\",\"MacronCoin\",\"Condensate\",\"Independent Money System\",\"ArgusCoin\",\"LomoCoin\",\"ProCurrency\",\"GoldReserve\",\"BenjiRolls\",\"GrowthCoin\",\"ILCoin\",\"Phreak\",\"Degas Coin\",\"HTML5 Coin\",\"Ultimate Secure Cash\",\"EquiTrader\",\"QTUM\",\"Quantum Resistant Ledger\",\"Espers\",\"Dynamic\",\"Nano\",\"ChanCoin\",\"Dinastycoin\",\"Denarius\",\"DigitalPrice\",\"Virta Unique Coin\",\"Bitcoin Planet\",\"Unify\",\"BritCoin\",\"SocialCoin\",\"ArcticCoin\",\"DAS\",\"Linda\",\"LeviarCoin\",\"DeepOnion\",\"Bitcore\",\"gCn Coin\",\"SmartCash\",\"Signatum\",\"Onix\",\"Cream\",\"Bitcoin Cash\",\"Monoeci\",\"Draftcoin\",\"Vechain\",\"Sojourn Coin\",\"Stakecoin\",\"NewYorkCoin\",\"FrazCoin\",\"Kronecoin\",\"AdCoin\",\"Linx\",\"CoinonatX\",\"Ethereum Dark\",\"Sumokoin\",\"Obsidian\",\"Cardano\",\"Regalcoin\",\"BitcoinZ\",\"TrezarCoin\",\"Elements\",\"TerraNovaCoin\",\"VIVO Coin\",\"Rupee\",\"Bitcoin Gold\",\"WomenCoin\",\"Theresa May Coin\",\"NamoCoin\",\"LUXCoin\",\"Pirl\",\"Xios\",\"Bitcloud 2.0\",\"eBoost\",\"KekCoin\",\"BlackholeCoin\",\"Infinity Economics\",\"Pura\",\"Innova\",\"Ellaism\",\"GoByte\",\"Alqo\",\"Magnet\",\"Lamden Tau\",\"Electra\",\"Bitcoin Diamond\",\"SHIELD\",\"Cash & Back Coin\",\"UltraNote\",\"BitCoal\",\"DaxxCoin\",\"Bulwark\",\"BoxyCoin\",\"Kalkulus\",\"AC3\",\"Lethean\",\"GermanCoin\",\"LiteCoin Ultra\",\"PopularCoin\",\"PhantomX\",\"Photon\",\"Sucre\",\"Accolade\",\"OmiseGO Classic\",\"SparksPay\",\"GoaCoin\",\"Digiwage\",\"GunCoin\",\"IrishCoin\",\"Trollcoin\",\"Litecoin Plus\",\"Monkey Project\",\"ECC\",\"Pioneer Coin\",\"UnitedBitcoin\",\"Interzone\",\"TokenPay\",\"1717 Masonic Commemorative Token\",\"Crypto Wisdom Coin\",\"My Big Coin\",\"TurtleCoin\",\"MUNcoin\",\"Unified Society USDEX\",\"Niobio Cash\",\"BitSoar Coin\",\"ShareChain\",\"Credence Coin\",\"Travelflex\",\"KREDS\",\"Tokyo Coin\",\"BiblePay\",\"LitecoinCash\",\"BitFlip\",\"LottoCoin\",\"BashCoin\",\"DigiMoney\",\"Lizus Payment\",\"Crypto Improvement Fund\",\"Stipend\",\"Poa Network\",\"Pushi\",\"Ellerium\",\"Velox\",\"Ontology\",\"Callisto Network\",\"BitTube\",\"Poseidon\",\"Manna\",\"Aidos Kuneen\",\"Seraph\",\"Cosmo\",\"Bitspace\",\"Briacoin\",\"Ignition\",\"Bitrolium\",\"MedicCoin\",\"Alpenschillling\",\"Bitcoin Green\",\"Deviant Coin\",\"Abjcoin\",\"Rapture\",\"Semux\",\"FuturoCoin\",\"Carebit\",\"Zealium\",\"Monero Classic\",\"Proton\",\"iDealCash\",\"Jumpcoin\",\"Infinex\",\"Bitcoin Incognito\",\"KEYCO\",\"HollyWoodCoin\",\"GINcoin\",\"Parlay\",\"Listerclassic Coin\",\"PlatinCoin\",\"BetKings\",\"Cognitio\",\"Loki\",\"Newton Coin\",\"Mercoin\",\"Swisscoin\",\"Reliance\",\"Xt3ch\",\"MassGrid\",\"TheVig\",\"PluraCoin\",\"EmaratCoin\",\"Dekado\",\"Lynx\",\"Poseidon Quark\",\"MYCE\",\"Arionum\",\"BitcoinWSpectrum\",\"Muse\",\"Motion\",\"PlusOneCoin\",\"Axe\",\"GambleCoin\",\"Trivechain\",\"Dystem\",\"Giant\",\"Peony Coin\",\"Absolute Coin\",\"Vitae\",\"HexCoin\",\"Deimos\",\"TPCash\",\"Webchain\",\"Ryo\",\"Urals Coin\",\"Qwertycoin\",\"Bitcoin Nova\",\"ARENON\",\"DACash\",\"EUNO\",\"MMOCoin\",\"Ketan\",\"Project Pai\",\"XDNA\",\"PAXEX\",\"Azart\",\"Averopay\",\"ThunderStake\",\"SimpleBank\",\"Kcash\",\"Xchange\",\"Acute Angle Cloud\",\"CrypticCoin\",\"Bettex coin\",\"Brazio\",\"Actinium\",\"TWIST\",\"Bitcoin SV\",\"DACH Coin\",\"Argoneum\",\"BitMoney\",\"Junson Ming Chan Coin\",\"FREDEnergy\",\"HerbCoin\",\"BlakeBitcoin\",\"Universal Molecule\",\"Lithium\",\"Electron\",\"PirateCash\",\"Exosis\",\"Block-Logic\",\"Oduwa\",\"Beam\",\"Galilel\",\"Bithereum\",\"Crypto Sports\",\"Credit\",\"Scribe Network\",\"SLICE\",\"Dash Platinum\",\"Nasdacoin\",\"Beetle Coin\",\"Titan Coin\",\"Award\",\"BLAST\",\"Bitcoin Rhodium\",\"GlobalToken\",\"Insane Coin\",\"ALAX\",\"Media Protocol Token\",\"LiteDoge\",\"SolarCoin\",\"TruckCoin\",\"UFO Coin\",\"OrangeCoin\",\"BlakeCoin\",\"BitstarCoin\",\"NeosCoin\",\"HyperCoin\",\"PinkCoin\",\"Crypto Escudo\",\"AudioCoin\",\"IncaKoin\",\"Piggy Coin\",\"Crown Coin\",\"Genstake\",\"SmileyCoin\",\"XiaoMiCoin\",\"Groestlcoin\",\"CapriCoin\",\" ClubCoin\",\"Radium\",\"Bata\",\"Pakcoin\",\"Creditbit \",\"OKCash\",\"Lisk\",\"HiCoin\",\"WhiteCoin\",\"FriendshipCoin\",\"Fiii\",\"JoinCoin\",\"Triangles Coin\",\"Vollar\",\"TecraCoin\",\"Gexan\",\"EOS\",\"Reality Clash\",\"Oxycoin\",\"TigerCash\",\"LAPO\",\"Waves\",\"Particl\",\"ShardCoin\",\"BitTorrent\",\"ChainZilla\",\"Nxt\",\"ZEPHYR\",\"Gapcoin\",\"Beldex\",\"Horizen\",\"BitcoinPlus\",\"DivotyCoin\"],\"ProofType\":[\"PoW/PoS\",\"PoW/PoS\",\"PoW/PoS\",\"PoW\",\"PoW\",\"PoW\",\"PoW/PoS\",\"PoW\",\"PoW\",\"PoW\",\"PoS\",\"PoW\",\"PoW/PoS\",\"PoS\",\"PoW\",\"PoW/PoS\",\"PoW\",\"PoW\",\"PoW/PoS\",\"PoW/PoS\",\"PoW\",\"PoW\",\"PoW\",\"PoW\",\"PoW\",\"PoW/PoS\",\"PoW\",\"PoW\",\"PoW\",\"PoW/PoS\",\"PoW\",\"PoW/PoS\",\"PoW\",\"PoW\",\"PoC\",\"PoW/PoS\",\"PoW\",\"PoW\",\"PoW\",\"PoW\",\"PoW\",\"PoW\",\"PoS\",\"PoS/PoW/PoT\",\"PoW\",\"PoW\",\"PoW\",\"PoW\",\"PoW\",\"PoW/PoS\",\"PoS\",\"PoW\",\"PoW/PoS\",\"PoW\",\"PoW\",\"PoW\",\"PoW\",\"PoW/PoS\",\"PoW\",\"PoW\",\"PoS\",\"PoW\",\"PoW/PoS\",\"PoS\",\"PoW/PoS\",\"PoW\",\"PoW\",\"PoW\",\"PoW/PoS\",\"PoW/PoS\",\"PoW/PoS\",\"PoW/PoS\",\"PoW/PoS\",\"PoW\",\"PoW\",\"PoW\",\"PoS\",\"PoW/PoS\",\"PoW\",\"PoS\",\"PoW\",\"PoS\",\"PoW/PoS\",\"PoW\",\"PoW\",\"PoW\",\"PoW\",\"PoW/PoS\",\"PoW/PoS\",\"PoW\",\"PoST\",\"PoW\",\"PoW\",\"PoW/PoS\",\"PoS\",\"PoW\",\"PoW/PoS\",\"PoW/PoS\",\"PoW\",\"PoW\",\"PoC\",\"PoS\",\"PoW\",\"PoW/PoS\",\"PoW/PoS\",\"PoW\",\"PoS\",\"PoW\",\"PoW/PoS\",\"PoW\",\"PoS\",\"PoW\",\"PoW/PoS\",\"PoW/PoS\",\"PoW\",\"PoW\",\"PoS\",\"PoW\",\"PoW\",\"PoW\",\"PoW/PoS\",\"PoW\",\"PoW\",\"PoW\",\"PoW\",\"PoW\",\"PoW/PoS\",\"PoW/nPoS\",\"PoW\",\"PoW\",\"PoW\",\"PoW/PoS\",\"PoW\",\"PoS/PoW\",\"PoW\",\"PoW\",\"PoS\",\"PoW\",\"PoW/PoS\",\"PoW\",\"PoW/PoS\",\"PoW/PoS\",\"PoW\",\"PoW\",\"PoW/PoS\",\"PoW\",\"PoW\",\"PoW/PoS\",\"PoW/PoS\",\"PoW\",\"PoW/PoS\",\"PoW\",\"PoW/PoS\",\"PoW/PoS\",\"PoS\",\"PoW\",\"PoW\",\"PoW\",\"PoW\",\"PoW/PoS\",\"PoS\",\"PoW/PoS\",\"PoC\",\"PoS\",\"PoW\",\"PoW\",\"PoW\",\"PoW/PoS\",\"PoW/PoS\",\"PoW/PoS\",\"PoW/PoS\",\"PoW/PoS\",\"PoW\",\"PoS\",\"PoW/PoS\",\"PoW/PoS\",\"PoW/PoS\",\"PoS\",\"PoW\",\"PoS\",\"dPoW/PoW\",\"PoW/PoS\",\"PoW/PoS\",\"PoW\",\"PoW/PoS\",\"PoW\",\"PoW/PoS\",\"PoW/PoS\",\"PoW\",\"PoW/PoS\",\"PoW\",\"PoS\",\"PoW\",\"PoW/PoW\",\"PoW\",\"PoW/PoS\",\"PoS\",\"PoW/PoS\",\"PoW/PoS\",\"PoW\",\"PoS\",\"PoS\",\"PoW/PoS\",\"PoS\",\"PoW/PoS\",\"PoW\",\"PoW\",\"DPoS\",\"PoW/PoS\",\"PoW\",\"PoW\",\"PoW/PoS\",\"PoW/PoS\",\"PoS\",\"PoW/PoS\",\"PoW/PoS\",\"PoW\",\"PoS\",\"PoW/PoS\",\"PoW/PoS\",\"PoW/PoS\",\"TPoS\",\"PoW/PoS\",\"PoW/PoS\",\"PoW/PoS\",\"PoW\",\"PoW/PoS\",\"PoS\",\"PoW/PoS\",\"PoW/PoS\",\"PoS\",\"PoW/PoS\",\"PoW\",\"PoW\",\"PoW\",\"PoW/PoS\",\"PoW/PoS\",\"PoW/PoS\",\"PoW/PoS\",\"PoW\",\"PoW/PoS\",\"PoW\",\"PoS\",\"PoW/PoS \",\"PoW\",\"PoS\",\"PoW\",\"PoW\",\"PoW/PoS\",\"PoW\",\"PoW\",\"PoS\",\"PoW\",\"PoW/PoS\",\"PoW/PoS\",\"PoW/PoS\",\"PoW\",\"PoS\",\"PoW/PoS\",\"PoW\",\"PoS\",\"PoW/PoS\",\"PoW/PoS\",\"PoW/PoS\",\"PoW/PoS\",\"PoS\",\"PoW/PoS\",\"PoW\",\"PoS\",\"PoW\",\"PoS\",\"PoW/PoS\",\"PoW/PoS\",\"PoS\",\"PoW\",\"PoS\",\"PoW\",\"PoW/PoS\",\"PoW\",\"PoW\",\"PoW\",\"PoW\",\"PoW/PoS\",\"PoW\",\"PoW/PoS\",\"PoW/PoS\",\"PoW\",\"PoW/PoS\",\"PoW\",\"PoW\",\"PoW\",\"PoW/PoS\",\"PoW\",\"PoW/PoS\",\"PoW\",\"PoW\",\"PoW\",\"PoS\",\"PoW\",\"PoW/PoS\",\"PoW\",\"PoW/PoS\",\"PoS\",\"Proof of Authority\",\"PoW\",\"PoS\",\"PoW\",\"PoW\",\"PoW\",\"PoW\",\"PoW\",\"PoW/PoS\",\"PoW/PoS\",\"PoW\",\"PoS\",\"PoS\",\"PoW/PoS\",\"PoW\",\"PoW/PoS\",\"PoW\",\"PoW/PoS\",\"PoW\",\"PoS\",\"PoW\",\"PoW/PoS\",\"PoW/PoS\",\"PoW/PoS\",\"PoW/PoS\",\"PoW\",\"PoW/PoS\",\"PoW/PoS\",\"PoW\",\"PoS\",\"PoW/PoS\",\"PoS\",\"PoW\",\"PoW\",\"PoW\",\"PoW\",\"PoW/PoS\",\"PoW/PoS\",\"DPoS\",\"PoW/PoS\",\"PoW/PoS\",\"PoW\",\"PoW/PoS\",\"PoW\",\"PoW\",\"PoW\",\"PoS\",\"PoW\",\"PoS\",\"PoW\",\"PoW\",\"PoW/PoS\",\"PoW/PoS\",\"PoW\",\"PoW/PoS\",\"PoW\",\"PoW\",\"PoW/PoS\",\"PoW/PoS\",\"PoW\",\"PoW\",\"PoS\",\"PoW\",\"PoW\",\"PoW/PoS\",\"PoW/PoS\",\"PoS\",\"PoS\",\"PoW\",\"PoW\",\"PoW\",\"PoS\",\"PoS\",\"PoW\",\"PoW and PoS\",\"PoW\",\"PoW\",\"PoW/PoS\",\"PoW\",\"PoS\",\"PoW\",\"PoW/PoS\",\"PoW\",\"PoW\",\"PoS\",\"POBh\",\"PoW + Hive\",\"PoW\",\"PoW\",\"PoW/PoS\",\"PoW/PoS\",\"PoW/PoS\",\"PoW\",\"PoW/PoS\",\"PoA\",\"PoW/PoS\",\"PoW/PoS\",\"PoS\",\"PoS\",\"PoW\",\"PoW\",\"PoW\",\"PoW\",\"PoW\",\"PoW/PoS\",\"PoW\",\"PoW/PoS\",\"PoW/PoS\",\"PoW/PoS\",\"PoW\",\"PoS\",\"PoW\",\"PoS\",\"PoS\",\"PoW/PoS\",\"PoW\",\"DPoS\",\"PoW\",\"PoW/PoS\",\"PoS\",\"PoW\",\"PoS\",\"PoW/PoS\",\"PoW\",\"PoW\",\"PoS/PoW\",\"PoW\",\"PoS\",\"PoW\",\"PoS\",\"PoW/PoS\",\"PoW\",\"PoS\",\"PoW/PoS\",\"PoW\",\"PoW\",\"PoW/PoS\",\"PoW/PoS\",\"PoS\",\"PoS\",\"PoW\",\"PoW/PoS\",\"PoW\",\"PoW/PoS\",\"PoS\",\"HPoW\",\"PoS\",\"PoW/PoS\",\"PoW\",\"PoS\",\"PoS\",\"PoW\",\"PoW\",\"PoW\",\"PoS\",\"PoW/PoS\",\"PoS\",\"PoW/PoS\",\"PoS\",\"PoW/PoS\",\"PoS\",\"PoW\",\"PoW\",\"PoW/PoS\",\"PoW\",\"PoW\",\"PoW\",\"PoW\",\"PoW\",\"PoS\",\"PoW\",\"PoW/PoS\",\"PoS\",\"PoS\",\"PoW\",\"PoW/PoS\",\"PoS\",\"PoW\",\"PoW/PoS\",\"PoW/PoS\",\"PoW/PoS\",\"Zero-Knowledge Proof\",\"PoW\",\"DPOS\",\"PoW\",\"PoS\",\"PoW\",\"PoW\",\"PoS\",\"PoW\",\"PoS\",\"PoW\",\"Pos\",\"PoS\",\"PoW\",\"PoW/PoS\",\"PoW\",\"PoW\",\"PoW\",\"PoW\",\"PoS\",\"PoW\",\"PoW\",\"PoW/PoS\",\"PoW\",\"PoW/PoS\",\"PoW\",\"PoS\",\"PoW/PoS\",\"PoW\",\"PoW\",\"PoS\",\"PoW/PoS\",\"PoW/PoS\",\"PoW/PoS\",\"PoW/PoS\",\"PoW\",\"PoW\",\"PoW\",\"PoW/PoS\",\"DPoS\",\"PoW\",\"PoW/PoS\",\"PoW\",\"PoW/PoS\",\"PoW\",\"PoW/PoS\",\"PoW\",\"PoW/PoS\",\"PoS\",\"PoW/PoS\",\"PoW/PoS\",\"PoW\",\"PoW/PoS\",\"PoW/PoS\",\"PoW/PoS\",\"PoW\",\"PoW/PoS\",\"PoW\",\"PoW/PoS\",\"PoW\",\"PoW/PoS\",\"PoW/PoS\",\"PoS\",\"PoW\",\"PoW\",\"Proof of Trust\",\"PoW/PoS\",\"DPoS\",\"PoS\",\"PoW/PoS\",\"PoW/PoS\",\"DPoC\",\"PoW\",\"PoW/PoS\",\"PoW\",\"PoW\",\"PoW/PoS\",\"DPoS\",\"PoW\",\"DPoS\",\"PoS\",\"PoW/PoS\",\"LPoS\",\"PoS\",\"PoS\",\"DPoS\",\"DPoW\",\"PoS/LPoS\",\"DPoS\",\"PoW/PoS\",\"PoW\",\"PoW\",\"PoS\",\"PoW/PoS\"],\"TotalCoinSupply\":[\"42\",\"532000000\",\"314159265359\",\"21000000\",\"0\",\"84000000\",\"22000000\",\"0\",\"210000000\",\"21000000\",\"3600570502\",\"21000000000\",\"22000000\",\"12500000\",\"21000000\",\"350000000\",\"20000000\",\"64000000\",\"16768584\",\"0\",\"2000000000\",\"384000000000\",\"169795588\",\"250000000\",\"100000000\",\"0\",\"247000000\",\"84000000\",\"48166000\",\"500000\",\"21000000 \",\"1000000\",\"13140000\",\"18000000\",\"40000000000\",\"4380000\",\"16555000000\",\"21000000000\",\"13500000000\",\"21000000 \",\"299792458\",\"32000000\",\"0\",\"0\",\"11235813\",\"336000000\",\"1420609614\",\"70000000\",\"72245700\",\"120000000\",\"0\",\"90600000000\",\"22000000\",\"21000000\",\"265420800\",\"20000000\",\"1350000\",\"100000000\",\"42000000\",\"200000000\",\"0\",\"10000000\",\"2419200000\",\"16180000\",\"0\",\"15000000000\",\"21000000\",\"337000000\",\"0\",\"3770000\",\"420000000\",\"98000000\",\"0\",\"21000000\",\"250000000\",\"51200000\",\"0\",\"1000\",\"888000000\",\"100000000\",\"47011968\",\"2300000000\",\"10000000\",\"42000000\",\"80000000\",\"250000\",\"0\",\"1600000000\",\"100000000\",\"23000000\",\"0\",\"84000000\",\"265420800\",\"5500000\",\"0\",\"45000000\",\"0\",\"1000000000\",\"184467440735\",\"10000000000\",\"2158812800\",\"500000000\",\"105120000\",\"68000000\",\"0\",\"1680000000\",\"0\",\"166386000\",\"12000000\",\"2628000\",\"500000000\",\"160000000\",\"0\",\"10000000\",\"1000000000\",\"1000000000\",\"20000000\",\"0\",\"0\",\"3371337\",\"20000000\",\"10000000000\",\"1840000000\",\"619478\",\"21000000\",\"92000000000\",\"0\",\"78000000\",\"33000000\",\"65789100\",\"53760000\",\"5060000\",\"21000000\",\"0\",\"210240000\",\"250000000\",\"100000000\",\"16906397\",\"50000000\",\"0\",\"1000000000\",\"26298000\",\"16000000\",\"21000000\",\"21000000\",\"210000000\",\"81962100\",\"22000000\",\"26550000000\",\"84000000\",\"10500000\",\"21626280000 \",\"0\",\"42000000\",\"221052632\",\"84000000\",\"30000000\",\"168351300\",\"24000000\",\"384000000\",\" 99000000000\",\"40000000\",\"2147483647\",\"20000000\",\"20000000\",\"84000000\",\"25000000\",\"75000000\",\"222725000\",\"525000000\",\"90000000\",\"139000000\",\"616448\",\"33500000\",\"2000000000\",\"44333333\",\"100000000\",\"200000000\",\"25000000\",\"657000000\",\"200000000\",\"50000000\",\"90000000\",\"10000000\",\"21000000\",\"9736000\",\"3000000\",\"21000000\",\"1200000000\",\"0\",\"200000000\",\"0\",\"10638298\",\"3100000000\",\"30000000\",\"20000000000\",\"74000000\",\"0\",\"1500000000\",\"21400000\",\"39999898\",\"2500124\",\"100000000\",\"301000000\",\"7506000000\",\"26205539\",\"21000000\",\"125000000\",\"30000000\",\"10000000000\",\"500000000\",\"850000000\",\"3853326.77707314\",\"50000000\",\"38540000 \",\"42000000\",\"228000000\",\"20000000\",\"60000000\",\"20000000\",\"33000000\",\"76500000\",\"28000000\",\"650659833\",\"5000000\",\"21000000\",\"144000000\",\"32514916898\",\"13000000\",\"3315789\",\"15000000\",\"78835200\",\"2714286\",\"25000000\",\"9999999\",\"500000000\",\"21000000\",\"9354000\",\"20000000\",\"100000000000\",\"21933333\",\"185000000\",\"55000000\",\"110000000\",\"3360000\",\"14524851.4827\",\"1000000000\",\"17000000\",\"1000000000\",\"100000000 \",\"21000000\",\"34426423\",\"2232901\",\"100000000\",\"36900000\",\"110000000\",\"4000000000\",\"110290030\",\"100000000\",\"48252000\",\"400000000\",\"500000000\",\"21212121\",\"28600000\",\"1000000000\",\"75000000000\",\"40000000\",\"35520400\",\"2000000000\",\"2500000000\",\"30000000\",\"105000000\",\"90000000000\",\"200084200\",\"72000000\",\"100000000\",\"105000000\",\"50000000000\",\"0\",\"340282367\",\"30000000\",\"2000000000\",\"10000000\",\"100000000\",\"120000000\",\"100000000\",\"19276800\",\"30000000\",\" 75000000\",\"60000000\",\"18900000\",\"50000000000\",\"54000000\",\"18898187.6216583\",\"21000000\",\"200000000000\",\"5000000000\",\"137500000\",\"1100000000\",\"100000000\",\"21000000\",\"9507271\",\"17405891.19707116\",\"86712634466\",\"10500000000\",\"61599965\",\"0\",\"20000000\",\"84000000\",\"100000000\",\"100000000\",\"48252000\",\"4200000\",\"88888888\",\"91388946\",\"45000000000\",\"27000000\",\"21000000000\",\"400000000\",\"1800000000\",\"15733333\",\"27000000\",\"24000000\",\"21000000\",\"25000000000\",\"100000000\",\"1200000000\",\"60000000\",\"156306732.71\",\"21000000\",\"200000000\",\"100000000\",\"21000000\",\"14788275.991\",\"9000000000\",\"350000000\",\"45000000\",\"280000000\",\"31800000\",\"57879300\",\"144000000\",\"500000000\",\"30000000000\",\"210000000\",\"660000000\",\"210000000\",\"85000000000\",\"12500000\",\"10000000000\",\"27716121\",\"100000000\",\"20000000\",\"550000000\",\"999481516\",\"50000000000\",\"150000000\",\"4999999999\",\"50000000\",\" 90000000000\",\"19800000\",\"50000000\",\"70000000\",\"21000000\",\"32000000\",\"120000000\",\"500000000\",\"64000000\",\"900000000\",\"4000000\",\"21000000\",\"25000000000\",\"23000000\",\"20166000\",\"23000000\",\"25000000\",\"1618033\",\"24000000\",\"30000000\",\"1000000000000\",\"16600000\",\"232000000\",\"336000000\",\"3980000000\",\"10000000000\",\"25000000\",\"100000000\",\"1100000000\",\"800000000\",\"5200000000\",\"840000000\",\"40000000\",\"18406979840\",\"72000000\",\"25000000\",\"69000000\",\"500000000\",\"19340594\",\"252460800\",\"25000000\",\"60000000\",\"124000000\",\"1000000000\",\"6500000000\",\"1000000000\",\"21000000\",\"10044655075.56243680\",\"25000000\",\"32000000\",\"11892000\",\"50000000\",\"3000000\",\"5000000\",\"70000000\",\"500000000\",\"300000000\",\"21000000\",\"88000000\",\"30000000\",\"21000000\",\"100000000\",\"100000000\",\"200000000\",\"80000000\",\"18400000\",\"45000000\",\"5121951220\",\"21000000\",\"26280000\",\"21000000\",\"18000000\",\"26000000\",\"10500000\",\"30000000\",\"110000000\",\"600000518\",\"8148139\",\"7500000\",\"150000000\",\"184000000000\",\"100000000\",\"10200000000\",\"62000000\",\"44000000\",\"168000000\",\"100000000\",\"1000000000\",\"84000000\",\"90000000\",\"92000000000\",\"650000000 \",\"250000000\",\"545399000\",\"100262205\",\"18081806 \",\"22075700\",\"21000000\",\"21000000\",\"15600000\",\"82546564\",\"21000000\",\"5151000\",\"16880000000\",\"52500000\",\"100000000\",\"22105263\",\"1000000000\",\"1000000000\",\"1750000000\",\"88188888\",\"210000000\",\"184470000000\",\"1000000000\",\"55000000\",\"50000000\",\"50000000\",\"260000000\",\"210000000\",\"2100000000\",\"366000000\",\"100000000\",\"25000000\",\"36500000\",\"18000000000\",\"21000000\",\"1000000000\",\"100000000\",\"1000000000\",\"7600000000\",\"50000000\",\"207000000\",\"84000000\",\"200000000\",\"21000000\",\"38000000\",\"64000000\",\"70000000000\",\"0\",\"8080000000\",\"54000000\",\"21000000\",\"105120001.44\",\"25228800\",\"7000000000\",\"105000000\",\"21000000\",\"120000000\",\"21000000\",\"262800000\",\"19035999\",\"30886000\",\"13370000\",\"74800000000\",\"32700000\",\"100000000\",\"19700000\",\"84000000\",\"500000000\",\"5000000000\",\"420000000\",\"64000000\",\"2100000\",\"168000000\",\"30000000\",\"1000000000\",\"10000000000\",\"35000000000\",\"98100000000\",\"0\",\"4000000000\",\"200000000\",\"7000000000\",\"54256119\",\"21000000\",\"0\",\"500000000\",\"1000000000\",\"10500000000\",\"190000000\",\"1000000000\",\"42000000\",\"15000000\",\"50000000000\",\"400000000\",\"105000000\",\"208000000\",\"160000000\",\"9000000\",\"5000000\",\"182000000\",\"16504333\",\"105000000\",\"159918400\",\"10008835635\",\"300000000\",\"60168145\",\"5000000000\",\"2800000\",\"120000\",\"2100000000\",\"210000000\",\"21000000\",\"0\",\"24487944\",\"0\",\"1000000000\",\"100000000000\",\"100000000\",\"8634140\",\"900000000\",\"990000000000\",\"11000000\",\"1000000000\",\"2000000000\",\"250000000\",\"1400222610\",\"21000000\",\"1000000\",\"100000000\"],\"TotalCoinsMined\":{\"__ndarray__\":\"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\",\"dtype\":\"float64\",\"order\":\"little\",\"shape\":[578]}},\"selected\":{\"id\":\"1114\"},\"selection_policy\":{\"id\":\"1148\"}},\"id\":\"1113\",\"type\":\"ColumnDataSource\"},{\"attributes\":{},\"id\":\"1120\",\"type\":\"StringFormatter\"},{\"attributes\":{},\"id\":\"1131\",\"type\":\"StringEditor\"},{\"attributes\":{\"margin\":[5,5,5,5],\"name\":\"HSpacer01006\",\"sizing_mode\":\"stretch_width\"},\"id\":\"1150\",\"type\":\"Spacer\"},{\"attributes\":{},\"id\":\"1130\",\"type\":\"StringFormatter\"},{\"attributes\":{\"editor\":{\"id\":\"1126\"},\"field\":\"ProofType\",\"formatter\":{\"id\":\"1125\"},\"title\":\"ProofType\"},\"id\":\"1127\",\"type\":\"TableColumn\"},{\"attributes\":{},\"id\":\"1121\",\"type\":\"StringEditor\"},{\"attributes\":{\"margin\":[5,5,5,5],\"name\":\"HSpacer01005\",\"sizing_mode\":\"stretch_width\"},\"id\":\"1112\",\"type\":\"Spacer\"},{\"attributes\":{},\"id\":\"1141\",\"type\":\"IntEditor\"},{\"attributes\":{\"editor\":{\"id\":\"1141\"},\"field\":\"Class\",\"formatter\":{\"id\":\"1140\"},\"title\":\"Class\"},\"id\":\"1142\",\"type\":\"TableColumn\"},{\"attributes\":{},\"id\":\"1126\",\"type\":\"StringEditor\"},{\"attributes\":{\"source\":{\"id\":\"1113\"}},\"id\":\"1147\",\"type\":\"CDSView\"},{\"attributes\":{\"editor\":{\"id\":\"1136\"},\"field\":\"TotalCoinsMined\",\"formatter\":{\"id\":\"1135\"},\"title\":\"TotalCoinsMined\"},\"id\":\"1137\",\"type\":\"TableColumn\"},{\"attributes\":{\"editor\":{\"id\":\"1131\"},\"field\":\"TotalCoinSupply\",\"formatter\":{\"id\":\"1130\"},\"title\":\"TotalCoinSupply\"},\"id\":\"1132\",\"type\":\"TableColumn\"},{\"attributes\":{\"editor\":{\"id\":\"1121\"},\"field\":\"Algorithm\",\"formatter\":{\"id\":\"1120\"},\"title\":\"Algorithm\"},\"id\":\"1122\",\"type\":\"TableColumn\"},{\"attributes\":{\"format\":\"0,0.0[00000]\"},\"id\":\"1135\",\"type\":\"NumberFormatter\"},{\"attributes\":{},\"id\":\"1125\",\"type\":\"StringFormatter\"},{\"attributes\":{\"columns\":[{\"id\":\"1117\"},{\"id\":\"1122\"},{\"id\":\"1127\"},{\"id\":\"1132\"},{\"id\":\"1137\"},{\"id\":\"1142\"}],\"height\":300,\"reorderable\":false,\"source\":{\"id\":\"1113\"},\"view\":{\"id\":\"1147\"},\"width\":700},\"id\":\"1145\",\"type\":\"DataTable\"},{\"attributes\":{},\"id\":\"1114\",\"type\":\"Selection\"},{\"attributes\":{\"children\":[{\"id\":\"1112\"},{\"id\":\"1145\"},{\"id\":\"1150\"}],\"margin\":[0,0,0,0],\"name\":\"Row01001\",\"tags\":[\"embedded\"]},\"id\":\"1111\",\"type\":\"Row\"},{\"attributes\":{},\"id\":\"1140\",\"type\":\"NumberFormatter\"},{\"attributes\":{},\"id\":\"1136\",\"type\":\"NumberEditor\"},{\"attributes\":{},\"id\":\"1148\",\"type\":\"UnionRenderers\"},{\"attributes\":{},\"id\":\"1115\",\"type\":\"StringFormatter\"},{\"attributes\":{},\"id\":\"1116\",\"type\":\"StringEditor\"}],\"root_ids\":[\"1111\"]},\"title\":\"Bokeh Application\",\"version\":\"2.4.3\"}};\n",
       "    var render_items = [{\"docid\":\"120a6412-b038-4d84-ba4c-3671652e64df\",\"root_ids\":[\"1111\"],\"roots\":{\"1111\":\"4f3b0dd3-3134-423d-8718-756fd1767802\"}}];\n",
       "    root.Bokeh.embed.embed_items_notebook(docs_json, render_items);\n",
       "  }\n",
       "  if (root.Bokeh !== undefined && root.Bokeh.Panel !== undefined) {\n",
       "    embed_document(root);\n",
       "  } else {\n",
       "    var attempts = 0;\n",
       "    var timer = setInterval(function(root) {\n",
       "      if (root.Bokeh !== undefined && root.Bokeh.Panel !== undefined) {\n",
       "        clearInterval(timer);\n",
       "        embed_document(root);\n",
       "      } else if (document.readyState == \"complete\") {\n",
       "        attempts++;\n",
       "        if (attempts > 200) {\n",
       "          clearInterval(timer);\n",
       "          console.log(\"Bokeh: ERROR: Unable to run BokehJS code because BokehJS library is missing\");\n",
       "        }\n",
       "      }\n",
       "    }, 25, root)\n",
       "  }\n",
       "})(window);</script>"
      ],
      "text/plain": [
       ":Table   [CoinName,Algorithm,ProofType,TotalCoinSupply,TotalCoinsMined,Class]"
      ]
     },
     "execution_count": 134,
     "metadata": {
      "application/vnd.holoviews_exec.v0+json": {
       "id": "1111"
      }
     },
     "output_type": "execute_result"
    }
   ],
   "source": [
    "# Create a table with tradable cryptocurrencies.\n",
    "\n",
    "clustered_df.hvplot.table(columns=[\"CoinName\", \"Algorithm\", \"ProofType\", \"TotalCoinSupply\", \"TotalCoinsMined\", \"Class\"], sortable=True, selectable=True)"
   ]
  },
  {
   "cell_type": "code",
   "execution_count": 170,
   "metadata": {},
   "outputs": [
    {
     "name": "stdout",
     "output_type": "stream",
     "text": [
      "1\n",
      "There are 577 tradable cryptocurrencies\n"
     ]
    }
   ],
   "source": [
    "# Print the total number of tradable cryptocurrencies.\n",
    "\n",
    "# Search for duplicate cryptocurrencies\n",
    "print(clustered_df[\"CoinName\"].duplicated().sum())\n",
    "\n",
    "print(f\"There are {len(clustered_df)-1} tradable cryptocurrencies\")"
   ]
  },
  {
   "cell_type": "code",
   "execution_count": 171,
   "metadata": {},
   "outputs": [
    {
     "ename": "KeyError",
     "evalue": "('TotalCoinSupply', 'TotalCoinsMined')",
     "output_type": "error",
     "traceback": [
      "\u001b[1;31m---------------------------------------------------------------------------\u001b[0m",
      "\u001b[1;31mKeyError\u001b[0m                                  Traceback (most recent call last)",
      "\u001b[1;32m~\\anaconda3\\envs\\mlenv\\lib\\site-packages\\pandas\\core\\indexes\\base.py\u001b[0m in \u001b[0;36mget_loc\u001b[1;34m(self, key, method, tolerance)\u001b[0m\n\u001b[0;32m   3360\u001b[0m             \u001b[1;32mtry\u001b[0m\u001b[1;33m:\u001b[0m\u001b[1;33m\u001b[0m\u001b[1;33m\u001b[0m\u001b[0m\n\u001b[1;32m-> 3361\u001b[1;33m                 \u001b[1;32mreturn\u001b[0m \u001b[0mself\u001b[0m\u001b[1;33m.\u001b[0m\u001b[0m_engine\u001b[0m\u001b[1;33m.\u001b[0m\u001b[0mget_loc\u001b[0m\u001b[1;33m(\u001b[0m\u001b[0mcasted_key\u001b[0m\u001b[1;33m)\u001b[0m\u001b[1;33m\u001b[0m\u001b[1;33m\u001b[0m\u001b[0m\n\u001b[0m\u001b[0;32m   3362\u001b[0m             \u001b[1;32mexcept\u001b[0m \u001b[0mKeyError\u001b[0m \u001b[1;32mas\u001b[0m \u001b[0merr\u001b[0m\u001b[1;33m:\u001b[0m\u001b[1;33m\u001b[0m\u001b[1;33m\u001b[0m\u001b[0m\n",
      "\u001b[1;32m~\\anaconda3\\envs\\mlenv\\lib\\site-packages\\pandas\\_libs\\index.pyx\u001b[0m in \u001b[0;36mpandas._libs.index.IndexEngine.get_loc\u001b[1;34m()\u001b[0m\n",
      "\u001b[1;32m~\\anaconda3\\envs\\mlenv\\lib\\site-packages\\pandas\\_libs\\index.pyx\u001b[0m in \u001b[0;36mpandas._libs.index.IndexEngine.get_loc\u001b[1;34m()\u001b[0m\n",
      "\u001b[1;32mpandas\\_libs\\hashtable_class_helper.pxi\u001b[0m in \u001b[0;36mpandas._libs.hashtable.PyObjectHashTable.get_item\u001b[1;34m()\u001b[0m\n",
      "\u001b[1;32mpandas\\_libs\\hashtable_class_helper.pxi\u001b[0m in \u001b[0;36mpandas._libs.hashtable.PyObjectHashTable.get_item\u001b[1;34m()\u001b[0m\n",
      "\u001b[1;31mKeyError\u001b[0m: ('TotalCoinSupply', 'TotalCoinsMined')",
      "\nThe above exception was the direct cause of the following exception:\n",
      "\u001b[1;31mKeyError\u001b[0m                                  Traceback (most recent call last)",
      "\u001b[1;32m~\\AppData\\Local\\Temp\\ipykernel_19852\\292762966.py\u001b[0m in \u001b[0;36m<module>\u001b[1;34m\u001b[0m\n\u001b[0;32m      1\u001b[0m \u001b[1;31m# Scaling data to create the scatter plot with tradable cryptocurrencies.\u001b[0m\u001b[1;33m\u001b[0m\u001b[1;33m\u001b[0m\u001b[1;33m\u001b[0m\u001b[0m\n\u001b[0;32m      2\u001b[0m \u001b[1;33m\u001b[0m\u001b[0m\n\u001b[1;32m----> 3\u001b[1;33m \u001b[0mdata\u001b[0m \u001b[1;33m=\u001b[0m \u001b[0mclustered_df\u001b[0m\u001b[1;33m[\u001b[0m\u001b[1;34m\"TotalCoinSupply\"\u001b[0m\u001b[1;33m,\u001b[0m \u001b[1;34m\"TotalCoinsMined\"\u001b[0m\u001b[1;33m]\u001b[0m\u001b[1;33m\u001b[0m\u001b[1;33m\u001b[0m\u001b[0m\n\u001b[0m\u001b[0;32m      4\u001b[0m \u001b[0mscaler\u001b[0m \u001b[1;33m=\u001b[0m \u001b[0mMinMaxScaler\u001b[0m\u001b[1;33m(\u001b[0m\u001b[1;33m)\u001b[0m\u001b[1;33m\u001b[0m\u001b[1;33m\u001b[0m\u001b[0m\n",
      "\u001b[1;32m~\\anaconda3\\envs\\mlenv\\lib\\site-packages\\pandas\\core\\frame.py\u001b[0m in \u001b[0;36m__getitem__\u001b[1;34m(self, key)\u001b[0m\n\u001b[0;32m   3456\u001b[0m             \u001b[1;32mif\u001b[0m \u001b[0mself\u001b[0m\u001b[1;33m.\u001b[0m\u001b[0mcolumns\u001b[0m\u001b[1;33m.\u001b[0m\u001b[0mnlevels\u001b[0m \u001b[1;33m>\u001b[0m \u001b[1;36m1\u001b[0m\u001b[1;33m:\u001b[0m\u001b[1;33m\u001b[0m\u001b[1;33m\u001b[0m\u001b[0m\n\u001b[0;32m   3457\u001b[0m                 \u001b[1;32mreturn\u001b[0m \u001b[0mself\u001b[0m\u001b[1;33m.\u001b[0m\u001b[0m_getitem_multilevel\u001b[0m\u001b[1;33m(\u001b[0m\u001b[0mkey\u001b[0m\u001b[1;33m)\u001b[0m\u001b[1;33m\u001b[0m\u001b[1;33m\u001b[0m\u001b[0m\n\u001b[1;32m-> 3458\u001b[1;33m             \u001b[0mindexer\u001b[0m \u001b[1;33m=\u001b[0m \u001b[0mself\u001b[0m\u001b[1;33m.\u001b[0m\u001b[0mcolumns\u001b[0m\u001b[1;33m.\u001b[0m\u001b[0mget_loc\u001b[0m\u001b[1;33m(\u001b[0m\u001b[0mkey\u001b[0m\u001b[1;33m)\u001b[0m\u001b[1;33m\u001b[0m\u001b[1;33m\u001b[0m\u001b[0m\n\u001b[0m\u001b[0;32m   3459\u001b[0m             \u001b[1;32mif\u001b[0m \u001b[0mis_integer\u001b[0m\u001b[1;33m(\u001b[0m\u001b[0mindexer\u001b[0m\u001b[1;33m)\u001b[0m\u001b[1;33m:\u001b[0m\u001b[1;33m\u001b[0m\u001b[1;33m\u001b[0m\u001b[0m\n\u001b[0;32m   3460\u001b[0m                 \u001b[0mindexer\u001b[0m \u001b[1;33m=\u001b[0m \u001b[1;33m[\u001b[0m\u001b[0mindexer\u001b[0m\u001b[1;33m]\u001b[0m\u001b[1;33m\u001b[0m\u001b[1;33m\u001b[0m\u001b[0m\n",
      "\u001b[1;32m~\\anaconda3\\envs\\mlenv\\lib\\site-packages\\pandas\\core\\indexes\\base.py\u001b[0m in \u001b[0;36mget_loc\u001b[1;34m(self, key, method, tolerance)\u001b[0m\n\u001b[0;32m   3361\u001b[0m                 \u001b[1;32mreturn\u001b[0m \u001b[0mself\u001b[0m\u001b[1;33m.\u001b[0m\u001b[0m_engine\u001b[0m\u001b[1;33m.\u001b[0m\u001b[0mget_loc\u001b[0m\u001b[1;33m(\u001b[0m\u001b[0mcasted_key\u001b[0m\u001b[1;33m)\u001b[0m\u001b[1;33m\u001b[0m\u001b[1;33m\u001b[0m\u001b[0m\n\u001b[0;32m   3362\u001b[0m             \u001b[1;32mexcept\u001b[0m \u001b[0mKeyError\u001b[0m \u001b[1;32mas\u001b[0m \u001b[0merr\u001b[0m\u001b[1;33m:\u001b[0m\u001b[1;33m\u001b[0m\u001b[1;33m\u001b[0m\u001b[0m\n\u001b[1;32m-> 3363\u001b[1;33m                 \u001b[1;32mraise\u001b[0m \u001b[0mKeyError\u001b[0m\u001b[1;33m(\u001b[0m\u001b[0mkey\u001b[0m\u001b[1;33m)\u001b[0m \u001b[1;32mfrom\u001b[0m \u001b[0merr\u001b[0m\u001b[1;33m\u001b[0m\u001b[1;33m\u001b[0m\u001b[0m\n\u001b[0m\u001b[0;32m   3364\u001b[0m \u001b[1;33m\u001b[0m\u001b[0m\n\u001b[0;32m   3365\u001b[0m         \u001b[1;32mif\u001b[0m \u001b[0mis_scalar\u001b[0m\u001b[1;33m(\u001b[0m\u001b[0mkey\u001b[0m\u001b[1;33m)\u001b[0m \u001b[1;32mand\u001b[0m \u001b[0misna\u001b[0m\u001b[1;33m(\u001b[0m\u001b[0mkey\u001b[0m\u001b[1;33m)\u001b[0m \u001b[1;32mand\u001b[0m \u001b[1;32mnot\u001b[0m \u001b[0mself\u001b[0m\u001b[1;33m.\u001b[0m\u001b[0mhasnans\u001b[0m\u001b[1;33m:\u001b[0m\u001b[1;33m\u001b[0m\u001b[1;33m\u001b[0m\u001b[0m\n",
      "\u001b[1;31mKeyError\u001b[0m: ('TotalCoinSupply', 'TotalCoinsMined')"
     ]
    }
   ],
   "source": [
    "# Scaling data to create the scatter plot with tradable cryptocurrencies.\n",
    "\n",
    "data = clustered_df[\"TotalCoinSupply\", \"TotalCoinsMined\"]\n",
    "scaler = MinMaxScaler()"
   ]
  },
  {
   "cell_type": "code",
   "execution_count": 21,
   "metadata": {},
   "outputs": [
    {
     "data": {
      "text/html": [
       "<div>\n",
       "<style scoped>\n",
       "    .dataframe tbody tr th:only-of-type {\n",
       "        vertical-align: middle;\n",
       "    }\n",
       "\n",
       "    .dataframe tbody tr th {\n",
       "        vertical-align: top;\n",
       "    }\n",
       "\n",
       "    .dataframe thead th {\n",
       "        text-align: right;\n",
       "    }\n",
       "</style>\n",
       "<table border=\"1\" class=\"dataframe\">\n",
       "  <thead>\n",
       "    <tr style=\"text-align: right;\">\n",
       "      <th></th>\n",
       "      <th>TotalCoinSupply</th>\n",
       "      <th>TotalCoinsMined</th>\n",
       "      <th>CoinName</th>\n",
       "      <th>Class</th>\n",
       "    </tr>\n",
       "  </thead>\n",
       "  <tbody>\n",
       "    <tr>\n",
       "      <th>42</th>\n",
       "      <td>4.200000e-11</td>\n",
       "      <td>0.000000</td>\n",
       "      <td>42 Coin</td>\n",
       "      <td>0</td>\n",
       "    </tr>\n",
       "    <tr>\n",
       "      <th>404</th>\n",
       "      <td>5.320000e-04</td>\n",
       "      <td>0.001066</td>\n",
       "      <td>404Coin</td>\n",
       "      <td>0</td>\n",
       "    </tr>\n",
       "    <tr>\n",
       "      <th>1337</th>\n",
       "      <td>3.141593e-01</td>\n",
       "      <td>0.029576</td>\n",
       "      <td>EliteCoin</td>\n",
       "      <td>0</td>\n",
       "    </tr>\n",
       "    <tr>\n",
       "      <th>BTC</th>\n",
       "      <td>2.100000e-05</td>\n",
       "      <td>0.000018</td>\n",
       "      <td>Bitcoin</td>\n",
       "      <td>1</td>\n",
       "    </tr>\n",
       "    <tr>\n",
       "      <th>ETH</th>\n",
       "      <td>0.000000e+00</td>\n",
       "      <td>0.000109</td>\n",
       "      <td>Ethereum</td>\n",
       "      <td>1</td>\n",
       "    </tr>\n",
       "    <tr>\n",
       "      <th>LTC</th>\n",
       "      <td>8.400000e-05</td>\n",
       "      <td>0.000064</td>\n",
       "      <td>Litecoin</td>\n",
       "      <td>1</td>\n",
       "    </tr>\n",
       "    <tr>\n",
       "      <th>DASH</th>\n",
       "      <td>2.200000e-05</td>\n",
       "      <td>0.000009</td>\n",
       "      <td>Dash</td>\n",
       "      <td>0</td>\n",
       "    </tr>\n",
       "    <tr>\n",
       "      <th>XMR</th>\n",
       "      <td>0.000000e+00</td>\n",
       "      <td>0.000017</td>\n",
       "      <td>Monero</td>\n",
       "      <td>1</td>\n",
       "    </tr>\n",
       "    <tr>\n",
       "      <th>ETC</th>\n",
       "      <td>2.100000e-04</td>\n",
       "      <td>0.000115</td>\n",
       "      <td>Ethereum Classic</td>\n",
       "      <td>1</td>\n",
       "    </tr>\n",
       "    <tr>\n",
       "      <th>ZEC</th>\n",
       "      <td>2.100000e-05</td>\n",
       "      <td>0.000007</td>\n",
       "      <td>ZCash</td>\n",
       "      <td>1</td>\n",
       "    </tr>\n",
       "  </tbody>\n",
       "</table>\n",
       "</div>"
      ],
      "text/plain": [
       "      TotalCoinSupply  TotalCoinsMined          CoinName  Class\n",
       "42       4.200000e-11         0.000000           42 Coin      0\n",
       "404      5.320000e-04         0.001066           404Coin      0\n",
       "1337     3.141593e-01         0.029576         EliteCoin      0\n",
       "BTC      2.100000e-05         0.000018           Bitcoin      1\n",
       "ETH      0.000000e+00         0.000109          Ethereum      1\n",
       "LTC      8.400000e-05         0.000064          Litecoin      1\n",
       "DASH     2.200000e-05         0.000009              Dash      0\n",
       "XMR      0.000000e+00         0.000017            Monero      1\n",
       "ETC      2.100000e-04         0.000115  Ethereum Classic      1\n",
       "ZEC      2.100000e-05         0.000007             ZCash      1"
      ]
     },
     "execution_count": 21,
     "metadata": {},
     "output_type": "execute_result"
    }
   ],
   "source": [
    "# Create a new DataFrame that has the scaled data with the clustered_df DataFrame index.\n",
    "# YOUR CODE HERE\n",
    "\n",
    "# Add the \"CoinName\" column from the clustered_df DataFrame to the new DataFrame.\n",
    "# YOUR CODE HERE\n",
    "\n",
    "# Add the \"Class\" column from the clustered_df DataFrame to the new DataFrame. \n",
    "# YOUR CODE HERE\n",
    "\n",
    "plot_df.head(10)"
   ]
  },
  {
   "cell_type": "code",
   "execution_count": 22,
   "metadata": {},
   "outputs": [
    {
     "data": {},
     "metadata": {},
     "output_type": "display_data"
    },
    {
     "data": {
      "application/vnd.holoviews_exec.v0+json": "",
      "text/html": [
       "<div id='1154'>\n",
       "\n",
       "\n",
       "\n",
       "\n",
       "\n",
       "  <div class=\"bk-root\" id=\"957b137a-5de5-4a19-9126-474fce87e793\" data-root-id=\"1154\"></div>\n",
       "</div>\n",
       "<script type=\"application/javascript\">(function(root) {\n",
       "  function embed_document(root) {\n",
       "  var docs_json = {\"8afcf9e5-6eee-42e8-8357-c9287dd41e03\":{\"roots\":{\"references\":[{\"attributes\":{},\"id\":\"1252\",\"type\":\"UnionRenderers\"},{\"attributes\":{\"text\":\"\",\"text_color\":{\"value\":\"black\"},\"text_font_size\":{\"value\":\"12pt\"}},\"id\":\"1163\",\"type\":\"Title\"},{\"attributes\":{\"data_source\":{\"id\":\"1196\"},\"glyph\":{\"id\":\"1199\"},\"hover_glyph\":null,\"muted_glyph\":{\"id\":\"1201\"},\"nonselection_glyph\":{\"id\":\"1200\"},\"selection_glyph\":null,\"view\":{\"id\":\"1203\"}},\"id\":\"1202\",\"type\":\"GlyphRenderer\"},{\"attributes\":{\"label\":{\"value\":\"2\"},\"renderers\":[{\"id\":\"1239\"}]},\"id\":\"1253\",\"type\":\"LegendItem\"},{\"attributes\":{\"fill_color\":{\"value\":\"#ff7e0e\"},\"line_color\":{\"value\":\"#ff7e0e\"},\"size\":{\"units\":\"screen\",\"value\":5.477225575051661},\"x\":{\"field\":\"TotalCoinsMined\"},\"y\":{\"field\":\"TotalCoinSupply\"}},\"id\":\"1217\",\"type\":\"Scatter\"},{\"attributes\":{},\"id\":\"1179\",\"type\":\"SaveTool\"},{\"attributes\":{},\"id\":\"1195\",\"type\":\"BasicTickFormatter\"},{\"attributes\":{\"data\":{\"Class\":[3,3,3,3],\"CoinName\":[\"BiblePay\",\"LitecoinCash\",\"Poa Network\",\"Waves\"],\"TotalCoinSupply\":{\"__ndarray__\":\"lPYGX5hMdT+8eapDboZLP4RaKOGWizA/LEMc6+I2Gj8=\",\"dtype\":\"float64\",\"order\":\"little\",\"shape\":[4]},\"TotalCoinsMined\":{\"__ndarray__\":\"j1gNkdpTXT+QpMXySiFFP5wZJXiPEis/+0V+YL96Gj8=\",\"dtype\":\"float64\",\"order\":\"little\",\"shape\":[4]}},\"selected\":{\"id\":\"1255\"},\"selection_policy\":{\"id\":\"1275\"}},\"id\":\"1254\",\"type\":\"ColumnDataSource\"},{\"attributes\":{},\"id\":\"1181\",\"type\":\"WheelZoomTool\"},{\"attributes\":{\"overlay\":{\"id\":\"1184\"}},\"id\":\"1182\",\"type\":\"BoxZoomTool\"},{\"attributes\":{\"callback\":null,\"renderers\":[{\"id\":\"1202\"},{\"id\":\"1220\"},{\"id\":\"1239\"},{\"id\":\"1260\"}],\"tags\":[\"hv_created\"],\"tooltips\":[[\"Class\",\"@{Class}\"],[\"TotalCoinsMined\",\"@{TotalCoinsMined}\"],[\"TotalCoinSupply\",\"@{TotalCoinSupply}\"],[\"CoinName\",\"@{CoinName}\"]]},\"id\":\"1158\",\"type\":\"HoverTool\"},{\"attributes\":{},\"id\":\"1275\",\"type\":\"UnionRenderers\"},{\"attributes\":{\"fill_alpha\":{\"value\":0.1},\"fill_color\":{\"value\":\"#ff7e0e\"},\"line_alpha\":{\"value\":0.1},\"line_color\":{\"value\":\"#ff7e0e\"},\"size\":{\"units\":\"screen\",\"value\":5.477225575051661},\"x\":{\"field\":\"TotalCoinsMined\"},\"y\":{\"field\":\"TotalCoinSupply\"}},\"id\":\"1218\",\"type\":\"Scatter\"},{\"attributes\":{},\"id\":\"1211\",\"type\":\"UnionRenderers\"},{\"attributes\":{\"align\":null,\"below\":[{\"id\":\"1171\"}],\"center\":[{\"id\":\"1174\"},{\"id\":\"1178\"}],\"left\":[{\"id\":\"1175\"}],\"margin\":null,\"min_border_bottom\":10,\"min_border_left\":10,\"min_border_right\":10,\"min_border_top\":10,\"plot_height\":300,\"plot_width\":700,\"renderers\":[{\"id\":\"1202\"},{\"id\":\"1220\"},{\"id\":\"1239\"},{\"id\":\"1260\"}],\"right\":[{\"id\":\"1212\"}],\"sizing_mode\":\"fixed\",\"title\":{\"id\":\"1163\"},\"toolbar\":{\"id\":\"1185\"},\"x_range\":{\"id\":\"1156\"},\"x_scale\":{\"id\":\"1167\"},\"y_range\":{\"id\":\"1157\"},\"y_scale\":{\"id\":\"1169\"}},\"id\":\"1162\",\"subtype\":\"Figure\",\"type\":\"Plot\"},{\"attributes\":{\"source\":{\"id\":\"1196\"}},\"id\":\"1203\",\"type\":\"CDSView\"},{\"attributes\":{\"data\":{\"Class\":[1,1,1,1,1,1,1,1,1,1,1,1,1,1,1,1,1,1,1,1,1,1,1,1,1,1,1,1,1,1,1,1,1,1,1,1,1,1,1,1,1,1,1,1,1,1,1,1,1,1,1,1,1,1,1,1,1,1,1,1,1,1,1,1,1,1,1,1,1,1,1,1,1,1,1,1,1,1,1,1,1,1,1,1,1,1,1,1,1,1,1,1,1,1,1,1,1,1,1,1,1,1,1,1,1,1,1,1,1,1,1,1,1,1,1,1,1,1,1,1,1,1,1,1,1,1,1,1,1,1,1,1,1,1,1,1,1,1,1,1,1,1,1,1,1,1,1,1,1,1,1,1,1,1,1,1,1,1,1,1,1,1,1,1,1,1,1,1,1,1,1,1,1,1,1,1,1,1,1,1,1,1,1,1,1,1,1,1,1,1,1,1,1,1,1,1,1,1,1,1,1,1,1,1,1,1,1,1,1,1,1,1,1,1,1,1,1,1,1,1,1,1,1,1,1,1,1,1,1,1,1,1,1,1,1,1,1,1],\"CoinName\":[\"Bitcoin\",\"Ethereum\",\"Litecoin\",\"Monero\",\"Ethereum Classic\",\"ZCash\",\"DigiByte\",\"ProsperCoin\",\"Spreadcoin\",\"Argentum\",\"MyriadCoin\",\"MoonCoin\",\"ZetaCoin\",\"SexCoin\",\"Quatloo\",\"QuarkCoin\",\"Riecoin\",\"Digitalcoin \",\"Catcoin\",\"CannaCoin\",\"CryptCoin\",\"Verge\",\"DevCoin\",\"EarthCoin\",\"E-Gulden\",\"Einsteinium\",\"Emerald\",\"Franko\",\"FeatherCoin\",\"GrandCoin\",\"GlobalCoin\",\"GoldCoin\",\"Infinite Coin\",\"IXcoin\",\"KrugerCoin\",\"LuckyCoin\",\"Litebar \",\"MegaCoin\",\"MediterraneanCoin\",\"MinCoin\",\"NobleCoin\",\"Namecoin\",\"NyanCoin\",\"RonPaulCoin\",\"StableCoin\",\"SmartCoin\",\"SysCoin\",\"TigerCoin\",\"TerraCoin\",\"UnbreakableCoin\",\"Unobtanium\",\"UroCoin\",\"ViaCoin\",\"Vertcoin\",\"WorldCoin\",\"JouleCoin\",\"ByteCoin\",\"DigitalNote \",\"MonaCoin\",\"Gulden\",\"PesetaCoin\",\"Wild Beast Coin\",\"Flo\",\"ArtByte\",\"Folding Coin\",\"Unitus\",\"CypherPunkCoin\",\"OmniCron\",\"GreenCoin\",\"Cryptonite\",\"MasterCoin\",\"SoonCoin\",\"1Credit\",\"MarsCoin \",\"Crypto\",\"Anarchists Prime\",\"BowsCoin\",\"Song Coin\",\"BitZeny\",\"Expanse\",\"Siacoin\",\"MindCoin\",\"I0coin\",\"Revolution VR\",\"HOdlcoin\",\"Gamecredits\",\"CarpeDiemCoin\",\"Adzcoin\",\"SoilCoin\",\"YoCoin\",\"SibCoin\",\"Francs\",\"BolivarCoin\",\"Omni\",\"PizzaCoin\",\"Komodo\",\"Karbo\",\"ZayedCoin\",\"Circuits of Value\",\"DopeCoin\",\"DollarCoin\",\"Shilling\",\"ZCoin\",\"Elementrem\",\"ZClassic\",\"KiloCoin\",\"ArtexCoin\",\"Kurrent\",\"Cannabis Industry Coin\",\"OsmiumCoin\",\"Bikercoins\",\"HexxCoin\",\"PacCoin\",\"Citadel\",\"BeaverCoin\",\"VaultCoin\",\"Zero\",\"Canada eCoin\",\"Zoin\",\"DubaiCoin\",\"EB3coin\",\"Coinonat\",\"BenjiRolls\",\"ILCoin\",\"EquiTrader\",\"Quantum Resistant Ledger\",\"Dynamic\",\"Nano\",\"ChanCoin\",\"Dinastycoin\",\"DigitalPrice\",\"Unify\",\"SocialCoin\",\"ArcticCoin\",\"DAS\",\"LeviarCoin\",\"Bitcore\",\"gCn Coin\",\"SmartCash\",\"Onix\",\"Bitcoin Cash\",\"Sojourn Coin\",\"NewYorkCoin\",\"FrazCoin\",\"Kronecoin\",\"AdCoin\",\"Linx\",\"Sumokoin\",\"BitcoinZ\",\"Elements\",\"VIVO Coin\",\"Bitcoin Gold\",\"Pirl\",\"eBoost\",\"Pura\",\"Innova\",\"Ellaism\",\"GoByte\",\"SHIELD\",\"UltraNote\",\"BitCoal\",\"DaxxCoin\",\"AC3\",\"Lethean\",\"PopularCoin\",\"Photon\",\"Sucre\",\"SparksPay\",\"GunCoin\",\"IrishCoin\",\"Pioneer Coin\",\"UnitedBitcoin\",\"Interzone\",\"TurtleCoin\",\"MUNcoin\",\"Niobio Cash\",\"ShareChain\",\"Travelflex\",\"KREDS\",\"BitFlip\",\"LottoCoin\",\"Crypto Improvement Fund\",\"Callisto Network\",\"BitTube\",\"Poseidon\",\"Aidos Kuneen\",\"Bitrolium\",\"Alpenschillling\",\"FuturoCoin\",\"Monero Classic\",\"Jumpcoin\",\"Infinex\",\"KEYCO\",\"GINcoin\",\"PlatinCoin\",\"Loki\",\"Newton Coin\",\"MassGrid\",\"PluraCoin\",\"Motion\",\"PlusOneCoin\",\"Axe\",\"HexCoin\",\"Webchain\",\"Ryo\",\"Urals Coin\",\"Qwertycoin\",\"Project Pai\",\"Azart\",\"Xchange\",\"CrypticCoin\",\"Actinium\",\"Bitcoin SV\",\"FREDEnergy\",\"Universal Molecule\",\"Lithium\",\"Exosis\",\"Block-Logic\",\"Beam\",\"Bithereum\",\"SLICE\",\"BLAST\",\"Bitcoin Rhodium\",\"GlobalToken\",\"SolarCoin\",\"UFO Coin\",\"BlakeCoin\",\"Crypto Escudo\",\"Crown Coin\",\"SmileyCoin\",\"Groestlcoin\",\"Bata\",\"Pakcoin\",\"JoinCoin\",\"Vollar\",\"Reality Clash\",\"Beldex\",\"Horizen\"],\"TotalCoinSupply\":{\"__ndarray__\":\"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\",\"dtype\":\"float64\",\"order\":\"little\",\"shape\":[238]},\"TotalCoinsMined\":{\"__ndarray__\":\"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\",\"dtype\":\"float64\",\"order\":\"little\",\"shape\":[238]}},\"selected\":{\"id\":\"1215\"},\"selection_policy\":{\"id\":\"1231\"}},\"id\":\"1214\",\"type\":\"ColumnDataSource\"},{\"attributes\":{\"data\":{\"Class\":[2],\"CoinName\":[\"BitTorrent\"],\"TotalCoinSupply\":{\"__ndarray__\":\"rkfhehSu7z8=\",\"dtype\":\"float64\",\"order\":\"little\",\"shape\":[1]},\"TotalCoinsMined\":{\"__ndarray__\":\"AAAAAAAA8D8=\",\"dtype\":\"float64\",\"order\":\"little\",\"shape\":[1]}},\"selected\":{\"id\":\"1234\"},\"selection_policy\":{\"id\":\"1252\"}},\"id\":\"1233\",\"type\":\"ColumnDataSource\"},{\"attributes\":{},\"id\":\"1176\",\"type\":\"BasicTicker\"},{\"attributes\":{\"axis_label\":\"TotalCoinSupply\",\"bounds\":\"auto\",\"formatter\":{\"id\":\"1195\"},\"major_label_orientation\":\"horizontal\",\"ticker\":{\"id\":\"1176\"}},\"id\":\"1175\",\"type\":\"LinearAxis\"},{\"attributes\":{},\"id\":\"1193\",\"type\":\"BasicTickFormatter\"},{\"attributes\":{},\"id\":\"1183\",\"type\":\"ResetTool\"},{\"attributes\":{\"children\":[{\"id\":\"1155\"},{\"id\":\"1162\"},{\"id\":\"1403\"}],\"margin\":[0,0,0,0],\"name\":\"Row01877\",\"tags\":[\"embedded\"]},\"id\":\"1154\",\"type\":\"Row\"},{\"attributes\":{\"end\":1.1,\"reset_end\":1.1,\"reset_start\":-0.1,\"start\":-0.1,\"tags\":[[[\"TotalCoinSupply\",\"TotalCoinSupply\",null]]]},\"id\":\"1157\",\"type\":\"Range1d\"},{\"attributes\":{\"label\":{\"value\":\"3\"},\"renderers\":[{\"id\":\"1260\"}]},\"id\":\"1276\",\"type\":\"LegendItem\"},{\"attributes\":{},\"id\":\"1231\",\"type\":\"UnionRenderers\"},{\"attributes\":{\"margin\":[5,5,5,5],\"name\":\"HSpacer01882\",\"sizing_mode\":\"stretch_width\"},\"id\":\"1403\",\"type\":\"Spacer\"},{\"attributes\":{\"axis\":{\"id\":\"1171\"},\"grid_line_color\":null,\"ticker\":null},\"id\":\"1174\",\"type\":\"Grid\"},{\"attributes\":{\"data_source\":{\"id\":\"1233\"},\"glyph\":{\"id\":\"1236\"},\"hover_glyph\":null,\"muted_glyph\":{\"id\":\"1238\"},\"nonselection_glyph\":{\"id\":\"1237\"},\"selection_glyph\":null,\"view\":{\"id\":\"1240\"}},\"id\":\"1239\",\"type\":\"GlyphRenderer\"},{\"attributes\":{\"margin\":[5,5,5,5],\"name\":\"HSpacer01881\",\"sizing_mode\":\"stretch_width\"},\"id\":\"1155\",\"type\":\"Spacer\"},{\"attributes\":{\"fill_color\":{\"value\":\"#2ba02b\"},\"line_color\":{\"value\":\"#2ba02b\"},\"size\":{\"units\":\"screen\",\"value\":5.477225575051661},\"x\":{\"field\":\"TotalCoinsMined\"},\"y\":{\"field\":\"TotalCoinSupply\"}},\"id\":\"1236\",\"type\":\"Scatter\"},{\"attributes\":{},\"id\":\"1255\",\"type\":\"Selection\"},{\"attributes\":{\"label\":{\"value\":\"1\"},\"renderers\":[{\"id\":\"1220\"}]},\"id\":\"1232\",\"type\":\"LegendItem\"},{\"attributes\":{},\"id\":\"1234\",\"type\":\"Selection\"},{\"attributes\":{},\"id\":\"1167\",\"type\":\"LinearScale\"},{\"attributes\":{\"fill_alpha\":{\"value\":0.2},\"fill_color\":{\"value\":\"#1f77b3\"},\"line_alpha\":{\"value\":0.2},\"line_color\":{\"value\":\"#1f77b3\"},\"size\":{\"units\":\"screen\",\"value\":5.477225575051661},\"x\":{\"field\":\"TotalCoinsMined\"},\"y\":{\"field\":\"TotalCoinSupply\"}},\"id\":\"1201\",\"type\":\"Scatter\"},{\"attributes\":{\"data_source\":{\"id\":\"1214\"},\"glyph\":{\"id\":\"1217\"},\"hover_glyph\":null,\"muted_glyph\":{\"id\":\"1219\"},\"nonselection_glyph\":{\"id\":\"1218\"},\"selection_glyph\":null,\"view\":{\"id\":\"1221\"}},\"id\":\"1220\",\"type\":\"GlyphRenderer\"},{\"attributes\":{\"active_drag\":\"auto\",\"active_inspect\":\"auto\",\"active_multi\":null,\"active_scroll\":\"auto\",\"active_tap\":\"auto\",\"tools\":[{\"id\":\"1158\"},{\"id\":\"1179\"},{\"id\":\"1180\"},{\"id\":\"1181\"},{\"id\":\"1182\"},{\"id\":\"1183\"}]},\"id\":\"1185\",\"type\":\"Toolbar\"},{\"attributes\":{\"end\":1.042857142857143,\"reset_end\":1.042857142857143,\"reset_start\":-0.04285714285714286,\"start\":-0.04285714285714286,\"tags\":[[[\"TotalCoinsMined\",\"TotalCoinsMined\",null]]]},\"id\":\"1156\",\"type\":\"Range1d\"},{\"attributes\":{},\"id\":\"1169\",\"type\":\"LinearScale\"},{\"attributes\":{\"fill_color\":{\"value\":\"#1f77b3\"},\"line_color\":{\"value\":\"#1f77b3\"},\"size\":{\"units\":\"screen\",\"value\":5.477225575051661},\"x\":{\"field\":\"TotalCoinsMined\"},\"y\":{\"field\":\"TotalCoinSupply\"}},\"id\":\"1199\",\"type\":\"Scatter\"},{\"attributes\":{\"fill_alpha\":{\"value\":0.2},\"fill_color\":{\"value\":\"#2ba02b\"},\"line_alpha\":{\"value\":0.2},\"line_color\":{\"value\":\"#2ba02b\"},\"size\":{\"units\":\"screen\",\"value\":5.477225575051661},\"x\":{\"field\":\"TotalCoinsMined\"},\"y\":{\"field\":\"TotalCoinSupply\"}},\"id\":\"1238\",\"type\":\"Scatter\"},{\"attributes\":{\"fill_alpha\":{\"value\":0.1},\"fill_color\":{\"value\":\"#1f77b3\"},\"line_alpha\":{\"value\":0.1},\"line_color\":{\"value\":\"#1f77b3\"},\"size\":{\"units\":\"screen\",\"value\":5.477225575051661},\"x\":{\"field\":\"TotalCoinsMined\"},\"y\":{\"field\":\"TotalCoinSupply\"}},\"id\":\"1200\",\"type\":\"Scatter\"},{\"attributes\":{},\"id\":\"1172\",\"type\":\"BasicTicker\"},{\"attributes\":{\"source\":{\"id\":\"1214\"}},\"id\":\"1221\",\"type\":\"CDSView\"},{\"attributes\":{\"bottom_units\":\"screen\",\"fill_alpha\":0.5,\"fill_color\":\"lightgrey\",\"left_units\":\"screen\",\"level\":\"overlay\",\"line_alpha\":1.0,\"line_color\":\"black\",\"line_dash\":[4,4],\"line_width\":2,\"right_units\":\"screen\",\"top_units\":\"screen\"},\"id\":\"1184\",\"type\":\"BoxAnnotation\"},{\"attributes\":{\"data_source\":{\"id\":\"1254\"},\"glyph\":{\"id\":\"1257\"},\"hover_glyph\":null,\"muted_glyph\":{\"id\":\"1259\"},\"nonselection_glyph\":{\"id\":\"1258\"},\"selection_glyph\":null,\"view\":{\"id\":\"1261\"}},\"id\":\"1260\",\"type\":\"GlyphRenderer\"},{\"attributes\":{\"source\":{\"id\":\"1233\"}},\"id\":\"1240\",\"type\":\"CDSView\"},{\"attributes\":{\"fill_alpha\":{\"value\":0.1},\"fill_color\":{\"value\":\"#d62628\"},\"line_alpha\":{\"value\":0.1},\"line_color\":{\"value\":\"#d62628\"},\"size\":{\"units\":\"screen\",\"value\":5.477225575051661},\"x\":{\"field\":\"TotalCoinsMined\"},\"y\":{\"field\":\"TotalCoinSupply\"}},\"id\":\"1258\",\"type\":\"Scatter\"},{\"attributes\":{},\"id\":\"1180\",\"type\":\"PanTool\"},{\"attributes\":{\"data\":{\"Class\":[0,0,0,0,0,0,0,0,0,0,0,0,0,0,0,0,0,0,0,0,0,0,0,0,0,0,0,0,0,0,0,0,0,0,0,0,0,0,0,0,0,0,0,0,0,0,0,0,0,0,0,0,0,0,0,0,0,0,0,0,0,0,0,0,0,0,0,0,0,0,0,0,0,0,0,0,0,0,0,0,0,0,0,0,0,0,0,0,0,0,0,0,0,0,0,0,0,0,0,0,0,0,0,0,0,0,0,0,0,0,0,0,0,0,0,0,0,0,0,0,0,0,0,0,0,0,0,0,0,0,0,0,0,0,0,0,0,0,0,0,0,0,0,0,0,0,0,0,0,0,0,0,0,0,0,0,0,0,0,0,0,0,0,0,0,0,0,0,0,0,0,0,0,0,0,0,0,0,0,0,0,0,0,0,0,0,0,0,0,0,0,0,0,0,0,0,0,0,0,0,0,0,0,0,0,0,0,0,0,0,0,0,0,0,0,0,0,0,0,0,0,0,0,0,0,0,0,0,0,0,0,0,0,0,0,0,0,0,0,0,0,0,0,0,0,0,0,0,0,0,0,0,0,0,0,0,0,0,0,0,0,0,0,0,0,0,0,0,0,0,0,0,0,0,0,0,0,0,0,0,0,0,0,0,0,0,0,0,0],\"CoinName\":[\"42 Coin\",\"404Coin\",\"EliteCoin\",\"Dash\",\"Bitshares\",\"BitcoinDark\",\"PayCoin\",\"KoboCoin\",\"Aurora Coin\",\"BlueCoin\",\"EnergyCoin\",\"BitBar\",\"CryptoBullion\",\"CasinoCoin\",\"Diamond\",\"Exclusive Coin\",\"FlutterCoin\",\"HoboNickels\",\"HyperStake\",\"IOCoin\",\"MaxCoin\",\"MintCoin\",\"MazaCoin\",\"Nautilus Coin\",\"NavCoin\",\"OpalCoin\",\"Orbitcoin\",\"PotCoin\",\"PhoenixCoin\",\"Reddcoin\",\"SuperCoin\",\"SyncCoin\",\"TeslaCoin\",\"TittieCoin\",\"TorCoin\",\"UnitaryStatus Dollar\",\"UltraCoin\",\"VeriCoin\",\"X11 Coin\",\"Crypti\",\"StealthCoin\",\"ZCC Coin\",\"BurstCoin\",\"StorjCoin\",\"Neutron\",\"FairCoin\",\"RubyCoin\",\"Kore\",\"Dnotes\",\"8BIT Coin\",\"Sativa Coin\",\"Ucoin\",\"Vtorrent\",\"IslaCoin\",\"Nexus\",\"Droidz\",\"Squall Coin\",\"Diggits\",\"Paycon\",\"Emercoin\",\"EverGreenCoin\",\"Decred\",\"EDRCoin\",\"Hitcoin\",\"DubaiCoin\",\"PWR Coin\",\"BillaryCoin\",\"GPU Coin\",\"EuropeCoin\",\"ZeitCoin\",\"SwingCoin\",\"SafeExchangeCoin\",\"Nebuchadnezzar\",\"Ratecoin\",\"Revenu\",\"Clockcoin\",\"VIP Tokens\",\"BitSend\",\"Let it Ride\",\"PutinCoin\",\"iBankCoin\",\"Frankywillcoin\",\"MudraCoin\",\"Lutetium Coin\",\"GoldBlocks\",\"CarterCoin\",\"BitTokens\",\"MustangCoin\",\"ZoneCoin\",\"RootCoin\",\"BitCurrency\",\"Swiscoin\",\"BuzzCoin\",\"Opair\",\"PesoBit\",\"Halloween Coin\",\"CoffeeCoin\",\"RoyalCoin\",\"GanjaCoin V2\",\"TeamUP\",\"LanaCoin\",\"ARK\",\"InsaneCoin\",\"EmberCoin\",\"XenixCoin\",\"FreeCoin\",\"PLNCoin\",\"AquariusCoin\",\"Creatio\",\"Eternity\",\"Eurocoin\",\"BitcoinFast\",\"Stakenet\",\"BitConnect Coin\",\"MoneyCoin\",\"Enigma\",\"Russiacoin\",\"PandaCoin\",\"GameUnits\",\"GAKHcoin\",\"Allsafe\",\"LiteCreed\",\"Klingon Empire Darsek\",\"Internet of People\",\"KushCoin\",\"Printerium\",\"Impeach\",\"Zilbercoin\",\"FirstCoin\",\"FindCoin\",\"OpenChat\",\"RenosCoin\",\"VirtacoinPlus\",\"TajCoin\",\"Impact\",\"Atmos\",\"HappyCoin\",\"MacronCoin\",\"Condensate\",\"Independent Money System\",\"ArgusCoin\",\"LomoCoin\",\"ProCurrency\",\"GoldReserve\",\"GrowthCoin\",\"Phreak\",\"Degas Coin\",\"HTML5 Coin\",\"Ultimate Secure Cash\",\"QTUM\",\"Espers\",\"Denarius\",\"Virta Unique Coin\",\"Bitcoin Planet\",\"BritCoin\",\"Linda\",\"DeepOnion\",\"Signatum\",\"Cream\",\"Monoeci\",\"Draftcoin\",\"Vechain\",\"Stakecoin\",\"CoinonatX\",\"Ethereum Dark\",\"Obsidian\",\"Cardano\",\"Regalcoin\",\"TrezarCoin\",\"TerraNovaCoin\",\"Rupee\",\"WomenCoin\",\"Theresa May Coin\",\"NamoCoin\",\"LUXCoin\",\"Xios\",\"Bitcloud 2.0\",\"KekCoin\",\"BlackholeCoin\",\"Infinity Economics\",\"Magnet\",\"Lamden Tau\",\"Electra\",\"Bitcoin Diamond\",\"Cash & Back Coin\",\"Bulwark\",\"Kalkulus\",\"GermanCoin\",\"LiteCoin Ultra\",\"PhantomX\",\"Digiwage\",\"Trollcoin\",\"Litecoin Plus\",\"Monkey Project\",\"TokenPay\",\"1717 Masonic Commemorative Token\",\"My Big Coin\",\"Unified Society USDEX\",\"Tokyo Coin\",\"Stipend\",\"Pushi\",\"Ellerium\",\"Velox\",\"Ontology\",\"Bitspace\",\"Briacoin\",\"Ignition\",\"MedicCoin\",\"Bitcoin Green\",\"Deviant Coin\",\"Abjcoin\",\"Semux\",\"Carebit\",\"Zealium\",\"Proton\",\"iDealCash\",\"Bitcoin Incognito\",\"HollyWoodCoin\",\"Swisscoin\",\"Xt3ch\",\"TheVig\",\"EmaratCoin\",\"Dekado\",\"Lynx\",\"Poseidon Quark\",\"BitcoinWSpectrum\",\"Muse\",\"Trivechain\",\"Dystem\",\"Giant\",\"Peony Coin\",\"Absolute Coin\",\"Vitae\",\"TPCash\",\"ARENON\",\"EUNO\",\"MMOCoin\",\"Ketan\",\"XDNA\",\"PAXEX\",\"ThunderStake\",\"Kcash\",\"Acute Angle Cloud\",\"Bettex coin\",\"BitMoney\",\"Junson Ming Chan Coin\",\"HerbCoin\",\"PirateCash\",\"Oduwa\",\"Galilel\",\"Crypto Sports\",\"Credit\",\"Dash Platinum\",\"Nasdacoin\",\"Beetle Coin\",\"Titan Coin\",\"Award\",\"Insane Coin\",\"ALAX\",\"LiteDoge\",\"TruckCoin\",\"OrangeCoin\",\"BitstarCoin\",\"NeosCoin\",\"HyperCoin\",\"PinkCoin\",\"AudioCoin\",\"IncaKoin\",\"Piggy Coin\",\"Genstake\",\"XiaoMiCoin\",\"CapriCoin\",\" ClubCoin\",\"Radium\",\"Creditbit \",\"OKCash\",\"Lisk\",\"HiCoin\",\"WhiteCoin\",\"FriendshipCoin\",\"Triangles Coin\",\"EOS\",\"Oxycoin\",\"TigerCash\",\"Particl\",\"Nxt\",\"ZEPHYR\",\"Gapcoin\",\"BitcoinPlus\"],\"TotalCoinSupply\":{\"__ndarray__\":\"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\",\"dtype\":\"float64\",\"order\":\"little\",\"shape\":[289]},\"TotalCoinsMined\":{\"__ndarray__\":\"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\",\"dtype\":\"float64\",\"order\":\"little\",\"shape\":[289]}},\"selected\":{\"id\":\"1197\"},\"selection_policy\":{\"id\":\"1211\"}},\"id\":\"1196\",\"type\":\"ColumnDataSource\"},{\"attributes\":{\"fill_alpha\":{\"value\":0.2},\"fill_color\":{\"value\":\"#ff7e0e\"},\"line_alpha\":{\"value\":0.2},\"line_color\":{\"value\":\"#ff7e0e\"},\"size\":{\"units\":\"screen\",\"value\":5.477225575051661},\"x\":{\"field\":\"TotalCoinsMined\"},\"y\":{\"field\":\"TotalCoinSupply\"}},\"id\":\"1219\",\"type\":\"Scatter\"},{\"attributes\":{\"source\":{\"id\":\"1254\"}},\"id\":\"1261\",\"type\":\"CDSView\"},{\"attributes\":{\"click_policy\":\"mute\",\"items\":[{\"id\":\"1213\"},{\"id\":\"1232\"},{\"id\":\"1253\"},{\"id\":\"1276\"}],\"location\":[0,0],\"title\":\"Class\"},\"id\":\"1212\",\"type\":\"Legend\"},{\"attributes\":{\"axis\":{\"id\":\"1175\"},\"dimension\":1,\"grid_line_color\":null,\"ticker\":null},\"id\":\"1178\",\"type\":\"Grid\"},{\"attributes\":{},\"id\":\"1197\",\"type\":\"Selection\"},{\"attributes\":{},\"id\":\"1215\",\"type\":\"Selection\"},{\"attributes\":{\"axis_label\":\"TotalCoinsMined\",\"bounds\":\"auto\",\"formatter\":{\"id\":\"1193\"},\"major_label_orientation\":\"horizontal\",\"ticker\":{\"id\":\"1172\"}},\"id\":\"1171\",\"type\":\"LinearAxis\"},{\"attributes\":{\"fill_alpha\":{\"value\":0.1},\"fill_color\":{\"value\":\"#2ba02b\"},\"line_alpha\":{\"value\":0.1},\"line_color\":{\"value\":\"#2ba02b\"},\"size\":{\"units\":\"screen\",\"value\":5.477225575051661},\"x\":{\"field\":\"TotalCoinsMined\"},\"y\":{\"field\":\"TotalCoinSupply\"}},\"id\":\"1237\",\"type\":\"Scatter\"},{\"attributes\":{\"fill_color\":{\"value\":\"#d62628\"},\"line_color\":{\"value\":\"#d62628\"},\"size\":{\"units\":\"screen\",\"value\":5.477225575051661},\"x\":{\"field\":\"TotalCoinsMined\"},\"y\":{\"field\":\"TotalCoinSupply\"}},\"id\":\"1257\",\"type\":\"Scatter\"},{\"attributes\":{\"label\":{\"value\":\"0\"},\"renderers\":[{\"id\":\"1202\"}]},\"id\":\"1213\",\"type\":\"LegendItem\"},{\"attributes\":{\"fill_alpha\":{\"value\":0.2},\"fill_color\":{\"value\":\"#d62628\"},\"line_alpha\":{\"value\":0.2},\"line_color\":{\"value\":\"#d62628\"},\"size\":{\"units\":\"screen\",\"value\":5.477225575051661},\"x\":{\"field\":\"TotalCoinsMined\"},\"y\":{\"field\":\"TotalCoinSupply\"}},\"id\":\"1259\",\"type\":\"Scatter\"}],\"root_ids\":[\"1154\"]},\"title\":\"Bokeh Application\",\"version\":\"2.1.1\"}};\n",
       "  var render_items = [{\"docid\":\"8afcf9e5-6eee-42e8-8357-c9287dd41e03\",\"root_ids\":[\"1154\"],\"roots\":{\"1154\":\"957b137a-5de5-4a19-9126-474fce87e793\"}}];\n",
       "  root.Bokeh.embed.embed_items_notebook(docs_json, render_items);\n",
       "  }\n",
       "if (root.Bokeh !== undefined) {\n",
       "    embed_document(root);\n",
       "  } else {\n",
       "    var attempts = 0;\n",
       "    var timer = setInterval(function(root) {\n",
       "      if (root.Bokeh !== undefined) {\n",
       "        clearInterval(timer);\n",
       "        embed_document(root);\n",
       "      } else if (document.readyState == \"complete\") {\n",
       "        attempts++;\n",
       "        if (attempts > 100) {\n",
       "          clearInterval(timer);\n",
       "          console.log(\"Bokeh: ERROR: Unable to run BokehJS code because BokehJS library is missing\");\n",
       "        }\n",
       "      }\n",
       "    }, 10, root)\n",
       "  }\n",
       "})(window);</script>"
      ],
      "text/plain": [
       ":NdOverlay   [Class]\n",
       "   :Scatter   [TotalCoinsMined]   (TotalCoinSupply,CoinName)"
      ]
     },
     "execution_count": 22,
     "metadata": {
      "application/vnd.holoviews_exec.v0+json": {
       "id": "1154"
      }
     },
     "output_type": "execute_result"
    }
   ],
   "source": [
    "# Create a hvplot.scatter plot using x=\"TotalCoinsMined\" and y=\"TotalCoinSupply\".\n",
    "# YOUR CODE HERE\n"
   ]
  },
  {
   "cell_type": "code",
   "execution_count": null,
   "metadata": {},
   "outputs": [],
   "source": []
  }
 ],
 "metadata": {
  "file_extension": ".py",
  "kernelspec": {
   "display_name": "mlenv",
   "language": "python",
   "name": "mlenv"
  },
  "language_info": {
   "codemirror_mode": {
    "name": "ipython",
    "version": 3
   },
   "file_extension": ".py",
   "mimetype": "text/x-python",
   "name": "python",
   "nbconvert_exporter": "python",
   "pygments_lexer": "ipython3",
   "version": "3.7.13"
  },
  "latex_envs": {
   "LaTeX_envs_menu_present": true,
   "autoclose": false,
   "autocomplete": true,
   "bibliofile": "biblio.bib",
   "cite_by": "apalike",
   "current_citInitial": 1,
   "eqLabelWithNumbers": true,
   "eqNumInitial": 1,
   "hotkeys": {
    "equation": "Ctrl-E",
    "itemize": "Ctrl-I"
   },
   "labels_anchors": false,
   "latex_user_defs": false,
   "report_style_numbering": false,
   "user_envs_cfg": false
  },
  "mimetype": "text/x-python",
  "name": "python",
  "npconvert_exporter": "python",
  "pygments_lexer": "ipython3",
  "version": 3
 },
 "nbformat": 4,
 "nbformat_minor": 2
}
